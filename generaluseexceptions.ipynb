{
 "cells": [
  {
   "cell_type": "code",
   "execution_count": 1,
   "id": "e99ba693-1ff7-4d68-a640-782fec62b7b3",
   "metadata": {},
   "outputs": [
    {
     "name": "stdout",
     "output_type": "stream",
     "text": [
      "division by zero\n"
     ]
    }
   ],
   "source": [
    "try:\n",
    "    a=10\n",
    "    10/0\n",
    "except ZeroDivisionError as e:\n",
    "    print(e)"
   ]
  },
  {
   "cell_type": "code",
   "execution_count": 2,
   "id": "816d9bc3-65ee-43c7-9e2e-b75983681d3c",
   "metadata": {},
   "outputs": [
    {
     "name": "stdout",
     "output_type": "stream",
     "text": [
      "invalid literal for int() with base 10: 'sudh'\n"
     ]
    }
   ],
   "source": [
    "try:\n",
    "    int(\"sudh\")\n",
    "except (TypeError,ValueError) as e:\n",
    "    print(e)"
   ]
  },
  {
   "cell_type": "code",
   "execution_count": 3,
   "id": "0f2fac4f-573f-4784-811d-f5eb5e67cbff",
   "metadata": {},
   "outputs": [
    {
     "name": "stdout",
     "output_type": "stream",
     "text": [
      "this will catch the error\n"
     ]
    }
   ],
   "source": [
    "try:\n",
    "    int(\"sudh\")\n",
    "except :\n",
    "    print(\"this will catch the error\")"
   ]
  },
  {
   "cell_type": "code",
   "execution_count": 4,
   "id": "4eb392a6-0b92-479a-837c-0951107c8b2e",
   "metadata": {},
   "outputs": [
    {
     "name": "stdout",
     "output_type": "stream",
     "text": [
      "No module named 'sush'\n"
     ]
    }
   ],
   "source": [
    "try:\n",
    "    import sush\n",
    "except ImportError as e:\n",
    "    print(e)\n",
    "    \n",
    "    "
   ]
  },
  {
   "cell_type": "code",
   "execution_count": 5,
   "id": "13368e26-1d15-4b54-b03d-2efe4d4dc8be",
   "metadata": {},
   "outputs": [
    {
     "name": "stdout",
     "output_type": "stream",
     "text": [
      "'key10'\n"
     ]
    }
   ],
   "source": [
    "try:\n",
    "    l={1:[1,2,3,4,5],\"key\":\"sush\"}\n",
    "    l[\"key10\"]\n",
    "except KeyError as e:\n",
    "    print(e)\n",
    "    \n"
   ]
  },
  {
   "cell_type": "code",
   "execution_count": 6,
   "id": "21940d75-2000-4eee-b5a4-4315431d855d",
   "metadata": {},
   "outputs": [
    {
     "name": "stdout",
     "output_type": "stream",
     "text": [
      "'str' object has no attribute 'test'\n"
     ]
    }
   ],
   "source": [
    "try:\n",
    "    \"sush\".test()\n",
    "except AttributeError as e:\n",
    "    print(e)"
   ]
  },
  {
   "cell_type": "code",
   "execution_count": 7,
   "id": "9072b8b1-255b-4866-8904-90d4295f6c2f",
   "metadata": {},
   "outputs": [
    {
     "name": "stdout",
     "output_type": "stream",
     "text": [
      "list index out of range\n"
     ]
    }
   ],
   "source": [
    "try:\n",
    "    l=[1,2,3,5,11]\n",
    "    l[10]\n",
    "except IndexError as e:\n",
    "    print(e)"
   ]
  },
  {
   "cell_type": "code",
   "execution_count": 8,
   "id": "bb080971-2cf5-4f79-a6bc-c5c841998bb7",
   "metadata": {},
   "outputs": [
    {
     "name": "stdout",
     "output_type": "stream",
     "text": [
      "unsupported operand type(s) for +: 'int' and 'str'\n"
     ]
    }
   ],
   "source": [
    "try:\n",
    "    11+\"sush\"\n",
    "except TypeError as e:\n",
    "    print(e)\n",
    "    "
   ]
  },
  {
   "cell_type": "code",
   "execution_count": 9,
   "id": "f2626ac9-b230-4162-a195-3d388c051350",
   "metadata": {},
   "outputs": [
    {
     "name": "stdout",
     "output_type": "stream",
     "text": [
      "[Errno 2] No such file or directory: 'ts.txt'\n"
     ]
    }
   ],
   "source": [
    "try:\n",
    "    with open (\"ts.txt\",\"r\") as f:\n",
    "        f.read()\n",
    "except FileNotFoundError as e:\n",
    "    print(e)"
   ]
  },
  {
   "cell_type": "code",
   "execution_count": 10,
   "id": "ad648f50-c6f7-4fbf-92bf-4cba7ae9a026",
   "metadata": {},
   "outputs": [
    {
     "name": "stdout",
     "output_type": "stream",
     "text": [
      "[Errno 2] No such file or directory: 'ts.txt'\n"
     ]
    }
   ],
   "source": [
    "try:\n",
    "    with open (\"ts.txt\",\"r\") as f:\n",
    "        f.read()\n",
    "except Exception as e:\n",
    "    print(e)\n",
    "except FileNotFoundError as e:\n",
    "    print(e)"
   ]
  },
  {
   "cell_type": "code",
   "execution_count": 11,
   "id": "164b202b-b0da-49b7-b3c2-921305e545c3",
   "metadata": {},
   "outputs": [
    {
     "name": "stdout",
     "output_type": "stream",
     "text": [
      "test [Errno 2] No such file or directory: 'ts.txt'\n"
     ]
    }
   ],
   "source": [
    "try:\n",
    "    with open (\"ts.txt\",\"r\") as f:\n",
    "        f.read()\n",
    "except Exception as e:\n",
    "    print(\"test\",e)\n",
    "except FileNotFoundError as e:\n",
    "    print(\"this is my given type error\",e)"
   ]
  },
  {
   "cell_type": "code",
   "execution_count": 12,
   "id": "54a6acaa-9284-4afa-bbb7-e0233ad2ba5c",
   "metadata": {},
   "outputs": [],
   "source": [
    "def test(file):\n",
    "    try:\n",
    "         with open (file,\"r\") as f:\n",
    "            f.read()\n",
    "    except Exception as e:\n",
    "        print(\"test\",e)\n",
    "    except FileNotFoundError as e:\n",
    "        print(\"this is my given type error\",e)"
   ]
  },
  {
   "cell_type": "code",
   "execution_count": 13,
   "id": "9cfb57b3-7825-42a2-9172-1dea280882e2",
   "metadata": {},
   "outputs": [
    {
     "ename": "ValueError",
     "evalue": "invalid literal for int() with base 10: ''",
     "output_type": "error",
     "traceback": [
      "\u001b[0;31m---------------------------------------------------------------------------\u001b[0m",
      "\u001b[0;31mValueError\u001b[0m                                Traceback (most recent call last)",
      "Cell \u001b[0;32mIn[13], line 1\u001b[0m\n\u001b[0;32m----> 1\u001b[0m X \u001b[38;5;241m=\u001b[39m \u001b[38;5;28;43mint\u001b[39;49m\u001b[43m(\u001b[49m\u001b[38;5;28;43minput\u001b[39;49m\u001b[43m(\u001b[49m\u001b[38;5;124;43m\"\u001b[39;49m\u001b[38;5;124;43mEnter a Number\u001b[39;49m\u001b[38;5;124;43m\"\u001b[39;49m\u001b[43m)\u001b[49m\u001b[43m)\u001b[49m \n\u001b[1;32m      3\u001b[0m R \u001b[38;5;241m=\u001b[39m X\u001b[38;5;241m*\u001b[39mX \n\u001b[1;32m      4\u001b[0m \u001b[38;5;28mprint\u001b[39m (\u001b[38;5;124m\"\u001b[39m\u001b[38;5;124mSquare=\u001b[39m\u001b[38;5;124m\"\u001b[39m,R)\n",
      "\u001b[0;31mValueError\u001b[0m: invalid literal for int() with base 10: ''"
     ]
    }
   ],
   "source": [
    "X = int(input(\"Enter a Number\")) \n",
    "\n",
    "R = X*X \n",
    "print (\"Square=\",R)\n"
   ]
  },
  {
   "cell_type": "code",
   "execution_count": null,
   "id": "8fa90dce-058b-4008-84eb-3052fe984e67",
   "metadata": {},
   "outputs": [],
   "source": []
  }
 ],
 "metadata": {
  "kernelspec": {
   "display_name": "Python 3.8.10 64-bit",
   "language": "python",
   "name": "python3"
  },
  "language_info": {
   "codemirror_mode": {
    "name": "ipython",
    "version": 3
   },
   "file_extension": ".py",
   "mimetype": "text/x-python",
   "name": "python",
   "nbconvert_exporter": "python",
   "pygments_lexer": "ipython3",
   "version": "3.8.10"
  },
  "vscode": {
   "interpreter": {
    "hash": "e7370f93d1d0cde622a1f8e1c04877d8463912d04d973331ad4851f04de6915a"
   }
  }
 },
 "nbformat": 4,
 "nbformat_minor": 5
}
