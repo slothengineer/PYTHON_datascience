{
 "cells": [
  {
   "cell_type": "markdown",
   "id": "f1871be9-e109-4f4a-a7c1-e6c7e9e92b13",
   "metadata": {},
   "source": [
    "## logical operators"
   ]
  },
  {
   "cell_type": "code",
   "execution_count": 8,
   "id": "51cf3552-7d7c-4513-9a0a-03fa5540be0b",
   "metadata": {},
   "outputs": [
    {
     "data": {
      "text/plain": [
       "True"
      ]
     },
     "execution_count": 8,
     "metadata": {},
     "output_type": "execute_result"
    }
   ],
   "source": [
    "True and True"
   ]
  },
  {
   "cell_type": "code",
   "execution_count": 9,
   "id": "52388f04-989a-4757-9a0a-b1bdce8319a8",
   "metadata": {},
   "outputs": [
    {
     "data": {
      "text/plain": [
       "0"
      ]
     },
     "execution_count": 9,
     "metadata": {},
     "output_type": "execute_result"
    }
   ],
   "source": [
    "True*False"
   ]
  },
  {
   "cell_type": "code",
   "execution_count": 10,
   "id": "8dc5d5dc-276a-42ed-aae2-c369329c9d8b",
   "metadata": {},
   "outputs": [
    {
     "data": {
      "text/plain": [
       "1"
      ]
     },
     "execution_count": 10,
     "metadata": {},
     "output_type": "execute_result"
    }
   ],
   "source": [
    "True*True"
   ]
  },
  {
   "cell_type": "code",
   "execution_count": 11,
   "id": "c0109b02-3d15-4b0f-b268-133566f60148",
   "metadata": {},
   "outputs": [
    {
     "data": {
      "text/plain": [
       "True"
      ]
     },
     "execution_count": 11,
     "metadata": {},
     "output_type": "execute_result"
    }
   ],
   "source": [
    "not(True)*False"
   ]
  },
  {
   "cell_type": "code",
   "execution_count": 27,
   "id": "95c7c447-1553-42c5-a9c5-1e3d32e5bf93",
   "metadata": {},
   "outputs": [
    {
     "data": {
      "text/plain": [
       "0"
      ]
     },
     "execution_count": 27,
     "metadata": {},
     "output_type": "execute_result"
    }
   ],
   "source": [
    "(not(True))*False"
   ]
  },
  {
   "cell_type": "code",
   "execution_count": 28,
   "id": "10a4636a-01a5-4702-ad5e-642a723b2295",
   "metadata": {},
   "outputs": [
    {
     "data": {
      "text/plain": [
       "True"
      ]
     },
     "execution_count": 28,
     "metadata": {},
     "output_type": "execute_result"
    }
   ],
   "source": [
    "not False*False"
   ]
  },
  {
   "cell_type": "code",
   "execution_count": 14,
   "id": "5fcf7841-964c-425b-bda6-ab824438e5da",
   "metadata": {},
   "outputs": [
    {
     "data": {
      "text/plain": [
       "False"
      ]
     },
     "execution_count": 14,
     "metadata": {},
     "output_type": "execute_result"
    }
   ],
   "source": [
    "bool((not False)*False)"
   ]
  },
  {
   "cell_type": "code",
   "execution_count": 15,
   "id": "5b8340b9-6e8f-41f2-b7dc-409111b20c16",
   "metadata": {},
   "outputs": [
    {
     "data": {
      "text/plain": [
       "True"
      ]
     },
     "execution_count": 15,
     "metadata": {},
     "output_type": "execute_result"
    }
   ],
   "source": [
    "not(False)*False==True"
   ]
  },
  {
   "cell_type": "code",
   "execution_count": 29,
   "id": "0058e790-1609-4e42-805c-3c551b4f2912",
   "metadata": {},
   "outputs": [
    {
     "data": {
      "text/plain": [
       "0"
      ]
     },
     "execution_count": 29,
     "metadata": {},
     "output_type": "execute_result"
    }
   ],
   "source": [
    "False * (not False)\n",
    "\n",
    "\n",
    "\n"
   ]
  },
  {
   "cell_type": "code",
   "execution_count": 17,
   "id": "188cb6fd-6b63-4041-8844-fe719969afc1",
   "metadata": {},
   "outputs": [
    {
     "data": {
      "text/plain": [
       "True"
      ]
     },
     "execution_count": 17,
     "metadata": {},
     "output_type": "execute_result"
    }
   ],
   "source": [
    "lst_a=[1,2,3,4,5]\n",
    "lst_b=[1,2,3,4,5]\n",
    "lst_a is not lst_b"
   ]
  },
  {
   "cell_type": "code",
   "execution_count": 30,
   "id": "dc4e12af-2ed3-4f75-9139-c788d77d881b",
   "metadata": {},
   "outputs": [
    {
     "data": {
      "text/plain": [
       "False"
      ]
     },
     "execution_count": 30,
     "metadata": {},
     "output_type": "execute_result"
    }
   ],
   "source": [
    "lst_a=[1,2,3,4,5]\n",
    "lst_b=[1,2,3,4,5]\n",
    "lst_a is lst_b"
   ]
  },
  {
   "cell_type": "code",
   "execution_count": 31,
   "id": "a36fcb06-ad29-44f9-9522-8aa3c5fc53ee",
   "metadata": {},
   "outputs": [
    {
     "name": "stdout",
     "output_type": "stream",
     "text": [
      "140565297521280\n",
      "140565298386880\n"
     ]
    }
   ],
   "source": [
    "print(id(lst_a))\n",
    "print(id(lst_b))"
   ]
  },
  {
   "cell_type": "code",
   "execution_count": 32,
   "id": "b853b570-a3b6-4a0f-bf68-1a86bb91cdb5",
   "metadata": {},
   "outputs": [
    {
     "data": {
      "text/plain": [
       "False"
      ]
     },
     "execution_count": 32,
     "metadata": {},
     "output_type": "execute_result"
    }
   ],
   "source": [
    "lst_a!=lst_b"
   ]
  },
  {
   "cell_type": "code",
   "execution_count": 21,
   "id": "02167dc3-5698-44c4-8f75-9bc152d10597",
   "metadata": {},
   "outputs": [
    {
     "data": {
      "text/plain": [
       "[1, 2, 3, 4, 5]"
      ]
     },
     "execution_count": 21,
     "metadata": {},
     "output_type": "execute_result"
    }
   ],
   "source": [
    "lst_a"
   ]
  },
  {
   "cell_type": "code",
   "execution_count": 22,
   "id": "f3b378fb-7c3a-43d5-9dd4-dbc65262d847",
   "metadata": {},
   "outputs": [
    {
     "data": {
      "text/plain": [
       "1"
      ]
     },
     "execution_count": 22,
     "metadata": {},
     "output_type": "execute_result"
    }
   ],
   "source": [
    "lst_a[0]"
   ]
  },
  {
   "cell_type": "code",
   "execution_count": 23,
   "id": "68456d65-ab55-462c-b97f-2e541ee5e6c8",
   "metadata": {},
   "outputs": [],
   "source": [
    "lst_a[0]=100"
   ]
  },
  {
   "cell_type": "code",
   "execution_count": 24,
   "id": "5e182fab-c0e2-426c-958a-1d24801acfb9",
   "metadata": {},
   "outputs": [
    {
     "data": {
      "text/plain": [
       "[100, 2, 3, 4, 5]"
      ]
     },
     "execution_count": 24,
     "metadata": {},
     "output_type": "execute_result"
    }
   ],
   "source": [
    "lst_a"
   ]
  },
  {
   "cell_type": "markdown",
   "id": "5cb0d31e-32ad-4e5a-ac34-3ac236574153",
   "metadata": {},
   "source": [
    "### observation- lists are mutable"
   ]
  },
  {
   "cell_type": "code",
   "execution_count": 34,
   "id": "72514b0e-1ff0-49b2-85b8-e4f5bb795b40",
   "metadata": {},
   "outputs": [
    {
     "data": {
      "text/plain": [
       "'g'"
      ]
     },
     "execution_count": 34,
     "metadata": {},
     "output_type": "execute_result"
    }
   ],
   "source": [
    "str1='great'\n",
    "str1[0]"
   ]
  },
  {
   "cell_type": "code",
   "execution_count": 35,
   "id": "f941a2da-1477-4050-a8b3-24a4b2e3c848",
   "metadata": {},
   "outputs": [
    {
     "ename": "TypeError",
     "evalue": "'str' object does not support item assignment",
     "output_type": "error",
     "traceback": [
      "\u001b[0;31m---------------------------------------------------------------------------\u001b[0m",
      "\u001b[0;31mTypeError\u001b[0m                                 Traceback (most recent call last)",
      "Cell \u001b[0;32mIn[35], line 1\u001b[0m\n\u001b[0;32m----> 1\u001b[0m \u001b[43mstr1\u001b[49m\u001b[43m[\u001b[49m\u001b[38;5;241;43m0\u001b[39;49m\u001b[43m]\u001b[49m\u001b[38;5;241m=\u001b[39m\u001b[38;5;124m'\u001b[39m\u001b[38;5;124mm\u001b[39m\u001b[38;5;124m'\u001b[39m \n",
      "\u001b[0;31mTypeError\u001b[0m: 'str' object does not support item assignment"
     ]
    }
   ],
   "source": [
    "str1[0]='m' ## observation- strings are not mutable"
   ]
  },
  {
   "cell_type": "markdown",
   "id": "7efa03be-1923-411c-81f4-29a13c1748b1",
   "metadata": {},
   "source": [
    "## comparison operation"
   ]
  },
  {
   "cell_type": "markdown",
   "id": "c85af9df-43b6-41e4-9822-d41d8f6fc69c",
   "metadata": {},
   "source": [
    "### airthmatic operator"
   ]
  },
  {
   "cell_type": "code",
   "execution_count": 36,
   "id": "38535faf-558b-4b8b-98de-8ceaed9fa390",
   "metadata": {},
   "outputs": [],
   "source": [
    "a=100\n",
    "b=50"
   ]
  },
  {
   "cell_type": "code",
   "execution_count": 37,
   "id": "1d14b489-536f-4389-bd0e-22dcab7a96d3",
   "metadata": {},
   "outputs": [
    {
     "data": {
      "text/plain": [
       "2.0"
      ]
     },
     "execution_count": 37,
     "metadata": {},
     "output_type": "execute_result"
    }
   ],
   "source": [
    "a/b"
   ]
  },
  {
   "cell_type": "code",
   "execution_count": 38,
   "id": "17d59123-f97b-4175-935a-28adde82b4ad",
   "metadata": {},
   "outputs": [
    {
     "data": {
      "text/plain": [
       "2"
      ]
     },
     "execution_count": 38,
     "metadata": {},
     "output_type": "execute_result"
    }
   ],
   "source": [
    "a//b"
   ]
  },
  {
   "cell_type": "code",
   "execution_count": 39,
   "id": "cc0d34ff-1a10-46c0-83eb-db74ef5b690b",
   "metadata": {},
   "outputs": [
    {
     "data": {
      "text/plain": [
       "0.5"
      ]
     },
     "execution_count": 39,
     "metadata": {},
     "output_type": "execute_result"
    }
   ],
   "source": [
    "b/a"
   ]
  },
  {
   "cell_type": "code",
   "execution_count": 40,
   "id": "7ea44cab-9832-45aa-9b94-8ab8d2a891ad",
   "metadata": {},
   "outputs": [
    {
     "data": {
      "text/plain": [
       "0"
      ]
     },
     "execution_count": 40,
     "metadata": {},
     "output_type": "execute_result"
    }
   ],
   "source": [
    "a%b"
   ]
  },
  {
   "cell_type": "code",
   "execution_count": 41,
   "id": "004548e9-22f6-4bad-bd53-aaa5c5ec844a",
   "metadata": {},
   "outputs": [
    {
     "data": {
      "text/plain": [
       "32"
      ]
     },
     "execution_count": 41,
     "metadata": {},
     "output_type": "execute_result"
    }
   ],
   "source": [
    "b&a"
   ]
  },
  {
   "cell_type": "markdown",
   "id": "cd64101c-cee8-4d03-b812-6f92f05bc844",
   "metadata": {},
   "source": [
    "### bitwise"
   ]
  },
  {
   "cell_type": "code",
   "execution_count": 42,
   "id": "d5ade5f8-abc0-4472-a3a9-9e0ae55c800e",
   "metadata": {},
   "outputs": [
    {
     "data": {
      "text/plain": [
       "'0b1001'"
      ]
     },
     "execution_count": 42,
     "metadata": {},
     "output_type": "execute_result"
    }
   ],
   "source": [
    "var=9\n",
    "bin(var)\n"
   ]
  },
  {
   "cell_type": "code",
   "execution_count": 43,
   "id": "31d240a6-536c-48ce-be2c-4334e783a0df",
   "metadata": {},
   "outputs": [
    {
     "data": {
      "text/plain": [
       "-10"
      ]
     },
     "execution_count": 43,
     "metadata": {},
     "output_type": "execute_result"
    }
   ],
   "source": [
    "~var"
   ]
  },
  {
   "cell_type": "code",
   "execution_count": 44,
   "id": "1fa85de0-0f1e-4e4c-909c-8b5b7ab9d312",
   "metadata": {},
   "outputs": [
    {
     "data": {
      "text/plain": [
       "29"
      ]
     },
     "execution_count": 44,
     "metadata": {},
     "output_type": "execute_result"
    }
   ],
   "source": [
    "var1=21\n",
    "var|var1"
   ]
  },
  {
   "cell_type": "code",
   "execution_count": 45,
   "id": "f0106d02-3dc5-4f81-aab5-0ed980014345",
   "metadata": {},
   "outputs": [
    {
     "data": {
      "text/plain": [
       "1"
      ]
     },
     "execution_count": 45,
     "metadata": {},
     "output_type": "execute_result"
    }
   ],
   "source": [
    "var1&var"
   ]
  },
  {
   "cell_type": "code",
   "execution_count": 46,
   "id": "bd883465-c20f-476b-94f8-92e98f349e6f",
   "metadata": {},
   "outputs": [
    {
     "data": {
      "text/plain": [
       "1"
      ]
     },
     "execution_count": 46,
     "metadata": {},
     "output_type": "execute_result"
    }
   ],
   "source": [
    "var&var1"
   ]
  },
  {
   "cell_type": "code",
   "execution_count": 47,
   "id": "b18634d8-a5da-4f6f-9d48-e0f077d7b99b",
   "metadata": {},
   "outputs": [
    {
     "data": {
      "text/plain": [
       "28"
      ]
     },
     "execution_count": 47,
     "metadata": {},
     "output_type": "execute_result"
    }
   ],
   "source": [
    "var1^var"
   ]
  },
  {
   "cell_type": "code",
   "execution_count": 48,
   "id": "5937f9f2-1e26-41ad-99ba-2e2fbc4179a0",
   "metadata": {},
   "outputs": [
    {
     "data": {
      "text/plain": [
       "0"
      ]
     },
     "execution_count": 48,
     "metadata": {},
     "output_type": "execute_result"
    }
   ],
   "source": [
    "var1>>var"
   ]
  },
  {
   "cell_type": "code",
   "execution_count": 49,
   "id": "6f8fdc3b-6216-41bf-a7c8-cc614daf0a15",
   "metadata": {},
   "outputs": [
    {
     "data": {
      "text/plain": [
       "0"
      ]
     },
     "execution_count": 49,
     "metadata": {},
     "output_type": "execute_result"
    }
   ],
   "source": [
    "var>>var1"
   ]
  },
  {
   "cell_type": "code",
   "execution_count": 50,
   "id": "a71aa9d7-323d-4182-a0bf-96fd47f4f745",
   "metadata": {},
   "outputs": [
    {
     "data": {
      "text/plain": [
       "18874368"
      ]
     },
     "execution_count": 50,
     "metadata": {},
     "output_type": "execute_result"
    }
   ],
   "source": [
    "var<<var1"
   ]
  },
  {
   "cell_type": "code",
   "execution_count": 51,
   "id": "d7ba094a-7430-4147-9877-ca91352532e1",
   "metadata": {},
   "outputs": [
    {
     "data": {
      "text/plain": [
       "10752"
      ]
     },
     "execution_count": 51,
     "metadata": {},
     "output_type": "execute_result"
    }
   ],
   "source": [
    "var1<<var"
   ]
  },
  {
   "cell_type": "code",
   "execution_count": 52,
   "id": "53036e27-0e7a-43d1-9f1c-3cd5d7bcc175",
   "metadata": {},
   "outputs": [
    {
     "data": {
      "text/plain": [
       "5"
      ]
     },
     "execution_count": 52,
     "metadata": {},
     "output_type": "execute_result"
    }
   ],
   "source": [
    "a=-6\n",
    "~a"
   ]
  },
  {
   "cell_type": "code",
   "execution_count": 53,
   "id": "b755da3c-7aa6-4685-90a3-4fbcc627e026",
   "metadata": {},
   "outputs": [
    {
     "name": "stdout",
     "output_type": "stream",
     "text": [
      "0b1001\n"
     ]
    }
   ],
   "source": [
    "a=bin(var)\n",
    "print(a)"
   ]
  },
  {
   "cell_type": "code",
   "execution_count": 54,
   "id": "c9cbccf5-0aae-4bc2-b831-37f9c60c3484",
   "metadata": {},
   "outputs": [
    {
     "name": "stdout",
     "output_type": "stream",
     "text": [
      "0b10101\n"
     ]
    }
   ],
   "source": [
    "b=bin(var1)\n",
    "print(b)"
   ]
  },
  {
   "cell_type": "code",
   "execution_count": 55,
   "id": "cf2daf38-2349-4746-bc66-de31bebd85a1",
   "metadata": {},
   "outputs": [
    {
     "data": {
      "text/plain": [
       "'0b1'"
      ]
     },
     "execution_count": 55,
     "metadata": {},
     "output_type": "execute_result"
    }
   ],
   "source": [
    "bin(1)"
   ]
  },
  {
   "cell_type": "code",
   "execution_count": 56,
   "id": "227d5d15-01a3-442f-ad1e-7fcb2602f757",
   "metadata": {},
   "outputs": [
    {
     "data": {
      "text/plain": [
       "'0b1001000000000000000000000'"
      ]
     },
     "execution_count": 56,
     "metadata": {},
     "output_type": "execute_result"
    }
   ],
   "source": [
    "bin(18874368)"
   ]
  },
  {
   "cell_type": "code",
   "execution_count": 57,
   "id": "f7ae67a6-20fa-469f-ab23-f15d37d82e66",
   "metadata": {},
   "outputs": [
    {
     "data": {
      "text/plain": [
       "36"
      ]
     },
     "execution_count": 57,
     "metadata": {},
     "output_type": "execute_result"
    }
   ],
   "source": [
    "9<<2"
   ]
  },
  {
   "cell_type": "code",
   "execution_count": 58,
   "id": "ae7be6b8-8a6b-4b0a-beb3-70801102f100",
   "metadata": {},
   "outputs": [
    {
     "data": {
      "text/plain": [
       "2"
      ]
     },
     "execution_count": 58,
     "metadata": {},
     "output_type": "execute_result"
    }
   ],
   "source": [
    "9>>2"
   ]
  },
  {
   "cell_type": "markdown",
   "id": "7d949244-0ab3-4e63-82c9-261dda601295",
   "metadata": {},
   "source": [
    "## data structure"
   ]
  },
  {
   "cell_type": "code",
   "execution_count": 59,
   "id": "7f98d48d-b4d2-4988-b22b-8d484574f845",
   "metadata": {},
   "outputs": [
    {
     "data": {
      "text/plain": [
       "<function str.encode(encoding='utf-8', errors='strict')>"
      ]
     },
     "execution_count": 59,
     "metadata": {},
     "output_type": "execute_result"
    }
   ],
   "source": [
    "str1='incredible india'\n",
    "str1.encode"
   ]
  },
  {
   "cell_type": "code",
   "execution_count": 60,
   "id": "4351b831-ded2-41f5-ac87-862548c54981",
   "metadata": {},
   "outputs": [
    {
     "data": {
      "text/plain": [
       "'i'"
      ]
     },
     "execution_count": 60,
     "metadata": {},
     "output_type": "execute_result"
    }
   ],
   "source": [
    "str1[11]"
   ]
  },
  {
   "cell_type": "code",
   "execution_count": 61,
   "id": "a3c3f7dd-2805-48b2-827e-248c3bc8e1ed",
   "metadata": {},
   "outputs": [
    {
     "data": {
      "text/plain": [
       "'india'"
      ]
     },
     "execution_count": 61,
     "metadata": {},
     "output_type": "execute_result"
    }
   ],
   "source": [
    "## slicing\n",
    "str1[11:]"
   ]
  },
  {
   "cell_type": "code",
   "execution_count": 62,
   "id": "f12361ed-bbbd-429f-b17a-02de65f65e0e",
   "metadata": {},
   "outputs": [
    {
     "data": {
      "text/plain": [
       "'ind'"
      ]
     },
     "execution_count": 62,
     "metadata": {},
     "output_type": "execute_result"
    }
   ],
   "source": [
    "str1[11:14]"
   ]
  },
  {
   "cell_type": "code",
   "execution_count": 63,
   "id": "e2ac7ae3-00e1-4286-b693-4e2ebed1edd4",
   "metadata": {},
   "outputs": [
    {
     "data": {
      "text/plain": [
       "'a'"
      ]
     },
     "execution_count": 63,
     "metadata": {},
     "output_type": "execute_result"
    }
   ],
   "source": [
    "str1[-1]"
   ]
  },
  {
   "cell_type": "code",
   "execution_count": 64,
   "id": "6b796486-d255-482a-ba10-a824fb157e65",
   "metadata": {},
   "outputs": [
    {
     "data": {
      "text/plain": [
       "'e in'"
      ]
     },
     "execution_count": 64,
     "metadata": {},
     "output_type": "execute_result"
    }
   ],
   "source": [
    "str1[-7:-3]"
   ]
  },
  {
   "cell_type": "code",
   "execution_count": 65,
   "id": "3326f137-947c-4ed5-a25b-9bb6283f7dd5",
   "metadata": {},
   "outputs": [
    {
     "data": {
      "text/plain": [
       "'n'"
      ]
     },
     "execution_count": 65,
     "metadata": {},
     "output_type": "execute_result"
    }
   ],
   "source": [
    "str1[-4]"
   ]
  },
  {
   "cell_type": "code",
   "execution_count": 66,
   "id": "c651efbe-e92e-4fac-9ca3-6128537a9586",
   "metadata": {},
   "outputs": [
    {
     "data": {
      "text/plain": [
       "'incredible i'"
      ]
     },
     "execution_count": 66,
     "metadata": {},
     "output_type": "execute_result"
    }
   ],
   "source": [
    "str1[:-4]"
   ]
  },
  {
   "cell_type": "code",
   "execution_count": 67,
   "id": "4ef0bddb-2a42-4256-82a8-8e7024144db2",
   "metadata": {},
   "outputs": [
    {
     "data": {
      "text/plain": [
       "'ibl'"
      ]
     },
     "execution_count": 67,
     "metadata": {},
     "output_type": "execute_result"
    }
   ],
   "source": [
    "str1[-10:9]"
   ]
  },
  {
   "cell_type": "code",
   "execution_count": 68,
   "id": "dfcf1363-feb5-44a0-9dd5-736aecd98ecc",
   "metadata": {},
   "outputs": [
    {
     "data": {
      "text/plain": [
       "'aidni elbidercni'"
      ]
     },
     "execution_count": 68,
     "metadata": {},
     "output_type": "execute_result"
    }
   ],
   "source": [
    "str1[::-1]"
   ]
  },
  {
   "cell_type": "code",
   "execution_count": 69,
   "id": "bcf63f51-6bf4-416c-93de-d5f5da5ca1fd",
   "metadata": {},
   "outputs": [
    {
     "data": {
      "text/plain": [
       "'aneiri'"
      ]
     },
     "execution_count": 69,
     "metadata": {},
     "output_type": "execute_result"
    }
   ],
   "source": [
    "str1[::-3]"
   ]
  },
  {
   "cell_type": "code",
   "execution_count": 70,
   "id": "a1de9a63-263b-4fdc-a139-4d78d05d2571",
   "metadata": {},
   "outputs": [
    {
     "data": {
      "text/plain": [
       "'ieln'"
      ]
     },
     "execution_count": 70,
     "metadata": {},
     "output_type": "execute_result"
    }
   ],
   "source": [
    "str1[::4]"
   ]
  },
  {
   "cell_type": "code",
   "execution_count": 71,
   "id": "06e4f8de-b123-41f0-99d5-b31178971028",
   "metadata": {},
   "outputs": [
    {
     "data": {
      "text/plain": [
       "'incredible india'"
      ]
     },
     "execution_count": 71,
     "metadata": {},
     "output_type": "execute_result"
    }
   ],
   "source": [
    "str1[::1]"
   ]
  },
  {
   "cell_type": "code",
   "execution_count": 73,
   "id": "dc49910b-7223-4523-8794-790113b85a90",
   "metadata": {},
   "outputs": [
    {
     "name": "stdout",
     "output_type": "stream",
     "text": [
      "incredible india and incredible people\n"
     ]
    }
   ],
   "source": [
    "str2= str1 + \" and incredible people\"\n",
    "print(str2)"
   ]
  },
  {
   "cell_type": "code",
   "execution_count": 74,
   "id": "100fb408-2779-4ab0-9b8e-3dfe909ca751",
   "metadata": {},
   "outputs": [
    {
     "data": {
      "text/plain": [
       "32"
      ]
     },
     "execution_count": 74,
     "metadata": {},
     "output_type": "execute_result"
    }
   ],
   "source": [
    "##find function\n",
    "str2.find('p')"
   ]
  },
  {
   "cell_type": "code",
   "execution_count": 79,
   "id": "68aaa847-a037-4012-a246-85932ab89517",
   "metadata": {},
   "outputs": [
    {
     "data": {
      "text/plain": [
       "2"
      ]
     },
     "execution_count": 79,
     "metadata": {},
     "output_type": "execute_result"
    }
   ],
   "source": [
    "##count\n",
    "str2.count('p')"
   ]
  },
  {
   "cell_type": "code",
   "execution_count": 80,
   "id": "44a6b57e-baf1-4cd4-be26-ce743abffff8",
   "metadata": {},
   "outputs": [
    {
     "data": {
      "text/plain": [
       "4"
      ]
     },
     "execution_count": 80,
     "metadata": {},
     "output_type": "execute_result"
    }
   ],
   "source": [
    "str2.count(' ')"
   ]
  },
  {
   "cell_type": "code",
   "execution_count": 81,
   "id": "3d315e93-19d7-45a2-b6ee-338b3e164ad4",
   "metadata": {},
   "outputs": [
    {
     "data": {
      "text/plain": [
       "38"
      ]
     },
     "execution_count": 81,
     "metadata": {},
     "output_type": "execute_result"
    }
   ],
   "source": [
    "##length\n",
    "len(str2)"
   ]
  },
  {
   "cell_type": "code",
   "execution_count": 90,
   "id": "98be97d3-fdd4-4b39-97c2-e44a7080c752",
   "metadata": {},
   "outputs": [
    {
     "data": {
      "text/plain": [
       "['incredible', 'india', 'and', 'incredible', 'people']"
      ]
     },
     "execution_count": 90,
     "metadata": {},
     "output_type": "execute_result"
    }
   ],
   "source": [
    "##split\n",
    "str2.split(' ')\n"
   ]
  },
  {
   "cell_type": "code",
   "execution_count": 83,
   "id": "cb707954-c4e9-4855-bc2a-43ffa194041c",
   "metadata": {},
   "outputs": [
    {
     "data": {
      "text/plain": [
       "['', 'ncred', 'ble ', 'nd', 'a and ', 'ncred', 'ble people']"
      ]
     },
     "execution_count": 83,
     "metadata": {},
     "output_type": "execute_result"
    }
   ],
   "source": [
    "##split\n",
    "str2.split('i')\n"
   ]
  },
  {
   "cell_type": "code",
   "execution_count": 87,
   "id": "7a80b2b5-7991-462d-9984-9a39b88b5099",
   "metadata": {},
   "outputs": [
    {
     "data": {
      "text/plain": [
       "('', 'i', 'ncredible india and incredible people')"
      ]
     },
     "execution_count": 87,
     "metadata": {},
     "output_type": "execute_result"
    }
   ],
   "source": [
    "str2.partition('i')\n"
   ]
  },
  {
   "cell_type": "code",
   "execution_count": 85,
   "id": "4cadd4d4-c30b-455f-8cd3-5d8b18b68abe",
   "metadata": {},
   "outputs": [
    {
     "data": {
      "text/plain": [
       "'INCREDIBLE INDIA AND INCREDIBLE PEOPLE'"
      ]
     },
     "execution_count": 85,
     "metadata": {},
     "output_type": "execute_result"
    }
   ],
   "source": [
    "str2.upper()\n"
   ]
  },
  {
   "cell_type": "code",
   "execution_count": 91,
   "id": "a2315000-dc97-4f89-8f31-763a1e3fd396",
   "metadata": {},
   "outputs": [
    {
     "data": {
      "text/plain": [
       "'Incredible India And Incredible People'"
      ]
     },
     "execution_count": 91,
     "metadata": {},
     "output_type": "execute_result"
    }
   ],
   "source": [
    "str2.title()"
   ]
  },
  {
   "cell_type": "code",
   "execution_count": null,
   "id": "7a8787b8-e230-4b44-a249-28d86523eb6d",
   "metadata": {},
   "outputs": [],
   "source": [
    "\n",
    "\n"
   ]
  },
  {
   "cell_type": "code",
   "execution_count": null,
   "id": "74c54aed-5ab4-4938-a60a-632af149b7da",
   "metadata": {},
   "outputs": [],
   "source": []
  },
  {
   "cell_type": "code",
   "execution_count": null,
   "id": "72a5c440-18b5-496a-8a40-2f70aaa22fee",
   "metadata": {},
   "outputs": [],
   "source": []
  },
  {
   "cell_type": "code",
   "execution_count": null,
   "id": "67e7a8c1-55d2-4a6a-9721-d944a60dd3e2",
   "metadata": {},
   "outputs": [],
   "source": []
  },
  {
   "cell_type": "code",
   "execution_count": null,
   "id": "c6cafca0-c45a-4ad5-8c72-8442aa973219",
   "metadata": {},
   "outputs": [],
   "source": []
  },
  {
   "cell_type": "code",
   "execution_count": null,
   "id": "2f0db00b-91dd-4451-9347-2c2b2dbb43dd",
   "metadata": {},
   "outputs": [],
   "source": []
  },
  {
   "cell_type": "code",
   "execution_count": null,
   "id": "7d68fd69-9d61-4487-aa0b-fb4ff86d5a46",
   "metadata": {},
   "outputs": [],
   "source": []
  },
  {
   "cell_type": "code",
   "execution_count": null,
   "id": "fe496243-a40b-4c2c-b938-a5a422ee3dea",
   "metadata": {},
   "outputs": [],
   "source": []
  },
  {
   "cell_type": "code",
   "execution_count": null,
   "id": "3c1fb0d2-b222-45b6-9af2-724d07f6c0fc",
   "metadata": {},
   "outputs": [],
   "source": []
  },
  {
   "cell_type": "code",
   "execution_count": null,
   "id": "6c569b6f-1d4c-4112-9ed9-98efcd420f21",
   "metadata": {},
   "outputs": [],
   "source": []
  },
  {
   "cell_type": "code",
   "execution_count": null,
   "id": "0cd176f2-bb99-4312-91f6-dc8e328443d4",
   "metadata": {},
   "outputs": [],
   "source": []
  }
 ],
 "metadata": {
  "kernelspec": {
   "display_name": "Python 3.8.10 64-bit",
   "language": "python",
   "name": "python3"
  },
  "language_info": {
   "codemirror_mode": {
    "name": "ipython",
    "version": 3
   },
   "file_extension": ".py",
   "mimetype": "text/x-python",
   "name": "python",
   "nbconvert_exporter": "python",
   "pygments_lexer": "ipython3",
   "version": "3.8.10"
  },
  "vscode": {
   "interpreter": {
    "hash": "e7370f93d1d0cde622a1f8e1c04877d8463912d04d973331ad4851f04de6915a"
   }
  }
 },
 "nbformat": 4,
 "nbformat_minor": 5
}
