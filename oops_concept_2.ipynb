{
 "cells": [
  {
   "cell_type": "markdown",
   "id": "64defd61-d558-4541-af48-f59cb64168dc",
   "metadata": {},
   "source": [
    "## polymorphism"
   ]
  },
  {
   "cell_type": "code",
   "execution_count": 1,
   "id": "e3c5ab28-15f7-48e1-8ab9-8f648f3eb0e5",
   "metadata": {},
   "outputs": [],
   "source": [
    "##example\n",
    "def test(a,b):\n",
    "    return a+b\n",
    "\n"
   ]
  },
  {
   "cell_type": "code",
   "execution_count": 2,
   "id": "31ef8dd2-7122-46b1-8dc9-0a73e0f9a35b",
   "metadata": {},
   "outputs": [
    {
     "data": {
      "text/plain": [
       "11"
      ]
     },
     "execution_count": 2,
     "metadata": {},
     "output_type": "execute_result"
    }
   ],
   "source": [
    "test(6,5)"
   ]
  },
  {
   "cell_type": "code",
   "execution_count": 3,
   "id": "60ced066-523d-43d8-bdf7-0b036ac417e2",
   "metadata": {},
   "outputs": [
    {
     "data": {
      "text/plain": [
       "'susheel'"
      ]
     },
     "execution_count": 3,
     "metadata": {},
     "output_type": "execute_result"
    }
   ],
   "source": [
    "test(\"sus\",\"heel\")"
   ]
  },
  {
   "cell_type": "code",
   "execution_count": 4,
   "id": "a9b0451f-8169-4299-bc50-c68eef6dbbd2",
   "metadata": {},
   "outputs": [
    {
     "data": {
      "text/plain": [
       "[1, 3, 5, 7, 2, 4, 6, 8]"
      ]
     },
     "execution_count": 4,
     "metadata": {},
     "output_type": "execute_result"
    }
   ],
   "source": [
    "test([1,3,5,7],[2,4,6,8]) ##same function show different behaviour for different circumstances(polymorphism)"
   ]
  },
  {
   "cell_type": "code",
   "execution_count": 5,
   "id": "24329184-be38-4af9-8c97-4b581cda79df",
   "metadata": {},
   "outputs": [],
   "source": [
    "class data_science:\n",
    "    def syllabus(self):\n",
    "        print(\"syllabus of data science\")\n",
    "        "
   ]
  },
  {
   "cell_type": "code",
   "execution_count": 6,
   "id": "4c0d2766-5753-474a-8cd2-7ace5eee6b1c",
   "metadata": {},
   "outputs": [],
   "source": [
    "class web_dev:\n",
    "    def syllabus(self):\n",
    "        print(\"syllabus of web dev\")"
   ]
  },
  {
   "cell_type": "code",
   "execution_count": 7,
   "id": "b88ba445-b31a-42b5-b8d5-3987dd561f0b",
   "metadata": {},
   "outputs": [],
   "source": [
    "def class_parcer(class_obj):\n",
    "    for i in class_obj:\n",
    "        i.syllabus()\n",
    "    "
   ]
  },
  {
   "cell_type": "code",
   "execution_count": 8,
   "id": "735c467e-c63b-446d-91f0-04c3e9e01fa0",
   "metadata": {},
   "outputs": [],
   "source": [
    "obj_data_science= data_science()"
   ]
  },
  {
   "cell_type": "code",
   "execution_count": 9,
   "id": "298db73d-c214-4d93-ab7b-f2e2c5dc5c6f",
   "metadata": {},
   "outputs": [],
   "source": [
    "obj_web_dev= web_dev()"
   ]
  },
  {
   "cell_type": "code",
   "execution_count": 10,
   "id": "acb9c2df-c827-41d5-932b-141e699794b0",
   "metadata": {},
   "outputs": [],
   "source": [
    "class_obj=[obj_data_science,obj_web_dev]"
   ]
  },
  {
   "cell_type": "code",
   "execution_count": 11,
   "id": "441d7971-f12d-44f0-8098-61892dc3640e",
   "metadata": {},
   "outputs": [
    {
     "name": "stdout",
     "output_type": "stream",
     "text": [
      "syllabus of data science\n",
      "syllabus of web dev\n"
     ]
    }
   ],
   "source": [
    "class_parcer(class_obj)"
   ]
  },
  {
   "cell_type": "markdown",
   "id": "5e37391a-2ca0-4434-89bd-5f35a7846e76",
   "metadata": {},
   "source": [
    "## encapsulation"
   ]
  },
  {
   "cell_type": "code",
   "execution_count": 12,
   "id": "cff184cc-8fb7-4bd4-a54f-d082c2232e0c",
   "metadata": {},
   "outputs": [],
   "source": [
    "##example"
   ]
  },
  {
   "cell_type": "code",
   "execution_count": 13,
   "id": "9e6254cb-e1bd-4fe2-b119-f787152931c6",
   "metadata": {},
   "outputs": [],
   "source": [
    "class test:\n",
    "    def __init__(self,a,b):\n",
    "        self.a=a\n",
    "        self.b=b"
   ]
  },
  {
   "cell_type": "code",
   "execution_count": 14,
   "id": "ff0fafd2-ea8d-4d03-8b6c-2d4e1d6f5463",
   "metadata": {},
   "outputs": [],
   "source": [
    "t=test(45,56)"
   ]
  },
  {
   "cell_type": "code",
   "execution_count": 15,
   "id": "641f07c7-357e-4b0d-abdc-5c353e2e82ef",
   "metadata": {},
   "outputs": [
    {
     "data": {
      "text/plain": [
       "45"
      ]
     },
     "execution_count": 15,
     "metadata": {},
     "output_type": "execute_result"
    }
   ],
   "source": [
    "t.a"
   ]
  },
  {
   "cell_type": "code",
   "execution_count": 16,
   "id": "0bd032a3-d4ca-4b69-8893-4eaecba20a77",
   "metadata": {},
   "outputs": [
    {
     "data": {
      "text/plain": [
       "56"
      ]
     },
     "execution_count": 16,
     "metadata": {},
     "output_type": "execute_result"
    }
   ],
   "source": [
    "t.b"
   ]
  },
  {
   "cell_type": "code",
   "execution_count": 17,
   "id": "54c20ed2-2310-4a5e-991c-b0c79d652cd6",
   "metadata": {},
   "outputs": [],
   "source": [
    "t.a=3243 ## like this, anyone can modify  data , so we use encapsulation to prevent it"
   ]
  },
  {
   "cell_type": "code",
   "execution_count": 18,
   "id": "eafb9047-31c0-473f-ab5c-c86edd55e3ef",
   "metadata": {},
   "outputs": [
    {
     "data": {
      "text/plain": [
       "3243"
      ]
     },
     "execution_count": 18,
     "metadata": {},
     "output_type": "execute_result"
    }
   ],
   "source": [
    "t.a"
   ]
  },
  {
   "cell_type": "code",
   "execution_count": 19,
   "id": "59bb90c1-36de-4aec-a928-2bdeff7100fd",
   "metadata": {},
   "outputs": [],
   "source": [
    "class car:\n",
    "    def __init__(self,year,brand,model,speed):\n",
    "        self.__year=year\n",
    "        self.__brand=brand\n",
    "        self.__model=model\n",
    "        self.__speed=0\n",
    "        "
   ]
  },
  {
   "cell_type": "code",
   "execution_count": 20,
   "id": "de074fa4-7ba3-44b3-b973-e801f1dd8ce5",
   "metadata": {},
   "outputs": [],
   "source": [
    "obj_car=car(2023,\"honda\",\"city\",150)"
   ]
  },
  {
   "cell_type": "code",
   "execution_count": 21,
   "id": "c76795b0-e452-42ea-bf59-4b25d121eda6",
   "metadata": {},
   "outputs": [
    {
     "data": {
      "text/plain": [
       "2023"
      ]
     },
     "execution_count": 21,
     "metadata": {},
     "output_type": "execute_result"
    }
   ],
   "source": [
    "obj_car._car__year "
   ]
  },
  {
   "cell_type": "code",
   "execution_count": 22,
   "id": "d9abbaa0-84a4-4517-9cae-fa9b052fa2db",
   "metadata": {},
   "outputs": [],
   "source": [
    "obj_car._car__year = 2021 ##only i can do this not the other user "
   ]
  },
  {
   "cell_type": "code",
   "execution_count": 23,
   "id": "58cd176a-684a-416b-8194-79175af3d4a1",
   "metadata": {},
   "outputs": [
    {
     "data": {
      "text/plain": [
       "2021"
      ]
     },
     "execution_count": 23,
     "metadata": {},
     "output_type": "execute_result"
    }
   ],
   "source": [
    "obj_car._car__year "
   ]
  },
  {
   "cell_type": "code",
   "execution_count": 24,
   "id": "29b9b1e1-c875-4fc8-9072-3ece0afc923a",
   "metadata": {},
   "outputs": [
    {
     "data": {
      "text/plain": [
       "0"
      ]
     },
     "execution_count": 24,
     "metadata": {},
     "output_type": "execute_result"
    }
   ],
   "source": [
    "obj_car._car__speed "
   ]
  },
  {
   "cell_type": "code",
   "execution_count": 25,
   "id": "ee77d79f-b730-4929-8427-a4438f771031",
   "metadata": {},
   "outputs": [],
   "source": [
    "class car:\n",
    "    def __init__(self,year,brand,model,speed):\n",
    "        self.__year=year\n",
    "        self.__brand=brand\n",
    "        self.__model=model\n",
    "        self.__speed= 0\n",
    "    def set_speed(self,speed): ##setter method \n",
    "        self.__speed= 0 if speed<0 else speed\n",
    "    def get_speed(self):       ##getter method\n",
    "        return self.__speed"
   ]
  },
  {
   "cell_type": "code",
   "execution_count": 27,
   "id": "1a61d4fe-ca8c-4b0d-a2b9-a4bdb4abe137",
   "metadata": {},
   "outputs": [
    {
     "ename": "AttributeError",
     "evalue": "'car' object has no attribute 'set_speed'",
     "output_type": "error",
     "traceback": [
      "\u001b[0;31m---------------------------------------------------------------------------\u001b[0m",
      "\u001b[0;31mAttributeError\u001b[0m                            Traceback (most recent call last)",
      "Cell \u001b[0;32mIn[27], line 1\u001b[0m\n\u001b[0;32m----> 1\u001b[0m \u001b[43mobj_car\u001b[49m\u001b[38;5;241;43m.\u001b[39;49m\u001b[43mset_speed\u001b[49m(\u001b[38;5;241m1234\u001b[39m)\n",
      "\u001b[0;31mAttributeError\u001b[0m: 'car' object has no attribute 'set_speed'"
     ]
    }
   ],
   "source": [
    "obj_car.set_speed(1234)"
   ]
  },
  {
   "cell_type": "code",
   "execution_count": 28,
   "id": "af328471-6c5b-40d7-b5f8-9364c1f0438e",
   "metadata": {},
   "outputs": [
    {
     "data": {
      "text/plain": [
       "0"
      ]
     },
     "execution_count": 28,
     "metadata": {},
     "output_type": "execute_result"
    }
   ],
   "source": [
    "obj_car._car__speed"
   ]
  },
  {
   "cell_type": "code",
   "execution_count": null,
   "id": "c86a02b6-82ba-4cbe-a5d1-207832aa0fa5",
   "metadata": {},
   "outputs": [
    {
     "ename": "AttributeError",
     "evalue": "'car' object has no attribute 'get_speed'",
     "output_type": "error",
     "traceback": [
      "\u001b[0;31m---------------------------------------------------------------------------\u001b[0m",
      "\u001b[0;31mAttributeError\u001b[0m                            Traceback (most recent call last)",
      "Cell \u001b[0;32mIn[84], line 1\u001b[0m\n\u001b[0;32m----> 1\u001b[0m \u001b[43mobj_car\u001b[49m\u001b[38;5;241;43m.\u001b[39;49m\u001b[43mget_speed\u001b[49m()\n",
      "\u001b[0;31mAttributeError\u001b[0m: 'car' object has no attribute 'get_speed'"
     ]
    }
   ],
   "source": [
    "obj_car.get_speed()"
   ]
  },
  {
   "cell_type": "code",
   "execution_count": 29,
   "id": "f1d03e5c-5954-491d-8f2a-2ad351fd26c1",
   "metadata": {},
   "outputs": [],
   "source": [
    "class bank_account:\n",
    "    def __init__(self, balance):\n",
    "        self.__balance=balance\n",
    "    def deposit(self, amount):\n",
    "        self.__balance=self.__balance+amount\n",
    "    def withdraw(self,amount):\n",
    "        if self.__balance>= amount:\n",
    "            self.__balance = self.__balance - amount\n",
    "            return True\n",
    "        else :\n",
    "            return False\n",
    "    def get_balance(self):\n",
    "        return self.__balance"
   ]
  },
  {
   "cell_type": "code",
   "execution_count": 30,
   "id": "86c5fd3b-5a51-4066-aa96-6a75f47c362f",
   "metadata": {},
   "outputs": [],
   "source": [
    "obj_bank_account= bank_account(10000)"
   ]
  },
  {
   "cell_type": "code",
   "execution_count": 31,
   "id": "93ec42af-b6e4-448b-a1ce-aec007ae0a89",
   "metadata": {},
   "outputs": [
    {
     "data": {
      "text/plain": [
       "10000"
      ]
     },
     "execution_count": 31,
     "metadata": {},
     "output_type": "execute_result"
    }
   ],
   "source": [
    "obj_bank_account.get_balance()"
   ]
  },
  {
   "cell_type": "code",
   "execution_count": 32,
   "id": "d40b5749-6171-47a8-91d8-58c7d11b566f",
   "metadata": {},
   "outputs": [],
   "source": [
    "obj_bank_account.deposit(8000)"
   ]
  },
  {
   "cell_type": "code",
   "execution_count": 33,
   "id": "8a99647a-0ccf-4aa4-9a4c-e512292a537b",
   "metadata": {},
   "outputs": [
    {
     "data": {
      "text/plain": [
       "18000"
      ]
     },
     "execution_count": 33,
     "metadata": {},
     "output_type": "execute_result"
    }
   ],
   "source": [
    "obj_bank_account.get_balance()"
   ]
  },
  {
   "cell_type": "code",
   "execution_count": 34,
   "id": "84b5a7fc-f0b9-4fb8-9251-f400c1009660",
   "metadata": {},
   "outputs": [
    {
     "data": {
      "text/plain": [
       "True"
      ]
     },
     "execution_count": 34,
     "metadata": {},
     "output_type": "execute_result"
    }
   ],
   "source": [
    "obj_bank_account.withdraw(12000)"
   ]
  },
  {
   "cell_type": "code",
   "execution_count": 35,
   "id": "c175c2af-f41d-472d-bafd-b323173b6d11",
   "metadata": {},
   "outputs": [
    {
     "data": {
      "text/plain": [
       "False"
      ]
     },
     "execution_count": 35,
     "metadata": {},
     "output_type": "execute_result"
    }
   ],
   "source": [
    "obj_bank_account.withdraw(22000)"
   ]
  },
  {
   "cell_type": "code",
   "execution_count": 36,
   "id": "00fd3c6d-3463-4018-8aa3-e7756e54df5a",
   "metadata": {},
   "outputs": [
    {
     "data": {
      "text/plain": [
       "6000"
      ]
     },
     "execution_count": 36,
     "metadata": {},
     "output_type": "execute_result"
    }
   ],
   "source": [
    "obj_bank_account.get_balance()"
   ]
  },
  {
   "cell_type": "code",
   "execution_count": 37,
   "id": "373b2f83-5f1f-4eca-93be-96ed750abebb",
   "metadata": {},
   "outputs": [
    {
     "data": {
      "text/plain": [
       "6000"
      ]
     },
     "execution_count": 37,
     "metadata": {},
     "output_type": "execute_result"
    }
   ],
   "source": [
    "obj_bank_account.get_balance()"
   ]
  },
  {
   "cell_type": "markdown",
   "id": "ac99f66a-8a10-4dfa-a66e-ce19436e69b4",
   "metadata": {},
   "source": [
    "## inheritance"
   ]
  },
  {
   "cell_type": "code",
   "execution_count": 38,
   "id": "6071b701-dc4f-4443-a915-510e5e4c305e",
   "metadata": {},
   "outputs": [],
   "source": [
    "class parent:\n",
    "    def test_parent(self):\n",
    "        print(\"this is my parent class\")"
   ]
  },
  {
   "cell_type": "code",
   "execution_count": 39,
   "id": "52756045-58e8-48f4-9ff0-b38467475974",
   "metadata": {},
   "outputs": [],
   "source": [
    "class child(parent):\n",
    "    pass"
   ]
  },
  {
   "cell_type": "code",
   "execution_count": 40,
   "id": "afdf9b2a-623a-4fcd-a927-36f51db18f74",
   "metadata": {},
   "outputs": [],
   "source": [
    "obj_child=child()"
   ]
  },
  {
   "cell_type": "code",
   "execution_count": 41,
   "id": "7cff389d-84e9-4b78-b9e5-0e34920f2b51",
   "metadata": {},
   "outputs": [
    {
     "name": "stdout",
     "output_type": "stream",
     "text": [
      "this is my parent class\n"
     ]
    }
   ],
   "source": [
    "obj_child.test_parent()"
   ]
  },
  {
   "cell_type": "code",
   "execution_count": 42,
   "id": "9288756d-ec8c-4e7e-aac7-13b1ddcada4f",
   "metadata": {},
   "outputs": [],
   "source": [
    "class class1:                     ##multilevel \n",
    "    def test_class1(self):\n",
    "        print(\"this is my class1\")"
   ]
  },
  {
   "cell_type": "code",
   "execution_count": 43,
   "id": "68d704a1-4899-4e29-8a13-193e97ee07db",
   "metadata": {},
   "outputs": [],
   "source": [
    "class class2(class1):\n",
    "    def test_class2(self):\n",
    "        print(\"this is my class2\")"
   ]
  },
  {
   "cell_type": "code",
   "execution_count": 44,
   "id": "bed69681-5fb4-42e8-9338-c7e6302c774f",
   "metadata": {},
   "outputs": [],
   "source": [
    "class class3(class2):\n",
    "    def test_class3(self):\n",
    "        print(\"this is my class3\")"
   ]
  },
  {
   "cell_type": "code",
   "execution_count": 45,
   "id": "8b7c9d31-f1ba-4998-b302-60e0a9c4e670",
   "metadata": {},
   "outputs": [],
   "source": [
    "obj_class3=class3()"
   ]
  },
  {
   "cell_type": "code",
   "execution_count": 46,
   "id": "d1396afa-856f-441c-ae64-c302767a3f08",
   "metadata": {},
   "outputs": [
    {
     "name": "stdout",
     "output_type": "stream",
     "text": [
      "this is my class1\n"
     ]
    }
   ],
   "source": [
    "obj_class3.test_class1()"
   ]
  },
  {
   "cell_type": "code",
   "execution_count": 47,
   "id": "f444109a-5f7c-4460-8dc7-fc55bf740884",
   "metadata": {},
   "outputs": [
    {
     "name": "stdout",
     "output_type": "stream",
     "text": [
      "this is my class2\n"
     ]
    }
   ],
   "source": [
    "obj_class3.test_class2()"
   ]
  },
  {
   "cell_type": "code",
   "execution_count": 48,
   "id": "8e509497-d575-435a-97c0-e55fb85eb99a",
   "metadata": {},
   "outputs": [],
   "source": [
    "class class1:\n",
    "    def test_class1(self):\n",
    "        print(\" this is my class1\")"
   ]
  },
  {
   "cell_type": "code",
   "execution_count": 49,
   "id": "db71c225-0434-46a5-8dfa-f09a7e83b0af",
   "metadata": {},
   "outputs": [],
   "source": [
    "class class2:\n",
    "    def test_class2(self):\n",
    "        print(\" this is my class2\")"
   ]
  },
  {
   "cell_type": "code",
   "execution_count": 50,
   "id": "2b64021e-babc-4dd2-a1da-f40e86c0182e",
   "metadata": {},
   "outputs": [],
   "source": [
    "class class3(class1,class2):\n",
    "    def test_class3(self):\n",
    "        print(\" this is my class3\")"
   ]
  },
  {
   "cell_type": "code",
   "execution_count": 51,
   "id": "3bafdbbc-31a5-43e6-9e0c-0f30f707fe3d",
   "metadata": {},
   "outputs": [],
   "source": [
    "obj_class3=class3()"
   ]
  },
  {
   "cell_type": "code",
   "execution_count": 52,
   "id": "1f15cf52-b847-493a-96f5-76837c6333ab",
   "metadata": {},
   "outputs": [
    {
     "name": "stdout",
     "output_type": "stream",
     "text": [
      " this is my class1\n"
     ]
    }
   ],
   "source": [
    "obj_class3.test_class1()"
   ]
  },
  {
   "cell_type": "code",
   "execution_count": 53,
   "id": "578c98e2-0939-4f2b-b4f2-8b458255873e",
   "metadata": {},
   "outputs": [
    {
     "name": "stdout",
     "output_type": "stream",
     "text": [
      " this is my class2\n"
     ]
    }
   ],
   "source": [
    "obj_class3.test_class2()"
   ]
  },
  {
   "cell_type": "markdown",
   "id": "2e63630e-55ec-4044-9deb-08a383fee706",
   "metadata": {},
   "source": [
    "## abstraction"
   ]
  },
  {
   "cell_type": "code",
   "execution_count": 54,
   "id": "d14adb30-0edc-4671-b39b-352ed6d0a9e1",
   "metadata": {},
   "outputs": [],
   "source": [
    "import abc       ##skeleton_class\n",
    "class chemical_engineering:\n",
    "    @abc.abstractmethod\n",
    "    def student_details(self):\n",
    "        pass\n",
    "    @abc.abstractmethod\n",
    "    def assingment(self):\n",
    "        pass\n",
    "    @abc.abstractmethod\n",
    "    def marks(self):\n",
    "        pass"
   ]
  },
  {
   "cell_type": "code",
   "execution_count": 55,
   "id": "619bc773-887a-459e-89f7-2dc6f4f8c9a3",
   "metadata": {},
   "outputs": [],
   "source": [
    "class mass_transfer(chemical_engineering):\n",
    "    def student_details(self):\n",
    "        return \"return details of students of chemical engineering in mass transfer\"\n",
    "    def assingment(self):\n",
    "        return \"return details of assignment of students in mass transfer\""
   ]
  },
  {
   "cell_type": "code",
   "execution_count": 56,
   "id": "03114ae7-f49d-42e1-b572-c003f1e577b5",
   "metadata": {},
   "outputs": [],
   "source": [
    "class heat_transfer(chemical_engineering):\n",
    "    def student_details(self):\n",
    "        return \"return details of students of chemical engineering in heat transfer\"\n",
    "    def assingment(self):\n",
    "        return \"return details of assignment of students of heat transfer\""
   ]
  },
  {
   "cell_type": "code",
   "execution_count": 57,
   "id": "87481f3e-34ee-4c8e-9c56-a18f11a26c3b",
   "metadata": {},
   "outputs": [],
   "source": [
    "mt=mass_transfer()"
   ]
  },
  {
   "cell_type": "code",
   "execution_count": 58,
   "id": "36ea5d1e-357d-4083-b5f0-3ac3dad095fc",
   "metadata": {},
   "outputs": [
    {
     "data": {
      "text/plain": [
       "'return details of students of chemical engineering in mass transfer'"
      ]
     },
     "execution_count": 58,
     "metadata": {},
     "output_type": "execute_result"
    }
   ],
   "source": [
    "mt.student_details()"
   ]
  },
  {
   "cell_type": "code",
   "execution_count": 59,
   "id": "b73f3b5e-001e-4b3b-bb38-76d4269df363",
   "metadata": {},
   "outputs": [
    {
     "data": {
      "text/plain": [
       "'return details of assignment of students in mass transfer'"
      ]
     },
     "execution_count": 59,
     "metadata": {},
     "output_type": "execute_result"
    }
   ],
   "source": [
    "mt.assingment()"
   ]
  },
  {
   "cell_type": "code",
   "execution_count": 60,
   "id": "7946309e-215a-4a5e-81ce-ecfb0c35676c",
   "metadata": {},
   "outputs": [],
   "source": [
    "ht=heat_transfer()"
   ]
  },
  {
   "cell_type": "code",
   "execution_count": 61,
   "id": "b9405aac-ec71-477b-b544-6b941ec0077c",
   "metadata": {},
   "outputs": [
    {
     "data": {
      "text/plain": [
       "'return details of assignment of students of heat transfer'"
      ]
     },
     "execution_count": 61,
     "metadata": {},
     "output_type": "execute_result"
    }
   ],
   "source": [
    "ht.assingment()"
   ]
  },
  {
   "cell_type": "code",
   "execution_count": null,
   "id": "bb7d74c0-51a0-453c-8b5b-420323a40c73",
   "metadata": {},
   "outputs": [],
   "source": []
  },
  {
   "cell_type": "code",
   "execution_count": null,
   "id": "7267cbfd-b717-4c4e-a6e4-c303297335ac",
   "metadata": {},
   "outputs": [],
   "source": []
  }
 ],
 "metadata": {
  "kernelspec": {
   "display_name": "Python 3.8.10 64-bit",
   "language": "python",
   "name": "python3"
  },
  "language_info": {
   "codemirror_mode": {
    "name": "ipython",
    "version": 3
   },
   "file_extension": ".py",
   "mimetype": "text/x-python",
   "name": "python",
   "nbconvert_exporter": "python",
   "pygments_lexer": "ipython3",
   "version": "3.8.10"
  },
  "vscode": {
   "interpreter": {
    "hash": "e7370f93d1d0cde622a1f8e1c04877d8463912d04d973331ad4851f04de6915a"
   }
  }
 },
 "nbformat": 4,
 "nbformat_minor": 5
}
