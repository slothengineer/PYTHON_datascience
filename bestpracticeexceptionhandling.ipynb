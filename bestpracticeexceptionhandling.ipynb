{
 "cells": [
  {
   "cell_type": "code",
   "execution_count": 1,
   "id": "313b7ca2-4c6a-4d9e-bc1b-a675e37288b5",
   "metadata": {},
   "outputs": [],
   "source": [
    "## always use specific exception\n"
   ]
  },
  {
   "cell_type": "code",
   "execution_count": 2,
   "id": "688af8e8-65c7-4dd0-990a-a27bf39b1dda",
   "metadata": {},
   "outputs": [
    {
     "name": "stdout",
     "output_type": "stream",
     "text": [
      "division by zero\n"
     ]
    }
   ],
   "source": [
    "try:\n",
    "    10/0\n",
    "except Exception as e:\n",
    "    print(e)"
   ]
  },
  {
   "cell_type": "code",
   "execution_count": 3,
   "id": "be58627c-643d-40a1-bae9-e52984fcfa02",
   "metadata": {},
   "outputs": [
    {
     "name": "stdout",
     "output_type": "stream",
     "text": [
      "division by zero\n"
     ]
    }
   ],
   "source": [
    "try:    ##specific\n",
    "    10/0\n",
    "except ZeroDivisionError as e:\n",
    "    print(e)"
   ]
  },
  {
   "cell_type": "code",
   "execution_count": 4,
   "id": "cff55954-0ff2-4adc-8b17-b6b305fb18df",
   "metadata": {},
   "outputs": [],
   "source": [
    "##print always valid messages"
   ]
  },
  {
   "cell_type": "code",
   "execution_count": 5,
   "id": "581680e5-e786-46e5-9960-ecc8cedacb7f",
   "metadata": {},
   "outputs": [
    {
     "name": "stdout",
     "output_type": "stream",
     "text": [
      "this is zero division error i am handling  division by zero\n"
     ]
    }
   ],
   "source": [
    "try:\n",
    "    10/0\n",
    "except ZeroDivisionError as e:\n",
    "    print(\"this is zero division error i am handling \",e)"
   ]
  },
  {
   "cell_type": "code",
   "execution_count": 6,
   "id": "947c4736-96c2-44f9-9a7e-f902097b666c",
   "metadata": {},
   "outputs": [],
   "source": [
    "##always try to log"
   ]
  },
  {
   "cell_type": "code",
   "execution_count": 7,
   "id": "b6e1575c-a4ca-4957-abbf-86340b282df1",
   "metadata": {},
   "outputs": [],
   "source": [
    "import logging\n",
    "logging.basicConfig(filename=\"error.log\",level=logging.ERROR)\n",
    "try:\n",
    "    10/0\n",
    "except ZeroDivisionError as e:\n",
    "    logging.error(\"this is zero division error i am handling {}\".format(e))\n",
    "    "
   ]
  },
  {
   "cell_type": "code",
   "execution_count": 8,
   "id": "197423be-1804-46da-b990-d2a9a1fdddf8",
   "metadata": {},
   "outputs": [],
   "source": [
    "##always avoid write multiple exception handling\n"
   ]
  },
  {
   "cell_type": "code",
   "execution_count": 9,
   "id": "eb61fd72-a8cb-4efb-bda3-f6168e56dd91",
   "metadata": {},
   "outputs": [],
   "source": [
    "try:\n",
    "    10/0\n",
    "except FileNotFoundError as e:\n",
    "    logging.error(\"this is my file not found error{}\".format(e))\n",
    "except AttributeError as e:\n",
    "    logging.error(\"this is my attribute error{}\".format(e))\n",
    "except ZeroDivisionError as e:\n",
    "    logging.error(\"this is my zero division error{}\".format(e))"
   ]
  },
  {
   "cell_type": "code",
   "execution_count": 10,
   "id": "9602403a-077a-4bc8-b8b3-37e9d7701b3c",
   "metadata": {},
   "outputs": [],
   "source": [
    "##always prepare proper documentation"
   ]
  },
  {
   "cell_type": "code",
   "execution_count": null,
   "id": "efa1c61c-008c-4288-beb4-5ba0a1d749ee",
   "metadata": {},
   "outputs": [],
   "source": [
    "##cleanup all the resources\n"
   ]
  },
  {
   "cell_type": "code",
   "execution_count": null,
   "id": "fb9b9f33-2972-4b9b-9953-ba8aafa7ea6d",
   "metadata": {},
   "outputs": [],
   "source": [
    "try:\n",
    "    with open (\"test.txt\",\"w\") as f:\n",
    "        f.write(\"this is my message to file\")\n",
    "except FileNotFoundError as e:\n",
    "       logging.error(\"this is file not found{}\".format(e))\n",
    "finally:\n",
    "    f.close()"
   ]
  },
  {
   "cell_type": "code",
   "execution_count": null,
   "id": "3e08fb28-3f26-47db-a00b-6fcc4ae4fe15",
   "metadata": {},
   "outputs": [],
   "source": []
  }
 ],
 "metadata": {
  "kernelspec": {
   "display_name": "Python 3.8.10 64-bit",
   "language": "python",
   "name": "python3"
  },
  "language_info": {
   "codemirror_mode": {
    "name": "ipython",
    "version": 3
   },
   "file_extension": ".py",
   "mimetype": "text/x-python",
   "name": "python",
   "nbconvert_exporter": "python",
   "pygments_lexer": "ipython3",
   "version": "3.8.10"
  },
  "vscode": {
   "interpreter": {
    "hash": "e7370f93d1d0cde622a1f8e1c04877d8463912d04d973331ad4851f04de6915a"
   }
  }
 },
 "nbformat": 4,
 "nbformat_minor": 5
}
