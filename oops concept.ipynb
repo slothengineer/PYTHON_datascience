{
 "cells": [
  {
   "cell_type": "code",
   "execution_count": 1,
   "id": "ac17f3b0-044c-437a-927f-cbc66bdd0305",
   "metadata": {},
   "outputs": [],
   "source": [
    "class test:\n",
    "    pass\n"
   ]
  },
  {
   "cell_type": "code",
   "execution_count": 2,
   "id": "9affc2ff-04ac-4abb-8016-b690644df861",
   "metadata": {},
   "outputs": [],
   "source": [
    "a=test()"
   ]
  },
  {
   "cell_type": "code",
   "execution_count": 3,
   "id": "10123750-5f8e-4684-80d9-f74fb47c54a2",
   "metadata": {},
   "outputs": [
    {
     "name": "stdout",
     "output_type": "stream",
     "text": [
      "<class '__main__.test'>\n"
     ]
    }
   ],
   "source": [
    "print(type(a))"
   ]
  },
  {
   "cell_type": "code",
   "execution_count": 4,
   "id": "e5e6c50a-f473-4b18-8ddf-a2a156d3831f",
   "metadata": {},
   "outputs": [],
   "source": [
    "class pwskills:\n",
    "    def welcome_msg(self):\n",
    "        print(\"welcome to pwskills\")"
   ]
  },
  {
   "cell_type": "code",
   "execution_count": 5,
   "id": "ac313145-6f4f-4737-9250-7c21c85c0815",
   "metadata": {},
   "outputs": [],
   "source": [
    "rohan=pwskills()"
   ]
  },
  {
   "cell_type": "code",
   "execution_count": 6,
   "id": "2be8c26f-d1d0-4db6-b40a-35bddf15e18b",
   "metadata": {},
   "outputs": [
    {
     "name": "stdout",
     "output_type": "stream",
     "text": [
      "welcome to pwskills\n"
     ]
    }
   ],
   "source": [
    "rohan.welcome_msg()"
   ]
  },
  {
   "cell_type": "code",
   "execution_count": 7,
   "id": "1a9e8606-7bf4-4077-a63d-878f270ef031",
   "metadata": {},
   "outputs": [],
   "source": [
    "class pwskills1:\n",
    "    def __init__(self,phone_no,email_id,student_id):\n",
    "        self.phone_no=phone_no\n",
    "        self.email_id=email_id\n",
    "        self.student_id=student_id\n",
    "    def show_student_details(self):\n",
    "        return self.phone_no,self.email_id,self.student_id"
   ]
  },
  {
   "cell_type": "code",
   "execution_count": 8,
   "id": "c479157a-e740-4d6b-8338-6da0db0ce64f",
   "metadata": {},
   "outputs": [],
   "source": [
    "rohan=pwskills1(956542,\"gk@gmail.com\",1105)"
   ]
  },
  {
   "cell_type": "code",
   "execution_count": 9,
   "id": "2b21a063-e120-46c9-aaa3-b4b980a96cff",
   "metadata": {},
   "outputs": [
    {
     "data": {
      "text/plain": [
       "956542"
      ]
     },
     "execution_count": 9,
     "metadata": {},
     "output_type": "execute_result"
    }
   ],
   "source": [
    "rohan.phone_no"
   ]
  },
  {
   "cell_type": "code",
   "execution_count": 10,
   "id": "fdc3d8c8-b880-40ed-adf7-92335c423cc5",
   "metadata": {},
   "outputs": [
    {
     "data": {
      "text/plain": [
       "'gk@gmail.com'"
      ]
     },
     "execution_count": 10,
     "metadata": {},
     "output_type": "execute_result"
    }
   ],
   "source": [
    "rohan.email_id"
   ]
  },
  {
   "cell_type": "code",
   "execution_count": 11,
   "id": "632a3e89-b75a-4ad1-8137-9cf37247a3df",
   "metadata": {},
   "outputs": [
    {
     "data": {
      "text/plain": [
       "(956542, 'gk@gmail.com', 1105)"
      ]
     },
     "execution_count": 11,
     "metadata": {},
     "output_type": "execute_result"
    }
   ],
   "source": [
    "rohan.show_student_details()"
   ]
  },
  {
   "cell_type": "code",
   "execution_count": 12,
   "id": "a457c786-4c8a-47e6-b7d6-48a1d067f49a",
   "metadata": {},
   "outputs": [],
   "source": [
    "class pwskills2:\n",
    "    def __init__(sush,phone_no,email_id,student_id):\n",
    "        \n",
    "        sush.phone_no =phone_no\n",
    "        sush.email_id= email_id\n",
    "        sush.student_id= student_id\n",
    "        \n",
    "    def return_student_details(sush):\n",
    "        return sush.phone_no,sush.email_id,sush.student_id"
   ]
  },
  {
   "cell_type": "code",
   "execution_count": 13,
   "id": "49601887-21b2-433b-8912-7273f3487824",
   "metadata": {},
   "outputs": [],
   "source": [
    "mohan=pwskills2(95437987,\"gh@gmail.com\",109)"
   ]
  },
  {
   "cell_type": "code",
   "execution_count": 14,
   "id": "5d9aa30f-da49-424a-9fdd-07f49fe3cf86",
   "metadata": {},
   "outputs": [
    {
     "data": {
      "text/plain": [
       "95437987"
      ]
     },
     "execution_count": 14,
     "metadata": {},
     "output_type": "execute_result"
    }
   ],
   "source": [
    "mohan.phone_no"
   ]
  },
  {
   "cell_type": "code",
   "execution_count": 15,
   "id": "c838dd1e-e9f5-459a-976a-26a6e1df9690",
   "metadata": {},
   "outputs": [
    {
     "data": {
      "text/plain": [
       "(95437987, 'gh@gmail.com', 109)"
      ]
     },
     "execution_count": 15,
     "metadata": {},
     "output_type": "execute_result"
    }
   ],
   "source": [
    " mohan.return_student_details()"
   ]
  },
  {
   "cell_type": "code",
   "execution_count": null,
   "id": "dc96740e-d6f5-4d08-9d04-ab4129f3f599",
   "metadata": {},
   "outputs": [],
   "source": []
  },
  {
   "cell_type": "code",
   "execution_count": 16,
   "id": "3ee8d6f0-985d-4c5b-8fcb-05d4eec90ba8",
   "metadata": {},
   "outputs": [],
   "source": [
    "class pwskills3:\n",
    "    def __init__(sush,phone_no,email_id,student_id):\n",
    "        sush.phone_no1=phone_no\n",
    "        sush.email_id=email_id\n",
    "        sush.student_id=student_id\n",
    "    def show_student_details(sush):\n",
    "        return sush.phone_no,sush.email_id,sush.student_id"
   ]
  },
  {
   "cell_type": "code",
   "execution_count": 17,
   "id": "a448b9aa-e28c-464d-adcb-2818e6e38bf0",
   "metadata": {},
   "outputs": [],
   "source": [
    "sohan=pwskills3(95437987,\"gh@gmail.com\",109)"
   ]
  },
  {
   "cell_type": "code",
   "execution_count": 19,
   "id": "5ec19b47-aabb-439e-95be-0c3eff3a2cdc",
   "metadata": {},
   "outputs": [
    {
     "data": {
      "text/plain": [
       "95437987"
      ]
     },
     "execution_count": 19,
     "metadata": {},
     "output_type": "execute_result"
    }
   ],
   "source": [
    "sohan.phone_no1"
   ]
  },
  {
   "cell_type": "code",
   "execution_count": null,
   "id": "2c9f13c2-1285-461f-84b0-890ae5fece84",
   "metadata": {},
   "outputs": [],
   "source": []
  }
 ],
 "metadata": {
  "kernelspec": {
   "display_name": "Python 3.8.10 64-bit",
   "language": "python",
   "name": "python3"
  },
  "language_info": {
   "codemirror_mode": {
    "name": "ipython",
    "version": 3
   },
   "file_extension": ".py",
   "mimetype": "text/x-python",
   "name": "python",
   "nbconvert_exporter": "python",
   "pygments_lexer": "ipython3",
   "version": "3.8.10"
  },
  "vscode": {
   "interpreter": {
    "hash": "e7370f93d1d0cde622a1f8e1c04877d8463912d04d973331ad4851f04de6915a"
   }
  }
 },
 "nbformat": 4,
 "nbformat_minor": 5
}
