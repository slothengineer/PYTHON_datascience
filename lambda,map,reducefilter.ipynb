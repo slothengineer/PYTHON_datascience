{
 "cells": [
  {
   "cell_type": "code",
   "execution_count": 1,
   "id": "3b27b712-a4fd-40de-89e2-64dd35386785",
   "metadata": {},
   "outputs": [],
   "source": [
    "def test(n,p):\n",
    "    return n**p"
   ]
  },
  {
   "cell_type": "code",
   "execution_count": 2,
   "id": "6fa7f0cf-a24a-4def-b8ac-188f3dc049ed",
   "metadata": {},
   "outputs": [
    {
     "data": {
      "text/plain": [
       "32"
      ]
     },
     "execution_count": 2,
     "metadata": {},
     "output_type": "execute_result"
    }
   ],
   "source": [
    "test(2,5)"
   ]
  },
  {
   "cell_type": "code",
   "execution_count": 3,
   "id": "39604d64-c90c-472e-a4fc-7e29a1e896f1",
   "metadata": {},
   "outputs": [],
   "source": [
    "a=lambda n,p:n**p"
   ]
  },
  {
   "cell_type": "code",
   "execution_count": 4,
   "id": "e2b12c00-15a2-4df1-912d-e4385d74a856",
   "metadata": {},
   "outputs": [
    {
     "data": {
      "text/plain": [
       "32"
      ]
     },
     "execution_count": 4,
     "metadata": {},
     "output_type": "execute_result"
    }
   ],
   "source": [
    "a(2,5)"
   ]
  },
  {
   "cell_type": "code",
   "execution_count": 5,
   "id": "be43220e-fd70-41ac-9eb9-59aa0c2491fb",
   "metadata": {},
   "outputs": [],
   "source": [
    "c_to_f= lambda c : (9/5)*c+32\n"
   ]
  },
  {
   "cell_type": "code",
   "execution_count": 6,
   "id": "f1585980-1c91-4a5b-a105-9022d03d2279",
   "metadata": {},
   "outputs": [
    {
     "data": {
      "text/plain": [
       "95.0"
      ]
     },
     "execution_count": 6,
     "metadata": {},
     "output_type": "execute_result"
    }
   ],
   "source": [
    "c_to_f(35)"
   ]
  },
  {
   "cell_type": "code",
   "execution_count": 7,
   "id": "32b8d160-8302-48dc-b239-e2b5e06f1f4f",
   "metadata": {},
   "outputs": [],
   "source": [
    "max_of_t= lambda x,y: x if x>y else y "
   ]
  },
  {
   "cell_type": "code",
   "execution_count": 8,
   "id": "e47351ab-f4b4-4278-915d-313b0237c7c0",
   "metadata": {},
   "outputs": [
    {
     "data": {
      "text/plain": [
       "29"
      ]
     },
     "execution_count": 8,
     "metadata": {},
     "output_type": "execute_result"
    }
   ],
   "source": [
    "max_of_t(11,29)"
   ]
  },
  {
   "cell_type": "code",
   "execution_count": 9,
   "id": "e750262d-538f-4b32-9131-535dfef3f845",
   "metadata": {},
   "outputs": [],
   "source": [
    "st=\"india\"\n",
    "len_st= lambda st : len(st)\n"
   ]
  },
  {
   "cell_type": "code",
   "execution_count": 10,
   "id": "cad069b3-7166-461f-8a0c-5e643b749974",
   "metadata": {},
   "outputs": [
    {
     "data": {
      "text/plain": [
       "5"
      ]
     },
     "execution_count": 10,
     "metadata": {},
     "output_type": "execute_result"
    }
   ],
   "source": [
    "len_st(st)"
   ]
  },
  {
   "cell_type": "markdown",
   "id": "b674c64d-733c-4533-9a85-118ba286f68c",
   "metadata": {},
   "source": [
    "## map"
   ]
  },
  {
   "cell_type": "code",
   "execution_count": 20,
   "id": "1ee1c555-3730-4fee-b16b-b5ef131d6730",
   "metadata": {},
   "outputs": [],
   "source": [
    "lst=[1,2,3,4,5,6,7,8,9,10]\n",
    "def test(l):\n",
    "    l1=[]\n",
    "    for i in l :\n",
    "        l1.append(i**2)\n",
    "    return l1"
   ]
  },
  {
   "cell_type": "code",
   "execution_count": 12,
   "id": "542fe29d-efdb-4d96-b372-41d5b670dc0c",
   "metadata": {},
   "outputs": [
    {
     "data": {
      "text/plain": [
       "[1, 4, 9, 16, 25, 36, 49, 64, 81, 100]"
      ]
     },
     "execution_count": 12,
     "metadata": {},
     "output_type": "execute_result"
    }
   ],
   "source": [
    "test(lst)"
   ]
  },
  {
   "cell_type": "code",
   "execution_count": 13,
   "id": "a5625cff-e49d-4159-a6fb-7836be6f6e19",
   "metadata": {},
   "outputs": [
    {
     "data": {
      "text/plain": [
       "[1, 2, 3, 4, 5, 6, 7, 8, 9, 10]"
      ]
     },
     "execution_count": 13,
     "metadata": {},
     "output_type": "execute_result"
    }
   ],
   "source": [
    "lst"
   ]
  },
  {
   "cell_type": "code",
   "execution_count": 14,
   "id": "d7277a68-d234-4077-8544-775734ee78f4",
   "metadata": {},
   "outputs": [],
   "source": [
    "def sq(x):\n",
    "    return x**2"
   ]
  },
  {
   "cell_type": "code",
   "execution_count": 22,
   "id": "b694991b-f9f2-4290-88ad-b25d4016c441",
   "metadata": {},
   "outputs": [
    {
     "data": {
      "text/plain": [
       "<map at 0x7fa362786a00>"
      ]
     },
     "execution_count": 22,
     "metadata": {},
     "output_type": "execute_result"
    }
   ],
   "source": [
    "map(sq,lst)"
   ]
  },
  {
   "cell_type": "code",
   "execution_count": 23,
   "id": "d41d52fe-729f-4d2c-b7db-67f98d988ea8",
   "metadata": {},
   "outputs": [
    {
     "data": {
      "text/plain": [
       "[1, 4, 9, 16, 25, 36, 49, 64, 81, 100]"
      ]
     },
     "execution_count": 23,
     "metadata": {},
     "output_type": "execute_result"
    }
   ],
   "source": [
    "list(map(sq , lst))"
   ]
  },
  {
   "cell_type": "code",
   "execution_count": 25,
   "id": "73b104ac-5a78-44c0-8c7b-43e5ebfe42a7",
   "metadata": {},
   "outputs": [
    {
     "data": {
      "text/plain": [
       "[1, 4, 9, 16, 25, 36, 49, 64, 81, 100]"
      ]
     },
     "execution_count": 25,
     "metadata": {},
     "output_type": "execute_result"
    }
   ],
   "source": [
    "list (map(lambda x: x**2,lst))"
   ]
  },
  {
   "cell_type": "code",
   "execution_count": 26,
   "id": "47b30345-cf76-46d2-a822-62a987abe0c8",
   "metadata": {},
   "outputs": [
    {
     "data": {
      "text/plain": [
       "['1', '2', '3', '4', '5', '6', '7', '8', '9', '10']"
      ]
     },
     "execution_count": 26,
     "metadata": {},
     "output_type": "execute_result"
    }
   ],
   "source": [
    "list(map(lambda x:str(x),lst))"
   ]
  },
  {
   "cell_type": "code",
   "execution_count": 27,
   "id": "0e8f50db-32fc-49ed-a9d7-6c0c38bae0bc",
   "metadata": {},
   "outputs": [
    {
     "data": {
      "text/plain": [
       "[12, 14, 16, 18, 20]"
      ]
     },
     "execution_count": 27,
     "metadata": {},
     "output_type": "execute_result"
    }
   ],
   "source": [
    "l1=[1,2,3,4,5]\n",
    "l2=[11,12,13,14,15]\n",
    "list(map(lambda x,y:x+y,l1,l2 ))"
   ]
  },
  {
   "cell_type": "code",
   "execution_count": 28,
   "id": "5b177e23-7402-4c95-a6fa-eca4c9151833",
   "metadata": {},
   "outputs": [],
   "source": [
    "from functools import reduce"
   ]
  },
  {
   "cell_type": "code",
   "execution_count": 29,
   "id": "0ae66279-ae38-4c23-a40e-0d762c1ba7a7",
   "metadata": {},
   "outputs": [],
   "source": [
    "l=[1,2,3,4,5,6,7]"
   ]
  },
  {
   "cell_type": "code",
   "execution_count": 30,
   "id": "6632b827-40d0-47f5-a050-eaf939c420f4",
   "metadata": {},
   "outputs": [
    {
     "data": {
      "text/plain": [
       "28"
      ]
     },
     "execution_count": 30,
     "metadata": {},
     "output_type": "execute_result"
    }
   ],
   "source": [
    "reduce(lambda x,y:x+y,l)"
   ]
  },
  {
   "cell_type": "code",
   "execution_count": 31,
   "id": "da1a91d8-299b-42fc-a807-db73f8a0a307",
   "metadata": {},
   "outputs": [
    {
     "ename": "TypeError",
     "evalue": "reduce() of empty sequence with no initial value",
     "output_type": "error",
     "traceback": [
      "\u001b[0;31m---------------------------------------------------------------------------\u001b[0m",
      "\u001b[0;31mTypeError\u001b[0m                                 Traceback (most recent call last)",
      "Cell \u001b[0;32mIn[31], line 1\u001b[0m\n\u001b[0;32m----> 1\u001b[0m \u001b[43mreduce\u001b[49m\u001b[43m(\u001b[49m\u001b[38;5;28;43;01mlambda\u001b[39;49;00m\u001b[43m \u001b[49m\u001b[43mx\u001b[49m\u001b[43m,\u001b[49m\u001b[43my\u001b[49m\u001b[43m:\u001b[49m\u001b[43mx\u001b[49m\u001b[38;5;241;43m+\u001b[39;49m\u001b[43my\u001b[49m\u001b[43m,\u001b[49m\u001b[43m[\u001b[49m\u001b[43m]\u001b[49m\u001b[43m)\u001b[49m\n",
      "\u001b[0;31mTypeError\u001b[0m: reduce() of empty sequence with no initial value"
     ]
    }
   ],
   "source": [
    "reduce(lambda x,y:x+y,[])"
   ]
  },
  {
   "cell_type": "code",
   "execution_count": 32,
   "id": "26b2517b-9809-4a65-a2d4-e51699f06267",
   "metadata": {},
   "outputs": [
    {
     "data": {
      "text/plain": [
       "5"
      ]
     },
     "execution_count": 32,
     "metadata": {},
     "output_type": "execute_result"
    }
   ],
   "source": [
    "reduce(lambda x,y:x+y,[5])"
   ]
  },
  {
   "cell_type": "code",
   "execution_count": 33,
   "id": "91160812-6b0a-48e1-a9d2-6f144dd4daba",
   "metadata": {},
   "outputs": [],
   "source": [
    "def add(x,y):\n",
    "    return x+y"
   ]
  },
  {
   "cell_type": "code",
   "execution_count": 34,
   "id": "81dbe44d-9454-4476-9cca-a60c45c972bb",
   "metadata": {},
   "outputs": [
    {
     "data": {
      "text/plain": [
       "28"
      ]
     },
     "execution_count": 34,
     "metadata": {},
     "output_type": "execute_result"
    }
   ],
   "source": [
    "reduce(add,l)"
   ]
  },
  {
   "cell_type": "code",
   "execution_count": 35,
   "id": "0c2416af-b8a2-48b2-840a-00076d71baa0",
   "metadata": {},
   "outputs": [
    {
     "data": {
      "text/plain": [
       "[1, 2, 3, 4, 5, 6, 7]"
      ]
     },
     "execution_count": 35,
     "metadata": {},
     "output_type": "execute_result"
    }
   ],
   "source": [
    "l"
   ]
  },
  {
   "cell_type": "code",
   "execution_count": 36,
   "id": "4ff657eb-8c3a-4fe7-b845-ee56e3372064",
   "metadata": {},
   "outputs": [
    {
     "data": {
      "text/plain": [
       "<filter at 0x7fa362a85a00>"
      ]
     },
     "execution_count": 36,
     "metadata": {},
     "output_type": "execute_result"
    }
   ],
   "source": [
    "filter(lambda x:x%2==0,l)"
   ]
  },
  {
   "cell_type": "code",
   "execution_count": 37,
   "id": "4eb359d8-4575-40b7-9c5a-3c9a0b62493a",
   "metadata": {},
   "outputs": [
    {
     "data": {
      "text/plain": [
       "[2, 4, 6]"
      ]
     },
     "execution_count": 37,
     "metadata": {},
     "output_type": "execute_result"
    }
   ],
   "source": [
    "list(filter(lambda x: x%2==0 ,l))"
   ]
  },
  {
   "cell_type": "code",
   "execution_count": 38,
   "id": "4f4a85ab-8db2-4994-9532-1a5eb95e3468",
   "metadata": {},
   "outputs": [],
   "source": [
    "l=['sush','prepare','for','data_science']\n"
   ]
  },
  {
   "cell_type": "code",
   "execution_count": 39,
   "id": "5f21956e-7826-46dd-99df-2aed59815c31",
   "metadata": {},
   "outputs": [
    {
     "data": {
      "text/plain": [
       "['sush', 'prepare', 'for']"
      ]
     },
     "execution_count": 39,
     "metadata": {},
     "output_type": "execute_result"
    }
   ],
   "source": [
    "list(filter (lambda x:len(x)<8,l))"
   ]
  },
  {
   "cell_type": "code",
   "execution_count": 40,
   "id": "61c9c90b-94ee-4e81-a105-006934f22102",
   "metadata": {},
   "outputs": [
    {
     "data": {
      "text/plain": [
       "['sush', 'prepare', 'for']"
      ]
     },
     "execution_count": 40,
     "metadata": {},
     "output_type": "execute_result"
    }
   ],
   "source": [
    "list(filter (lambda x:len(x)<8,l))"
   ]
  },
  {
   "cell_type": "code",
   "execution_count": 41,
   "id": "1c42d175-7e38-4632-afd5-b941eb2281a8",
   "metadata": {},
   "outputs": [
    {
     "data": {
      "text/plain": [
       "['sush', 'prepare', 'for']"
      ]
     },
     "execution_count": 41,
     "metadata": {},
     "output_type": "execute_result"
    }
   ],
   "source": [
    "list(filter (lambda x:len(x)<8,l))"
   ]
  },
  {
   "cell_type": "code",
   "execution_count": null,
   "id": "82a9929e-a604-43c3-9574-737f8f2fc787",
   "metadata": {},
   "outputs": [],
   "source": []
  },
  {
   "cell_type": "code",
   "execution_count": null,
   "id": "44bf411d-09e0-4556-8378-4b39978de58c",
   "metadata": {},
   "outputs": [],
   "source": []
  },
  {
   "cell_type": "code",
   "execution_count": null,
   "id": "611b37fb-c0da-4c1e-9ee4-76c11e383d34",
   "metadata": {},
   "outputs": [],
   "source": []
  }
 ],
 "metadata": {
  "kernelspec": {
   "display_name": "Python 3.8.10 64-bit",
   "language": "python",
   "name": "python3"
  },
  "language_info": {
   "codemirror_mode": {
    "name": "ipython",
    "version": 3
   },
   "file_extension": ".py",
   "mimetype": "text/x-python",
   "name": "python",
   "nbconvert_exporter": "python",
   "pygments_lexer": "ipython3",
   "version": "3.8.10"
  },
  "vscode": {
   "interpreter": {
    "hash": "e7370f93d1d0cde622a1f8e1c04877d8463912d04d973331ad4851f04de6915a"
   }
  }
 },
 "nbformat": 4,
 "nbformat_minor": 5
}
