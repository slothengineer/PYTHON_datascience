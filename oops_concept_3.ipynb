{
 "cells": [
  {
   "cell_type": "markdown",
   "id": "164acf58-f89a-4bca-8a35-8fb12dd342f3",
   "metadata": {},
   "source": [
    "## decorators"
   ]
  },
  {
   "cell_type": "code",
   "execution_count": 56,
   "id": "e7a46e49-2d0b-4e1d-8c96-854761ebe3ab",
   "metadata": {},
   "outputs": [],
   "source": [
    "def test():\n",
    "    a=4+7\n",
    "    print(\"this is start\")\n",
    "    print(a)\n",
    "    print(\"this is end\")"
   ]
  },
  {
   "cell_type": "code",
   "execution_count": 57,
   "id": "18750a13-8653-4999-b0c0-1ca4e7e01251",
   "metadata": {},
   "outputs": [
    {
     "name": "stdout",
     "output_type": "stream",
     "text": [
      "this is start\n",
      "11\n",
      "this is end\n"
     ]
    }
   ],
   "source": [
    "test()"
   ]
  },
  {
   "cell_type": "code",
   "execution_count": 58,
   "id": "7998527b-b9d3-4f80-9f49-06f39f9235f9",
   "metadata": {},
   "outputs": [],
   "source": [
    "def deco(func):\n",
    "    def inner_deco():\n",
    "        print(\"this is start\")\n",
    "        func()\n",
    "        print(\"this is end\")\n",
    "    return inner_deco"
   ]
  },
  {
   "cell_type": "code",
   "execution_count": 59,
   "id": "2903728c-da72-41c9-899a-e8c0402ffc14",
   "metadata": {},
   "outputs": [],
   "source": [
    "@deco \n",
    "def test1():\n",
    "    print(\"sum is:\",4+7)"
   ]
  },
  {
   "cell_type": "code",
   "execution_count": 60,
   "id": "a2eb26f0-2203-4caf-88b4-13743f980139",
   "metadata": {},
   "outputs": [
    {
     "name": "stdout",
     "output_type": "stream",
     "text": [
      "this is start\n",
      "sum is: 11\n",
      "this is end\n"
     ]
    }
   ],
   "source": [
    "test1()"
   ]
  },
  {
   "cell_type": "code",
   "execution_count": 61,
   "id": "c231aec7-e603-4d82-87dd-48d944d71b6a",
   "metadata": {},
   "outputs": [],
   "source": [
    "import time \n",
    "def time_test(func):\n",
    "    def time_test_inner():\n",
    "        start=time.time()\n",
    "        func()\n",
    "        end=time.time()\n",
    "        print(end - start)\n",
    "    return time_test_inner\n"
   ]
  },
  {
   "cell_type": "code",
   "execution_count": 62,
   "id": "2601537b-d12b-4ce7-8dbf-88cd87e53581",
   "metadata": {},
   "outputs": [],
   "source": [
    "@time_test\n",
    "def test2():\n",
    "    print(66+45)"
   ]
  },
  {
   "cell_type": "code",
   "execution_count": 63,
   "id": "a713dd69-ab2a-401e-a11b-a7baf7112de5",
   "metadata": {},
   "outputs": [
    {
     "name": "stdout",
     "output_type": "stream",
     "text": [
      "111\n",
      "4.0531158447265625e-05\n"
     ]
    }
   ],
   "source": [
    "test2()"
   ]
  },
  {
   "cell_type": "code",
   "execution_count": 64,
   "id": "d97c843f-ac78-489c-bf85-3aa811e20fd4",
   "metadata": {},
   "outputs": [],
   "source": [
    "@time_test\n",
    "def test3():\n",
    "    for i in range(1000000):\n",
    "        pass"
   ]
  },
  {
   "cell_type": "code",
   "execution_count": 65,
   "id": "b5d8853c-0c0a-463f-9b06-500d25f3e2c7",
   "metadata": {},
   "outputs": [
    {
     "name": "stdout",
     "output_type": "stream",
     "text": [
      "0.022783517837524414\n"
     ]
    }
   ],
   "source": [
    "test3()"
   ]
  },
  {
   "cell_type": "markdown",
   "id": "562c0b4c-d40d-43ff-b475-c02be0aa9ade",
   "metadata": {},
   "source": [
    "### classmethod"
   ]
  },
  {
   "cell_type": "code",
   "execution_count": 66,
   "id": "1e2c0801-f8d9-4e00-a1d1-0a139103b271",
   "metadata": {},
   "outputs": [],
   "source": [
    "class CH:\n",
    "    def __init__(self,name,email):\n",
    "        self.name=name\n",
    "        self.email=email\n",
    "    def student_details(self):\n",
    "        return (self.name,self.email)\n",
    "    "
   ]
  },
  {
   "cell_type": "code",
   "execution_count": 67,
   "id": "af994d70-8742-48d8-91fd-e4659669b91f",
   "metadata": {},
   "outputs": [],
   "source": [
    "ch=CH(\"sush\",\"sush@gmail.com\")"
   ]
  },
  {
   "cell_type": "code",
   "execution_count": 68,
   "id": "f9c61492-6bcf-4217-8c34-894cdeae4e35",
   "metadata": {},
   "outputs": [
    {
     "data": {
      "text/plain": [
       "'sush'"
      ]
     },
     "execution_count": 68,
     "metadata": {},
     "output_type": "execute_result"
    }
   ],
   "source": [
    "ch.name"
   ]
  },
  {
   "cell_type": "code",
   "execution_count": 69,
   "id": "69ee68f2-663a-4d21-b24b-90b0fa4d835d",
   "metadata": {},
   "outputs": [
    {
     "data": {
      "text/plain": [
       "('sush', 'sush@gmail.com')"
      ]
     },
     "execution_count": 69,
     "metadata": {},
     "output_type": "execute_result"
    }
   ],
   "source": [
    "ch.student_details()"
   ]
  },
  {
   "cell_type": "code",
   "execution_count": 70,
   "id": "63ce0309-cf9d-443a-97d9-b2755a00e99e",
   "metadata": {},
   "outputs": [],
   "source": [
    "class CH:     ##function overloading\n",
    "    def __init__(self,name,email):\n",
    "        self.name=name\n",
    "        self.email=email\n",
    "        \n",
    "    @classmethod    \n",
    "    def details(cls,name , email):\n",
    "        return cls(name,email)\n",
    "        \n",
    "        \n",
    "    def student_details(self):\n",
    "        return (self.name,self.email)\n",
    "    "
   ]
  },
  {
   "cell_type": "code",
   "execution_count": 71,
   "id": "a920e57f-5022-4e5c-a23e-ec72034cbcdf",
   "metadata": {},
   "outputs": [],
   "source": [
    "ch1=CH.details(\"yadav\",\"yadav@hotmail.com\")"
   ]
  },
  {
   "cell_type": "code",
   "execution_count": 72,
   "id": "55ef36a7-1498-4376-b830-bc75c4fb2c17",
   "metadata": {},
   "outputs": [
    {
     "data": {
      "text/plain": [
       "'yadav'"
      ]
     },
     "execution_count": 72,
     "metadata": {},
     "output_type": "execute_result"
    }
   ],
   "source": [
    "ch1.name"
   ]
  },
  {
   "cell_type": "code",
   "execution_count": 73,
   "id": "e66f48b3-eb64-4cfb-9b1e-ddd6d3dfb7f7",
   "metadata": {},
   "outputs": [
    {
     "data": {
      "text/plain": [
       "('yadav', 'yadav@hotmail.com')"
      ]
     },
     "execution_count": 73,
     "metadata": {},
     "output_type": "execute_result"
    }
   ],
   "source": [
    "ch1.student_details()"
   ]
  },
  {
   "cell_type": "code",
   "execution_count": 74,
   "id": "bde66038-7ced-451f-95a1-5cb94049baf2",
   "metadata": {},
   "outputs": [],
   "source": [
    "class CH2:    ##adding detail\n",
    "    mobile_no=9876543210\n",
    "    \n",
    "    def __init__(self,name,email):\n",
    "        self.name=name\n",
    "        self.email=email\n",
    "        \n",
    "    @classmethod    \n",
    "    def details(cls,name , email):\n",
    "        return cls(name,email)\n",
    "        \n",
    "        \n",
    "    def student_details(self):\n",
    "        return (self.name,self.email,CH2.mobile_no)\n",
    "    "
   ]
  },
  {
   "cell_type": "code",
   "execution_count": 75,
   "id": "d39c8572-c01a-4eb7-800c-c34a38126b82",
   "metadata": {},
   "outputs": [
    {
     "data": {
      "text/plain": [
       "9876543210"
      ]
     },
     "execution_count": 75,
     "metadata": {},
     "output_type": "execute_result"
    }
   ],
   "source": [
    "CH2.mobile_no"
   ]
  },
  {
   "cell_type": "code",
   "execution_count": 76,
   "id": "9ff30e30-ac22-4c81-b181-8cb8a6b19167",
   "metadata": {},
   "outputs": [],
   "source": [
    "ch2_obj=CH2.details(\"ganesh\",\"ganesh@hotmail.com\")"
   ]
  },
  {
   "cell_type": "code",
   "execution_count": 77,
   "id": "35d45212-ebf1-4d38-ae8c-c3a1df9b0c57",
   "metadata": {},
   "outputs": [
    {
     "data": {
      "text/plain": [
       "('ganesh', 'ganesh@hotmail.com', 9876543210)"
      ]
     },
     "execution_count": 77,
     "metadata": {},
     "output_type": "execute_result"
    }
   ],
   "source": [
    "ch2_obj.student_details()"
   ]
  },
  {
   "cell_type": "code",
   "execution_count": 78,
   "id": "01a49701-d396-4e05-a62f-b8313f042819",
   "metadata": {},
   "outputs": [],
   "source": [
    "ch2=CH2(\"putin\",\"putin@russia.com\")"
   ]
  },
  {
   "cell_type": "code",
   "execution_count": 79,
   "id": "157a72fc-80f4-47bf-a1a8-065334e159af",
   "metadata": {},
   "outputs": [
    {
     "data": {
      "text/plain": [
       "('putin', 'putin@russia.com', 9876543210)"
      ]
     },
     "execution_count": 79,
     "metadata": {},
     "output_type": "execute_result"
    }
   ],
   "source": [
    "ch2.student_details()\n"
   ]
  },
  {
   "cell_type": "code",
   "execution_count": 80,
   "id": "66e079a1-af03-4af6-bc65-a52c342b8356",
   "metadata": {},
   "outputs": [],
   "source": [
    "class CH2:    ##modifying extra detail\n",
    "    mobile_no=9876543210\n",
    "    \n",
    "    def __init__(self,name,email):\n",
    "        self.name=name\n",
    "        self.email=email\n",
    "        \n",
    "    @classmethod\n",
    "    def change_no(cls,mobile_no):\n",
    "        CH2.mobile_no=mobile_no\n",
    "    @classmethod\n",
    "    def details(cls,name , email):\n",
    "        return cls(name,email)\n",
    "        \n",
    "        \n",
    "    def student_details(self):\n",
    "        return (self.name,self.email,CH2.mobile_no)\n",
    "    "
   ]
  },
  {
   "cell_type": "code",
   "execution_count": 81,
   "id": "e8b6874e-37ea-457d-b980-d2691e5a8cbe",
   "metadata": {},
   "outputs": [],
   "source": [
    "CH2.change_no(3456789)"
   ]
  },
  {
   "cell_type": "code",
   "execution_count": 82,
   "id": "156a765e-6e1b-45c3-bc28-4a3d432259c6",
   "metadata": {},
   "outputs": [],
   "source": [
    "ch2=CH2(\"sahu\",\"sahu@\")"
   ]
  },
  {
   "cell_type": "code",
   "execution_count": 83,
   "id": "482afed8-bcb0-4f1c-90cf-b8a24fcc84ea",
   "metadata": {},
   "outputs": [
    {
     "data": {
      "text/plain": [
       "<__main__.CH2 at 0x7f2d7f2aea60>"
      ]
     },
     "execution_count": 83,
     "metadata": {},
     "output_type": "execute_result"
    }
   ],
   "source": [
    "ch2.details(\"sush\",\"sush@\")"
   ]
  },
  {
   "cell_type": "code",
   "execution_count": 84,
   "id": "1d20a9d3-d77a-4dfd-a589-b0b9ebc239d7",
   "metadata": {},
   "outputs": [
    {
     "data": {
      "text/plain": [
       "('sahu', 'sahu@', 3456789)"
      ]
     },
     "execution_count": 84,
     "metadata": {},
     "output_type": "execute_result"
    }
   ],
   "source": [
    "ch2.student_details()"
   ]
  },
  {
   "cell_type": "code",
   "execution_count": 85,
   "id": "5623704a-c22f-4125-938b-9487deb4717e",
   "metadata": {},
   "outputs": [],
   "source": [
    "class CH2:  ##for adding external function\n",
    "    mobile_no=9876543210\n",
    "    \n",
    "    def __init__(self,name,email):\n",
    "        self.name=name\n",
    "        self.email=email\n",
    "        \n",
    "    @classmethod\n",
    "    def change_no(cls,mobile_no):\n",
    "        CH2.mobile_no=mobile_no\n",
    "    @classmethod\n",
    "    def details(cls,name , email):\n",
    "        return cls(name,email)\n",
    "        \n",
    "        \n",
    "    def student_details(self):\n",
    "        return (self.name,self.email,CH2.mobile_no)\n",
    "    "
   ]
  },
  {
   "cell_type": "code",
   "execution_count": 86,
   "id": "f996c4b4-44df-40e1-ad62-c56488173c63",
   "metadata": {},
   "outputs": [],
   "source": [
    "def course(cls,course_name):\n",
    "    print(\"course\",course_name)"
   ]
  },
  {
   "cell_type": "code",
   "execution_count": 87,
   "id": "0e61ff7a-72dd-447d-9618-26b78d443aea",
   "metadata": {},
   "outputs": [],
   "source": [
    "CH2.course=classmethod(course)"
   ]
  },
  {
   "cell_type": "code",
   "execution_count": 88,
   "id": "f9517124-5bcb-47fc-bc48-97f0c8f22b11",
   "metadata": {},
   "outputs": [
    {
     "name": "stdout",
     "output_type": "stream",
     "text": [
      "course MT\n"
     ]
    }
   ],
   "source": [
    "CH2.course(\"MT\")"
   ]
  },
  {
   "cell_type": "code",
   "execution_count": 89,
   "id": "003f5fdf-9f9b-4ee7-995a-79c9590920b7",
   "metadata": {},
   "outputs": [],
   "source": [
    "ch3=CH2(\"sush\",\"sush@\")"
   ]
  },
  {
   "cell_type": "code",
   "execution_count": 90,
   "id": "7dc4e53f-4b22-42ff-bd8a-e6721b7635fb",
   "metadata": {},
   "outputs": [
    {
     "name": "stdout",
     "output_type": "stream",
     "text": [
      "course HT\n"
     ]
    }
   ],
   "source": [
    "ch3.course(\"HT\")"
   ]
  },
  {
   "cell_type": "code",
   "execution_count": 91,
   "id": "b94e8274-2c0e-463c-b586-5b94505a6c78",
   "metadata": {},
   "outputs": [],
   "source": [
    "class CH3:  ##for deleting\n",
    "    mobile_no=9876543210\n",
    "    \n",
    "    def __init__(self,name,email):\n",
    "        self.name=name\n",
    "        self.email=email\n",
    "        \n",
    "    @classmethod\n",
    "    def change_no(cls,mobile_no):\n",
    "        CH2.mobile_no=mobile_no\n",
    "    @classmethod\n",
    "    def details(cls,name , email):\n",
    "        return cls(name,email)\n",
    "        \n",
    "        \n",
    "    def student_details(self):\n",
    "        return (self.name,self.email,CH3.mobile_no)\n",
    "    "
   ]
  },
  {
   "cell_type": "code",
   "execution_count": 92,
   "id": "a5538823-037c-4fc1-9a7b-41cfb781ad40",
   "metadata": {},
   "outputs": [],
   "source": [
    "del CH3.change_no"
   ]
  },
  {
   "cell_type": "code",
   "execution_count": 93,
   "id": "3024f3fe-228d-4c75-be51-b24fa068630a",
   "metadata": {},
   "outputs": [],
   "source": [
    "delattr (CH3,\"details\")"
   ]
  },
  {
   "cell_type": "markdown",
   "id": "1b5288a8-67f4-492c-a017-c574bc256b1b",
   "metadata": {},
   "source": [
    "### static method"
   ]
  },
  {
   "cell_type": "code",
   "execution_count": 94,
   "id": "0ba1e56f-2398-4ef6-9902-1e28b29d2f53",
   "metadata": {},
   "outputs": [],
   "source": [
    "class CH:\n",
    "    def student_details(self,name,student_id,no):\n",
    "         print (name,student_id,no)"
   ]
  },
  {
   "cell_type": "code",
   "execution_count": 95,
   "id": "522ebc3e-76b0-43b0-af90-3fe15e59b76a",
   "metadata": {},
   "outputs": [],
   "source": [
    "ch=CH()"
   ]
  },
  {
   "cell_type": "code",
   "execution_count": 96,
   "id": "e664d105-56bf-411d-8396-b1e597cc8a91",
   "metadata": {},
   "outputs": [
    {
     "name": "stdout",
     "output_type": "stream",
     "text": [
      "sush 14 956542\n"
     ]
    }
   ],
   "source": [
    "ch.student_details(\"sush\",14,956542)"
   ]
  },
  {
   "cell_type": "code",
   "execution_count": 97,
   "id": "9b833360-9078-471f-9609-a7ae689d7a37",
   "metadata": {},
   "outputs": [],
   "source": [
    "class CH1:\n",
    "    def student_details(self,name,student_id,no):\n",
    "         print (name,student_id,no)\n",
    "    @staticmethod\n",
    "    def mentor_class(list_mentor):\n",
    "        print(list_mentor)\n",
    "    def mentor(self,mentor_list):\n",
    "        print(mentor_list)\n",
    "    "
   ]
  },
  {
   "cell_type": "code",
   "execution_count": 98,
   "id": "3a1baba5-b2ac-4e98-a626-7d6dab20f1fe",
   "metadata": {},
   "outputs": [
    {
     "name": "stdout",
     "output_type": "stream",
     "text": [
      "['sour', 'rahul']\n"
     ]
    }
   ],
   "source": [
    "CH1.mentor_class([\"sour\",\"rahul\"])"
   ]
  },
  {
   "cell_type": "code",
   "execution_count": 99,
   "id": "7c68fe11-84b0-4e47-a45d-9debf0a509ca",
   "metadata": {},
   "outputs": [],
   "source": [
    "ch1=CH1()"
   ]
  },
  {
   "cell_type": "code",
   "execution_count": 100,
   "id": "757ba74c-5cda-4198-b45e-7a3acbb2e680",
   "metadata": {},
   "outputs": [
    {
     "name": "stdout",
     "output_type": "stream",
     "text": [
      "['sour', 'rahul']\n"
     ]
    }
   ],
   "source": [
    "ch1.mentor([\"sour\",\"rahul\"])"
   ]
  },
  {
   "cell_type": "code",
   "execution_count": 101,
   "id": "efab4745-339d-4a96-92c4-9bb8b5e6b290",
   "metadata": {},
   "outputs": [
    {
     "name": "stdout",
     "output_type": "stream",
     "text": [
      "['mita', 'priya']\n"
     ]
    }
   ],
   "source": [
    "ch1.mentor_class([\"mita\",\"priya\"])"
   ]
  },
  {
   "cell_type": "code",
   "execution_count": 102,
   "id": "c9cba798-d605-4a25-898c-600e4954591d",
   "metadata": {},
   "outputs": [],
   "source": [
    "class CH2:\n",
    "    def student_details(self,name,student_id,no):\n",
    "         print (name,student_id,no)\n",
    "    @staticmethod\n",
    "    def mentors_id(mentor_id):\n",
    "        print(mentor_id)\n",
    "        \n",
    "    @staticmethod\n",
    "    def mentor_class(list_mentor):\n",
    "        print(list_mentor)\n",
    "        CH1.mentor_id([100,101])  ##we can call static method under static method too\n",
    "    @classmethod\n",
    "    def class_name(cls,class_name):\n",
    "        cls.mentor_class([\"babi\",\"manshi\"]) ##WE CAN CALL static methhod under class method too\n",
    "    def mentor(self,mentor_list):\n",
    "        print(mentor_list)\n",
    "        self.mentor_class([\"babi\",\"manshi\"]) ##we can call static method under instance method too\n",
    "    "
   ]
  },
  {
   "cell_type": "code",
   "execution_count": 103,
   "id": "74308c35-c263-4bf0-9aed-edcf1dc52bc5",
   "metadata": {},
   "outputs": [],
   "source": [
    "ch1=CH2()"
   ]
  },
  {
   "cell_type": "markdown",
   "id": "9c7179ca-b675-44ed-abc5-1b0f970f225d",
   "metadata": {},
   "source": [
    "## magic/dunder method"
   ]
  },
  {
   "cell_type": "code",
   "execution_count": 104,
   "id": "22c1483b-abc8-4fee-bac0-03c018a33a90",
   "metadata": {},
   "outputs": [
    {
     "data": {
      "text/plain": [
       "['__abs__',\n",
       " '__add__',\n",
       " '__and__',\n",
       " '__bool__',\n",
       " '__ceil__',\n",
       " '__class__',\n",
       " '__delattr__',\n",
       " '__dir__',\n",
       " '__divmod__',\n",
       " '__doc__',\n",
       " '__eq__',\n",
       " '__float__',\n",
       " '__floor__',\n",
       " '__floordiv__',\n",
       " '__format__',\n",
       " '__ge__',\n",
       " '__getattribute__',\n",
       " '__getnewargs__',\n",
       " '__gt__',\n",
       " '__hash__',\n",
       " '__index__',\n",
       " '__init__',\n",
       " '__init_subclass__',\n",
       " '__int__',\n",
       " '__invert__',\n",
       " '__le__',\n",
       " '__lshift__',\n",
       " '__lt__',\n",
       " '__mod__',\n",
       " '__mul__',\n",
       " '__ne__',\n",
       " '__neg__',\n",
       " '__new__',\n",
       " '__or__',\n",
       " '__pos__',\n",
       " '__pow__',\n",
       " '__radd__',\n",
       " '__rand__',\n",
       " '__rdivmod__',\n",
       " '__reduce__',\n",
       " '__reduce_ex__',\n",
       " '__repr__',\n",
       " '__rfloordiv__',\n",
       " '__rlshift__',\n",
       " '__rmod__',\n",
       " '__rmul__',\n",
       " '__ror__',\n",
       " '__round__',\n",
       " '__rpow__',\n",
       " '__rrshift__',\n",
       " '__rshift__',\n",
       " '__rsub__',\n",
       " '__rtruediv__',\n",
       " '__rxor__',\n",
       " '__setattr__',\n",
       " '__sizeof__',\n",
       " '__str__',\n",
       " '__sub__',\n",
       " '__subclasshook__',\n",
       " '__truediv__',\n",
       " '__trunc__',\n",
       " '__xor__',\n",
       " 'as_integer_ratio',\n",
       " 'bit_length',\n",
       " 'conjugate',\n",
       " 'denominator',\n",
       " 'from_bytes',\n",
       " 'imag',\n",
       " 'numerator',\n",
       " 'real',\n",
       " 'to_bytes']"
      ]
     },
     "execution_count": 104,
     "metadata": {},
     "output_type": "execute_result"
    }
   ],
   "source": [
    "dir(int)"
   ]
  },
  {
   "cell_type": "code",
   "execution_count": 105,
   "id": "a4326800-b034-466b-b9e4-4efc4ca269c4",
   "metadata": {},
   "outputs": [
    {
     "data": {
      "text/plain": [
       "['__add__',\n",
       " '__class__',\n",
       " '__contains__',\n",
       " '__delattr__',\n",
       " '__dir__',\n",
       " '__doc__',\n",
       " '__eq__',\n",
       " '__format__',\n",
       " '__ge__',\n",
       " '__getattribute__',\n",
       " '__getitem__',\n",
       " '__getnewargs__',\n",
       " '__gt__',\n",
       " '__hash__',\n",
       " '__init__',\n",
       " '__init_subclass__',\n",
       " '__iter__',\n",
       " '__le__',\n",
       " '__len__',\n",
       " '__lt__',\n",
       " '__mod__',\n",
       " '__mul__',\n",
       " '__ne__',\n",
       " '__new__',\n",
       " '__reduce__',\n",
       " '__reduce_ex__',\n",
       " '__repr__',\n",
       " '__rmod__',\n",
       " '__rmul__',\n",
       " '__setattr__',\n",
       " '__sizeof__',\n",
       " '__str__',\n",
       " '__subclasshook__',\n",
       " 'capitalize',\n",
       " 'casefold',\n",
       " 'center',\n",
       " 'count',\n",
       " 'encode',\n",
       " 'endswith',\n",
       " 'expandtabs',\n",
       " 'find',\n",
       " 'format',\n",
       " 'format_map',\n",
       " 'index',\n",
       " 'isalnum',\n",
       " 'isalpha',\n",
       " 'isascii',\n",
       " 'isdecimal',\n",
       " 'isdigit',\n",
       " 'isidentifier',\n",
       " 'islower',\n",
       " 'isnumeric',\n",
       " 'isprintable',\n",
       " 'isspace',\n",
       " 'istitle',\n",
       " 'isupper',\n",
       " 'join',\n",
       " 'ljust',\n",
       " 'lower',\n",
       " 'lstrip',\n",
       " 'maketrans',\n",
       " 'partition',\n",
       " 'replace',\n",
       " 'rfind',\n",
       " 'rindex',\n",
       " 'rjust',\n",
       " 'rpartition',\n",
       " 'rsplit',\n",
       " 'rstrip',\n",
       " 'split',\n",
       " 'splitlines',\n",
       " 'startswith',\n",
       " 'strip',\n",
       " 'swapcase',\n",
       " 'title',\n",
       " 'translate',\n",
       " 'upper',\n",
       " 'zfill']"
      ]
     },
     "execution_count": 105,
     "metadata": {},
     "output_type": "execute_result"
    }
   ],
   "source": [
    "dir(str)"
   ]
  },
  {
   "cell_type": "code",
   "execution_count": 106,
   "id": "31ed6f0e-70d9-4316-ba8c-29d778e9762b",
   "metadata": {},
   "outputs": [],
   "source": [
    "a=6"
   ]
  },
  {
   "cell_type": "code",
   "execution_count": 107,
   "id": "e77e7153-69c9-4343-a346-b507b251f460",
   "metadata": {},
   "outputs": [
    {
     "data": {
      "text/plain": [
       "11"
      ]
     },
     "execution_count": 107,
     "metadata": {},
     "output_type": "execute_result"
    }
   ],
   "source": [
    "a+5"
   ]
  },
  {
   "cell_type": "code",
   "execution_count": 108,
   "id": "bf7eb0d2-c459-4534-b300-6a71f72a7d6c",
   "metadata": {},
   "outputs": [
    {
     "data": {
      "text/plain": [
       "11"
      ]
     },
     "execution_count": 108,
     "metadata": {},
     "output_type": "execute_result"
    }
   ],
   "source": [
    "a.__add__(5)"
   ]
  },
  {
   "cell_type": "code",
   "execution_count": 109,
   "id": "ef1f0584-afe6-4d3e-a43c-f277a6ff6ccc",
   "metadata": {},
   "outputs": [],
   "source": [
    "class ch:\n",
    "    def __init__(self):\n",
    "        print(\"this is my init\")"
   ]
  },
  {
   "cell_type": "code",
   "execution_count": 110,
   "id": "6617eb08-ea9e-468d-95a7-93e8dc0c1e05",
   "metadata": {},
   "outputs": [
    {
     "name": "stdout",
     "output_type": "stream",
     "text": [
      "this is my init\n"
     ]
    },
    {
     "data": {
      "text/plain": [
       "<__main__.ch at 0x7f2d7f2ae9a0>"
      ]
     },
     "execution_count": 110,
     "metadata": {},
     "output_type": "execute_result"
    }
   ],
   "source": [
    "ch()"
   ]
  },
  {
   "cell_type": "code",
   "execution_count": 111,
   "id": "69ab9fc7-32a0-4525-ba94-7ada52d4ce7a",
   "metadata": {},
   "outputs": [],
   "source": [
    "class ch:\n",
    "    def __new__(cls):\n",
    "        print(\"this is new \")\n",
    "    def __init__(self):\n",
    "        print(\"this is my init\")"
   ]
  },
  {
   "cell_type": "code",
   "execution_count": 112,
   "id": "6237b8d4-b75a-490f-80a3-9f93ed496386",
   "metadata": {},
   "outputs": [
    {
     "name": "stdout",
     "output_type": "stream",
     "text": [
      "this is new \n"
     ]
    }
   ],
   "source": [
    "ch()"
   ]
  },
  {
   "cell_type": "code",
   "execution_count": 113,
   "id": "75efee26-449e-4611-9da9-ba95a1a40577",
   "metadata": {},
   "outputs": [],
   "source": [
    "class ch:\n",
    "    def __init__(self):\n",
    "        self.mobile_no=986532"
   ]
  },
  {
   "cell_type": "code",
   "execution_count": 114,
   "id": "9952cb88-7519-40c6-9adc-d5b8d55f9687",
   "metadata": {},
   "outputs": [],
   "source": [
    "c=ch()"
   ]
  },
  {
   "cell_type": "code",
   "execution_count": 115,
   "id": "27686f99-ba58-4581-9320-b01341b373a3",
   "metadata": {},
   "outputs": [
    {
     "name": "stdout",
     "output_type": "stream",
     "text": [
      "<__main__.ch object at 0x7f2d94297a30>\n"
     ]
    }
   ],
   "source": [
    "print(c)"
   ]
  },
  {
   "cell_type": "code",
   "execution_count": 116,
   "id": "c7924acc-5361-48f4-90ba-7748915d1aa3",
   "metadata": {},
   "outputs": [],
   "source": [
    "class ch:\n",
    "    def __init__(self):\n",
    "        self.mobile_no=986532\n",
    "    def __str__(self):\n",
    "        return \"this is magic method which show some output \""
   ]
  },
  {
   "cell_type": "code",
   "execution_count": 117,
   "id": "faf9600a-7e8f-45e5-86eb-ca81581e6ba8",
   "metadata": {},
   "outputs": [],
   "source": [
    "c=ch()"
   ]
  },
  {
   "cell_type": "code",
   "execution_count": 118,
   "id": "fe6949b0-fae0-4944-9521-348ef9b03a54",
   "metadata": {},
   "outputs": [
    {
     "name": "stdout",
     "output_type": "stream",
     "text": [
      "this is magic method which show some output \n"
     ]
    }
   ],
   "source": [
    "print(c)"
   ]
  },
  {
   "cell_type": "markdown",
   "id": "a98a5b9b-a37c-4925-805e-25cd2037e9e8",
   "metadata": {},
   "source": [
    "## property decorators"
   ]
  },
  {
   "cell_type": "code",
   "execution_count": 119,
   "id": "da39394a-a716-43ca-bf0c-3cc94b28982a",
   "metadata": {},
   "outputs": [],
   "source": [
    "class pwskills:\n",
    "    def __init__(self,course_price,course_name ):\n",
    "        self.__course_price= course_price\n",
    "        self.course_name= course_name\n",
    "        "
   ]
  },
  {
   "cell_type": "code",
   "execution_count": 120,
   "id": "78abdd13-ec82-47aa-940b-525876af2b73",
   "metadata": {},
   "outputs": [],
   "source": [
    "pw=pwskills(3500,\"DSM\")"
   ]
  },
  {
   "cell_type": "code",
   "execution_count": 121,
   "id": "b7ce8faf-54e5-4631-91e9-49c168079ea3",
   "metadata": {},
   "outputs": [
    {
     "data": {
      "text/plain": [
       "'DSM'"
      ]
     },
     "execution_count": 121,
     "metadata": {},
     "output_type": "execute_result"
    }
   ],
   "source": [
    "pw.course_name"
   ]
  },
  {
   "cell_type": "code",
   "execution_count": 122,
   "id": "8c7f9cec-889b-4359-bfc1-f696f0338fa6",
   "metadata": {},
   "outputs": [
    {
     "data": {
      "text/plain": [
       "3500"
      ]
     },
     "execution_count": 122,
     "metadata": {},
     "output_type": "execute_result"
    }
   ],
   "source": [
    "pw._pwskills__course_price "
   ]
  },
  {
   "cell_type": "code",
   "execution_count": 123,
   "id": "1e977989-9f53-4087-afef-c67ffe0c3cf7",
   "metadata": {},
   "outputs": [],
   "source": [
    "class pwskills:\n",
    "    def __init__(self,course_price,course_name ):\n",
    "        self.__course_price= course_price\n",
    "        self.course_name= course_name\n",
    "    @property\n",
    "    def course_price_access(self):\n",
    "        return self.__course_price\n",
    "    @course_price_access.setter\n",
    "    def course_price_set(self,price):\n",
    "        if price <=3500:\n",
    "            pass\n",
    "        else:\n",
    "            self.__course_price=price\n",
    "    @course_price_access.deleter\n",
    "    def course_price_del(self):\n",
    "            del self.__course_price\n",
    "    \n",
    "        "
   ]
  },
  {
   "cell_type": "code",
   "execution_count": 124,
   "id": "eb7be999-7e83-475b-b8cf-ddaec2e2cfd5",
   "metadata": {},
   "outputs": [],
   "source": [
    "pw=pwskills(3500,\"web dev\")"
   ]
  },
  {
   "cell_type": "code",
   "execution_count": 125,
   "id": "5233c4ad-c01c-4149-a608-3667040f931c",
   "metadata": {},
   "outputs": [
    {
     "data": {
      "text/plain": [
       "3500"
      ]
     },
     "execution_count": 125,
     "metadata": {},
     "output_type": "execute_result"
    }
   ],
   "source": [
    "pw.course_price_access"
   ]
  },
  {
   "cell_type": "code",
   "execution_count": 126,
   "id": "e8221cb2-8dab-49fd-9ea8-a11075688a64",
   "metadata": {},
   "outputs": [],
   "source": [
    "pw.course_price_set=2350"
   ]
  },
  {
   "cell_type": "code",
   "execution_count": 127,
   "id": "8a6d2451-4933-4f70-942a-16447baa4773",
   "metadata": {},
   "outputs": [
    {
     "data": {
      "text/plain": [
       "3500"
      ]
     },
     "execution_count": 127,
     "metadata": {},
     "output_type": "execute_result"
    }
   ],
   "source": [
    "pw.course_price_access"
   ]
  },
  {
   "cell_type": "code",
   "execution_count": 128,
   "id": "d7db5761-45ea-453c-acc8-9149b299dd0f",
   "metadata": {},
   "outputs": [],
   "source": [
    "pw.course_price_set=7000"
   ]
  },
  {
   "cell_type": "code",
   "execution_count": 129,
   "id": "b68e83e6-5dc2-41f9-8cf4-62957fdff2c1",
   "metadata": {},
   "outputs": [
    {
     "data": {
      "text/plain": [
       "7000"
      ]
     },
     "execution_count": 129,
     "metadata": {},
     "output_type": "execute_result"
    }
   ],
   "source": [
    "pw.course_price_access"
   ]
  },
  {
   "cell_type": "code",
   "execution_count": 130,
   "id": "c6e6cc89-2482-4f41-a11d-12c83f4f6c05",
   "metadata": {},
   "outputs": [],
   "source": [
    "del pw.course_price_del"
   ]
  },
  {
   "cell_type": "code",
   "execution_count": null,
   "id": "6be3d4c4-1ef9-48a2-a378-b98b945a9d6e",
   "metadata": {},
   "outputs": [],
   "source": []
  },
  {
   "cell_type": "code",
   "execution_count": null,
   "id": "143b7ac5-6436-4400-bb07-85ede43ce474",
   "metadata": {},
   "outputs": [],
   "source": []
  }
 ],
 "metadata": {
  "kernelspec": {
   "display_name": "Python 3.8.10 64-bit",
   "language": "python",
   "name": "python3"
  },
  "language_info": {
   "codemirror_mode": {
    "name": "ipython",
    "version": 3
   },
   "file_extension": ".py",
   "mimetype": "text/x-python",
   "name": "python",
   "nbconvert_exporter": "python",
   "pygments_lexer": "ipython3",
   "version": "3.8.10"
  },
  "vscode": {
   "interpreter": {
    "hash": "e7370f93d1d0cde622a1f8e1c04877d8463912d04d973331ad4851f04de6915a"
   }
  }
 },
 "nbformat": 4,
 "nbformat_minor": 5
}
