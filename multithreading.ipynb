{
 "cells": [
  {
   "cell_type": "code",
   "execution_count": 1,
   "id": "8115f7a2-15cb-4e2a-aef3-4d054ee1076d",
   "metadata": {},
   "outputs": [],
   "source": [
    "import threading"
   ]
  },
  {
   "cell_type": "code",
   "execution_count": 2,
   "id": "cd088470-0bde-475d-9088-1125fc10d97a",
   "metadata": {},
   "outputs": [],
   "source": [
    "def test(id):\n",
    "    print('this is my test id %d'%id)"
   ]
  },
  {
   "cell_type": "code",
   "execution_count": 3,
   "id": "b32f0ef9-ea37-4f92-9435-9d00077ba7c7",
   "metadata": {},
   "outputs": [
    {
     "name": "stdout",
     "output_type": "stream",
     "text": [
      "this is my test id 1\n"
     ]
    }
   ],
   "source": [
    "test(1)"
   ]
  },
  {
   "cell_type": "code",
   "execution_count": 4,
   "id": "d3bc7da3-ed6e-4edb-9e2c-50679693a37f",
   "metadata": {},
   "outputs": [
    {
     "name": "stdout",
     "output_type": "stream",
     "text": [
      "this is my test id 10\n"
     ]
    }
   ],
   "source": [
    "test(10)"
   ]
  },
  {
   "cell_type": "code",
   "execution_count": 5,
   "id": "9b4df162-8fc9-44b6-8b68-5955f011130b",
   "metadata": {},
   "outputs": [
    {
     "name": "stdout",
     "output_type": "stream",
     "text": [
      "this is my test id 3\n"
     ]
    }
   ],
   "source": [
    "test(3)"
   ]
  },
  {
   "cell_type": "code",
   "execution_count": 6,
   "id": "beb878ef-66cd-4784-821f-82320dfaf0c9",
   "metadata": {},
   "outputs": [],
   "source": [
    "thred=[threading.Thread(target=test,args=(i,)) for i in [1,10,3]]"
   ]
  },
  {
   "cell_type": "code",
   "execution_count": 7,
   "id": "d8cbdf66-10bb-45b0-8294-0b8325451ae5",
   "metadata": {},
   "outputs": [
    {
     "data": {
      "text/plain": [
       "[<Thread(Thread-4, initial)>,\n",
       " <Thread(Thread-5, initial)>,\n",
       " <Thread(Thread-6, initial)>]"
      ]
     },
     "execution_count": 7,
     "metadata": {},
     "output_type": "execute_result"
    }
   ],
   "source": [
    "thred\n"
   ]
  },
  {
   "cell_type": "code",
   "execution_count": 8,
   "id": "bab0f2a7-2337-40e4-8653-e3b5916ce10d",
   "metadata": {},
   "outputs": [
    {
     "name": "stdout",
     "output_type": "stream",
     "text": [
      "this is my test id 1\n",
      "this is my test id 10\n",
      "this is my test id 3\n"
     ]
    }
   ],
   "source": [
    "for t in thred:\n",
    "    t.start()\n",
    "    "
   ]
  },
  {
   "cell_type": "code",
   "execution_count": 9,
   "id": "6e54f6ea-66b2-4c4a-b547-6ed1f9ed4d5c",
   "metadata": {},
   "outputs": [],
   "source": [
    "import urllib.request"
   ]
  },
  {
   "cell_type": "code",
   "execution_count": 10,
   "id": "2af2255a-d299-42d2-9665-dbccfa89967a",
   "metadata": {},
   "outputs": [],
   "source": [
    "def file_download(url,filename):\n",
    "    urllib.request.urlretrieve(url,filename)"
   ]
  },
  {
   "cell_type": "code",
   "execution_count": 11,
   "id": "93430de8-5cdd-4fbd-ba19-8a1386abec6d",
   "metadata": {},
   "outputs": [],
   "source": [
    "file_download(\"http://libgen.rs/search.php?req=H.+SCOTT+FOGLER&open=0&res=25&view=simple&phrase=1&column=def\",\"test5.txt\")"
   ]
  },
  {
   "cell_type": "code",
   "execution_count": 12,
   "id": "d13469ca-8685-400b-9917-2911104bdd16",
   "metadata": {},
   "outputs": [],
   "source": [
    "url_list=(\"http://libgen.rs/search.php?req=H.+SCOTT+FOGLER&open=0&res=25&view=simple&phrase=1&column=def\",\"https://www.google.com/maps/@25.470865,81.8333549,15z\",\"https://mail.google.com/mail/u/0/#inbox\")"
   ]
  },
  {
   "cell_type": "code",
   "execution_count": 13,
   "id": "dca0a1b7-b482-4876-9454-d52493d90f00",
   "metadata": {},
   "outputs": [
    {
     "data": {
      "text/plain": [
       "('http://libgen.rs/search.php?req=H.+SCOTT+FOGLER&open=0&res=25&view=simple&phrase=1&column=def',\n",
       " 'https://www.google.com/maps/@25.470865,81.8333549,15z',\n",
       " 'https://mail.google.com/mail/u/0/#inbox')"
      ]
     },
     "execution_count": 13,
     "metadata": {},
     "output_type": "execute_result"
    }
   ],
   "source": [
    "url_list"
   ]
  },
  {
   "cell_type": "code",
   "execution_count": 14,
   "id": "444cce08-6e3e-4014-b5dc-c6d7378c50c9",
   "metadata": {},
   "outputs": [],
   "source": [
    "data_file_list=[\"data1.txt\",\"data2.txt\",\"data3,txt\"]"
   ]
  },
  {
   "cell_type": "code",
   "execution_count": 15,
   "id": "3595f24c-62f2-4472-a7ed-b62c1afc4ad2",
   "metadata": {},
   "outputs": [
    {
     "data": {
      "text/plain": [
       "['data1.txt', 'data2.txt', 'data3,txt']"
      ]
     },
     "execution_count": 15,
     "metadata": {},
     "output_type": "execute_result"
    }
   ],
   "source": [
    "data_file_list"
   ]
  },
  {
   "cell_type": "code",
   "execution_count": 16,
   "id": "fe422e7b-3185-4cd1-bf8a-cd5bc9b26b12",
   "metadata": {},
   "outputs": [],
   "source": [
    "thread1=[threading.Thread(target=file_download,args = (url_list[i],data_file_list[i])) for i in  range(len(url_list))]"
   ]
  },
  {
   "cell_type": "code",
   "execution_count": 17,
   "id": "fcd12d92-c488-4b40-afbd-17374c6d1345",
   "metadata": {},
   "outputs": [],
   "source": [
    "for t in thread1:\n",
    "    t.start()"
   ]
  },
  {
   "cell_type": "code",
   "execution_count": 18,
   "id": "a81a9d7e-3781-4706-b226-9a8af2eadd8d",
   "metadata": {},
   "outputs": [],
   "source": [
    "import time"
   ]
  },
  {
   "cell_type": "code",
   "execution_count": 19,
   "id": "408a2a89-465c-4c49-9774-d3480688f471",
   "metadata": {},
   "outputs": [],
   "source": [
    "def test2(x):\n",
    "    for i in range(10):\n",
    "        print(\"test1 print the value of x %d and print the value of i %d \"%(x,i))\n",
    "        time.sleep(1)"
   ]
  },
  {
   "cell_type": "code",
   "execution_count": 20,
   "id": "db909948-c883-4b1b-9b62-f44b9e8df3df",
   "metadata": {},
   "outputs": [
    {
     "name": "stdout",
     "output_type": "stream",
     "text": [
      "test1 print the value of x 1 and print the value of i 0 \n",
      "test1 print the value of x 1 and print the value of i 1 \n",
      "test1 print the value of x 1 and print the value of i 2 \n",
      "test1 print the value of x 1 and print the value of i 3 \n",
      "test1 print the value of x 1 and print the value of i 4 \n",
      "test1 print the value of x 1 and print the value of i 5 \n",
      "test1 print the value of x 1 and print the value of i 6 \n",
      "test1 print the value of x 1 and print the value of i 7 \n",
      "test1 print the value of x 1 and print the value of i 8 \n",
      "test1 print the value of x 1 and print the value of i 9 \n"
     ]
    }
   ],
   "source": [
    "test2(1) ## execute after a pause of 1 sec\n"
   ]
  },
  {
   "cell_type": "code",
   "execution_count": 21,
   "id": "a72f21d4-97af-44c1-ae51-c82ce9ec9202",
   "metadata": {},
   "outputs": [],
   "source": [
    "def test2(x):\n",
    "    for i in range(10):\n",
    "        print(\"test1 print the value of x %d and print the value of i %d \"%(x,i))"
   ]
  },
  {
   "cell_type": "code",
   "execution_count": 22,
   "id": "9e89cc52-e999-4fd1-807f-00974725754f",
   "metadata": {},
   "outputs": [
    {
     "name": "stdout",
     "output_type": "stream",
     "text": [
      "test1 print the value of x 1 and print the value of i 0 \n",
      "test1 print the value of x 1 and print the value of i 1 \n",
      "test1 print the value of x 1 and print the value of i 2 \n",
      "test1 print the value of x 1 and print the value of i 3 \n",
      "test1 print the value of x 1 and print the value of i 4 \n",
      "test1 print the value of x 1 and print the value of i 5 \n",
      "test1 print the value of x 1 and print the value of i 6 \n",
      "test1 print the value of x 1 and print the value of i 7 \n",
      "test1 print the value of x 1 and print the value of i 8 \n",
      "test1 print the value of x 1 and print the value of i 9 \n"
     ]
    }
   ],
   "source": [
    "test2(1) ##execute at once"
   ]
  },
  {
   "cell_type": "code",
   "execution_count": 23,
   "id": "2263d05e-cf73-44c2-85fc-e078f7446550",
   "metadata": {},
   "outputs": [],
   "source": [
    "def test2(x):\n",
    "    for i in range(10):\n",
    "        print(\"test1 print the value of x %d and print the value of i %d \"%(x,i))\n",
    "        time.sleep(1)"
   ]
  },
  {
   "cell_type": "code",
   "execution_count": 24,
   "id": "8a0c1a92-d14e-4236-840c-b7af3a73b090",
   "metadata": {},
   "outputs": [],
   "source": [
    "thread2=[threading.Thread(target=test2,args=(i,)) for i in [100,10,20,5]]"
   ]
  },
  {
   "cell_type": "code",
   "execution_count": 25,
   "id": "a280ffc4-fdaa-42d2-914f-76d563bde31e",
   "metadata": {},
   "outputs": [
    {
     "name": "stdout",
     "output_type": "stream",
     "text": [
      "test1 print the value of x 100 and print the value of i 0 \n",
      "test1 print the value of x 10 and print the value of i 0 \n",
      "test1 print the value of x 20 and print the value of i 0 \n",
      "test1 print the value of x 5 and print the value of i 0 \n"
     ]
    }
   ],
   "source": [
    "for t in thread2:\n",
    "    t.start()"
   ]
  },
  {
   "cell_type": "code",
   "execution_count": 26,
   "id": "05db08bf-a363-4780-9ee3-42812a9d5750",
   "metadata": {},
   "outputs": [],
   "source": [
    "def test2(x):\n",
    "    for i in range(10):\n",
    "        print(\"test1 print the value of x %d and print the value of i %d \"%(x,i))\n",
    "       ## time.sleep(1)"
   ]
  },
  {
   "cell_type": "code",
   "execution_count": 27,
   "id": "a089f502-7d15-4e5d-8677-13c1165154fd",
   "metadata": {},
   "outputs": [],
   "source": [
    "thread2=[threading.Thread(target=test2,args=(i,)) for i in [100,10,20,5]]"
   ]
  },
  {
   "cell_type": "code",
   "execution_count": 28,
   "id": "1f758ba4-0840-4af8-a319-4dd727464993",
   "metadata": {},
   "outputs": [
    {
     "name": "stdout",
     "output_type": "stream",
     "text": [
      "test1 print the value of x 100 and print the value of i 1 \n",
      "test1 print the value of x 10 and print the value of i 1 \n",
      "test1 print the value of x 20 and print the value of i 1 \n",
      "test1 print the value of x 5 and print the value of i 1 \n",
      "test1 print the value of x 100 and print the value of i 0 \n",
      "test1 print the value of x 100 and print the value of i 1 \n",
      "test1 print the value of x 100 and print the value of i 2 \n",
      "test1 print the value of x 100 and print the value of i 3 \n",
      "test1 print the value of x 100 and print the value of i 4 \n",
      "test1 print the value of x 100 and print the value of i 5 \n",
      "test1 print the value of x 100 and print the value of i 6 \n",
      "test1 print the value of x 100 and print the value of i 7 \n",
      "test1 print the value of x 100 and print the value of i 8 \n",
      "test1 print the value of x 100 and print the value of i 9 \n",
      "test1 print the value of x 10 and print the value of i 0 \n",
      "test1 print the value of x 10 and print the value of i 1 \n",
      "test1 print the value of x 10 and print the value of i 2 \n",
      "test1 print the value of x 10 and print the value of i 3 \n",
      "test1 print the value of x 10 and print the value of i 4 \n",
      "test1 print the value of x 10 and print the value of i 5 \n",
      "test1 print the value of x 10 and print the value of i 6 \n",
      "test1 print the value of x 10 and print the value of i 7 \n",
      "test1 print the value of x 10 and print the value of i 8 \n",
      "test1 print the value of x 10 and print the value of i 9 \n",
      "test1 print the value of x 20 and print the value of i 0 \n",
      "test1 print the value of x 20 and print the value of i 1 \n",
      "test1 print the value of x 20 and print the value of i 2 \n",
      "test1 print the value of x 20 and print the value of i 3 \n",
      "test1 print the value of x 20 and print the value of i 4 \n",
      "test1 print the value of x 20 and print the value of i 5 \n",
      "test1 print the value of x 20 and print the value of i 6 \n",
      "test1 print the value of x 20 and print the value of i 7 \n",
      "test1 print the value of x 20 and print the value of i 8 \n",
      "test1 print the value of x 20 and print the value of i 9 \n",
      "test1 print the value of x 5 and print the value of i 0 \n",
      "test1 print the value of x 5 and print the value of i 1 \n",
      "test1 print the value of x 5 and print the value of i 2 \n",
      "test1 print the value of x 5 and print the value of i 3 \n",
      "test1 print the value of x 5 and print the value of i 4 \n",
      "test1 print the value of x 5 and print the value of i 5 \n",
      "test1 print the value of x 5 and print the value of i 6 \n",
      "test1 print the value of x 5 and print the value of i 7 \n",
      "test1 print the value of x 5 and print the value of i 8 \n",
      "test1 print the value of x 5 and print the value of i 9 \n"
     ]
    }
   ],
   "source": [
    "for t in thread2:\n",
    "    t.start()"
   ]
  },
  {
   "cell_type": "code",
   "execution_count": 29,
   "id": "5c9f1152-0c23-424b-8d26-7cf8b6e54bd7",
   "metadata": {},
   "outputs": [],
   "source": [
    "shared_var=0\n",
    "lock_var=threading.Lock()\n",
    "def test3(x):\n",
    "    global shared_var\n",
    "    with lock_var :\n",
    "        shared_var=shared_var+1\n",
    "        print(\"value of x %d and value of shared_var %d \"%(x,shared_var))\n",
    "        time.sleep(1)\n",
    "        \n",
    "    "
   ]
  },
  {
   "cell_type": "code",
   "execution_count": 30,
   "id": "81dc9699-d6d7-40d2-ac21-2a919e972167",
   "metadata": {},
   "outputs": [
    {
     "name": "stdout",
     "output_type": "stream",
     "text": [
      "value of x 1 and value of shared_var 1 \n",
      "test1 print the value of x 100 and print the value of i 3 \n",
      "test1 print the value of x 10 and print the value of i 3 \n",
      "test1 print the value of x 20 and print the value of i 3 \n",
      "test1 print the value of x 5 and print the value of i 3 \n"
     ]
    }
   ],
   "source": [
    "test3(1)"
   ]
  },
  {
   "cell_type": "code",
   "execution_count": 31,
   "id": "ef0b9587-5306-4aed-8c3d-4820d59eb6ab",
   "metadata": {},
   "outputs": [
    {
     "name": "stdout",
     "output_type": "stream",
     "text": [
      "value of x 2 and value of shared_var 2 \n",
      "test1 print the value of x 100 and print the value of i 4 \n",
      "test1 print the value of x 10 and print the value of i 4 \n",
      "test1 print the value of x 20 and print the value of i 4 \n",
      "test1 print the value of x 5 and print the value of i 4 \n"
     ]
    }
   ],
   "source": [
    "test3(2)"
   ]
  },
  {
   "cell_type": "code",
   "execution_count": 32,
   "id": "e22d0f26-e26c-4914-a17b-def8a05ebaca",
   "metadata": {},
   "outputs": [
    {
     "name": "stdout",
     "output_type": "stream",
     "text": [
      "value of x 3 and value of shared_var 3 \n",
      "test1 print the value of x 100 and print the value of i 5 \n",
      "test1 print the value of x 10 and print the value of i 5 \n",
      "test1 print the value of x 20 and print the value of i 5 \n",
      "test1 print the value of x 5 and print the value of i 5 \n"
     ]
    }
   ],
   "source": [
    "test3(3)"
   ]
  },
  {
   "cell_type": "code",
   "execution_count": 33,
   "id": "f5df7642-7f15-426f-a821-778bb1a25721",
   "metadata": {},
   "outputs": [
    {
     "name": "stdout",
     "output_type": "stream",
     "text": [
      "test1 print the value of x 100 and print the value of i 6 \n",
      "test1 print the value of x 20 and print the value of i 6 \n",
      "test1 print the value of x 10 and print the value of i 6 \n",
      "test1 print the value of x 5 and print the value of i 6 \n",
      "value of x 3 and value of shared_var 4 \n",
      "test1 print the value of x 100 and print the value of i 7 \n",
      "test1 print the value of x 10 and print the value of i 7 \n",
      "test1 print the value of x 20 and print the value of i 7 \n",
      "test1 print the value of x 5 and print the value of i 7 \n"
     ]
    }
   ],
   "source": [
    "test3(3)"
   ]
  },
  {
   "cell_type": "code",
   "execution_count": 34,
   "id": "862fc874-3dd2-4af1-8bbd-f4f8a7a965e8",
   "metadata": {},
   "outputs": [
    {
     "name": "stdout",
     "output_type": "stream",
     "text": [
      "value of x 1 and value of shared_var 1 \n"
     ]
    }
   ],
   "source": [
    "shared_var=0\n",
    "lock_var=threading.Lock()\n",
    "def test3(x):\n",
    "    global shared_var\n",
    "    with lock_var :\n",
    "        shared_var=shared_var+1\n",
    "        print(\"value of x %d and value of shared_var %d \"%(x,shared_var))\n",
    "        time.sleep(1)\n",
    "thread3=[threading.Thread(target=test3,args=(i,)) for i in [1,2,3,3,4,]]\n",
    "for t in thread3:\n",
    "    t.start()\n",
    "\n",
    "    "
   ]
  },
  {
   "cell_type": "code",
   "execution_count": null,
   "id": "21979e51-28b7-47ac-add0-2d600d28cd5e",
   "metadata": {},
   "outputs": [],
   "source": []
  }
 ],
 "metadata": {
  "kernelspec": {
   "display_name": "Python 3.8.10 64-bit",
   "language": "python",
   "name": "python3"
  },
  "language_info": {
   "codemirror_mode": {
    "name": "ipython",
    "version": 3
   },
   "file_extension": ".py",
   "mimetype": "text/x-python",
   "name": "python",
   "nbconvert_exporter": "python",
   "pygments_lexer": "ipython3",
   "version": "3.8.10"
  },
  "vscode": {
   "interpreter": {
    "hash": "e7370f93d1d0cde622a1f8e1c04877d8463912d04d973331ad4851f04de6915a"
   }
  }
 },
 "nbformat": 4,
 "nbformat_minor": 5
}
