{
 "cells": [
  {
   "cell_type": "code",
   "execution_count": 1,
   "id": "310f9cc3-06e1-4410-bd55-1fa1d0e004fb",
   "metadata": {},
   "outputs": [],
   "source": [
    "f=open(\"test.txt\")"
   ]
  },
  {
   "cell_type": "code",
   "execution_count": 2,
   "id": "d402b45f-e279-4e79-b21d-2640edc3412c",
   "metadata": {},
   "outputs": [],
   "source": [
    "f=open(\"test.txt\",'w')"
   ]
  },
  {
   "cell_type": "code",
   "execution_count": 3,
   "id": "b0ae02d8-03c8-4ff2-9412-13016c22a799",
   "metadata": {},
   "outputs": [
    {
     "name": "stdout",
     "output_type": "stream",
     "text": [
      " bestpracticeexceptionhandling.ipynb   multithreading.ipynb\n",
      " bokeh.ipynb                           numpy.ipynb\n",
      " custom_exception_handling.ipynb       oops_concept_2.ipynb\n",
      " day2.ipynb                            oops_concept_3.ipynb\n",
      " day3.ipynb                           'oops concept.ipynb'\n",
      " day4.ipynb                            plotly.ipynb\n",
      " error.log                             README.md\n",
      " exception_handling_with_try.ipynb     requirements.txt\n",
      " files1.ipynb                          test.html\n",
      " functions.ipynb                       test.txt\n",
      " generaluseexceptions.ipynb            tst1.txt\n",
      " lambda,map,reducefilter.ipynb         tst.txt\n",
      " line.html                             tuple,sets,dictionaries.ipynb\n",
      " miscellaneous.ipynb                   visualization1.ipynb\n",
      " mongodb.ipynb                         visualization2.ipynb\n",
      " multiprocessing.ipynb\n"
     ]
    }
   ],
   "source": [
    "ls"
   ]
  },
  {
   "cell_type": "code",
   "execution_count": 4,
   "id": "7f250839-5649-48b7-974d-99b45b9f7b9b",
   "metadata": {},
   "outputs": [
    {
     "data": {
      "text/plain": [
       "23"
      ]
     },
     "execution_count": 4,
     "metadata": {},
     "output_type": "execute_result"
    }
   ],
   "source": [
    "f.write(\" this is my first file \")"
   ]
  },
  {
   "cell_type": "code",
   "execution_count": 5,
   "id": "fc9264c3-5ed5-45c2-ba7d-3755030b2def",
   "metadata": {},
   "outputs": [],
   "source": [
    "f.close()"
   ]
  },
  {
   "cell_type": "code",
   "execution_count": 6,
   "id": "482edefb-a099-40f7-94bd-39d9ca592d14",
   "metadata": {},
   "outputs": [],
   "source": [
    "f=open(\"test.txt\",'a')"
   ]
  },
  {
   "cell_type": "code",
   "execution_count": 7,
   "id": "682e2c1e-643d-44b0-afe2-51e1c8fe8c40",
   "metadata": {},
   "outputs": [
    {
     "data": {
      "text/plain": [
       "33"
      ]
     },
     "execution_count": 7,
     "metadata": {},
     "output_type": "execute_result"
    }
   ],
   "source": [
    "f.write(\"and i am feeling good to be here \")"
   ]
  },
  {
   "cell_type": "code",
   "execution_count": 8,
   "id": "29fe786e-8860-48a9-aa15-57e8cb53a1fe",
   "metadata": {},
   "outputs": [],
   "source": [
    "f.close()"
   ]
  },
  {
   "cell_type": "code",
   "execution_count": 9,
   "id": "16bc3016-9bcf-4388-978b-7abb6d5db527",
   "metadata": {},
   "outputs": [],
   "source": [
    "data=open(\"test.txt\",'r')"
   ]
  },
  {
   "cell_type": "code",
   "execution_count": 10,
   "id": "1fc127b0-b17b-4397-8744-4e8061be3b2a",
   "metadata": {},
   "outputs": [
    {
     "data": {
      "text/plain": [
       "' this is my first file and i am feeling good to be here '"
      ]
     },
     "execution_count": 10,
     "metadata": {},
     "output_type": "execute_result"
    }
   ],
   "source": [
    "data.read()"
   ]
  },
  {
   "cell_type": "code",
   "execution_count": 11,
   "id": "d87ee86f-6596-412d-8af7-8fa8968276ec",
   "metadata": {},
   "outputs": [
    {
     "data": {
      "text/plain": [
       "''"
      ]
     },
     "execution_count": 11,
     "metadata": {},
     "output_type": "execute_result"
    }
   ],
   "source": [
    "data.read()"
   ]
  },
  {
   "cell_type": "code",
   "execution_count": 12,
   "id": "2846a50a-0fa0-47eb-9d54-36502bcbf33f",
   "metadata": {},
   "outputs": [
    {
     "data": {
      "text/plain": [
       "0"
      ]
     },
     "execution_count": 12,
     "metadata": {},
     "output_type": "execute_result"
    }
   ],
   "source": [
    "data.seek(0)"
   ]
  },
  {
   "cell_type": "code",
   "execution_count": 13,
   "id": "d472553b-f9a3-4c48-ba68-6ffd3cd34864",
   "metadata": {},
   "outputs": [
    {
     "data": {
      "text/plain": [
       "' this is my first file and i am feeling good to be here '"
      ]
     },
     "execution_count": 13,
     "metadata": {},
     "output_type": "execute_result"
    }
   ],
   "source": [
    "data.read()"
   ]
  },
  {
   "cell_type": "code",
   "execution_count": 14,
   "id": "75e5446c-15e6-4e35-b3c1-ad694df7cb77",
   "metadata": {},
   "outputs": [
    {
     "data": {
      "text/plain": [
       "10"
      ]
     },
     "execution_count": 14,
     "metadata": {},
     "output_type": "execute_result"
    }
   ],
   "source": [
    "data.seek(10)"
   ]
  },
  {
   "cell_type": "code",
   "execution_count": 15,
   "id": "c9f06ea2-c557-4e6b-8389-823828c182e5",
   "metadata": {},
   "outputs": [
    {
     "data": {
      "text/plain": [
       "'y first file and i am feeling good to be here '"
      ]
     },
     "execution_count": 15,
     "metadata": {},
     "output_type": "execute_result"
    }
   ],
   "source": [
    "data.read()"
   ]
  },
  {
   "cell_type": "code",
   "execution_count": 16,
   "id": "63626e5f-58b2-45b3-96fb-7fbe6b549d1f",
   "metadata": {},
   "outputs": [
    {
     "data": {
      "text/plain": [
       "0"
      ]
     },
     "execution_count": 16,
     "metadata": {},
     "output_type": "execute_result"
    }
   ],
   "source": [
    "data.seek(0)"
   ]
  },
  {
   "cell_type": "code",
   "execution_count": 17,
   "id": "359d24ce-4981-4b29-abb7-a1d523faea64",
   "metadata": {},
   "outputs": [
    {
     "name": "stdout",
     "output_type": "stream",
     "text": [
      " this is my first file and i am feeling good to be here \n"
     ]
    }
   ],
   "source": [
    "for i in data :\n",
    "    print(i)"
   ]
  },
  {
   "cell_type": "code",
   "execution_count": 18,
   "id": "32a001cb-47bd-46e9-bbbc-4b603d232725",
   "metadata": {},
   "outputs": [
    {
     "data": {
      "text/plain": [
       "56"
      ]
     },
     "execution_count": 18,
     "metadata": {},
     "output_type": "execute_result"
    }
   ],
   "source": [
    "import os\n",
    "os.path.getsize(\"test.txt\")"
   ]
  },
  {
   "cell_type": "code",
   "execution_count": 19,
   "id": "a0c9cb67-a1dc-44c0-9bd4-2a29376d8083",
   "metadata": {},
   "outputs": [
    {
     "data": {
      "text/plain": [
       "'new-test.txt'"
      ]
     },
     "execution_count": 19,
     "metadata": {},
     "output_type": "execute_result"
    }
   ],
   "source": [
    "import shutil\n",
    "shutil.copy(\"test.txt\",\"new-test.txt\")"
   ]
  },
  {
   "cell_type": "code",
   "execution_count": 20,
   "id": "f73327e1-cf42-41f6-9921-3fe872e2d4e9",
   "metadata": {},
   "outputs": [],
   "source": [
    "os.remove(\"test.txt\")"
   ]
  },
  {
   "cell_type": "code",
   "execution_count": 21,
   "id": "5a778fca-ae67-4c50-bd68-e7f9c3e20288",
   "metadata": {},
   "outputs": [
    {
     "name": "stdout",
     "output_type": "stream",
     "text": [
      " this is my first file and i am feeling good to be here \n"
     ]
    }
   ],
   "source": [
    "with open (\"new-test.txt\",\"r\") as ktm:\n",
    "    print(ktm.read())"
   ]
  },
  {
   "cell_type": "code",
   "execution_count": 22,
   "id": "e509ae58-2846-42a2-82de-2d18acf357d5",
   "metadata": {},
   "outputs": [],
   "source": [
    "os.rename(\"new-test.txt\",\"test.txt\")"
   ]
  },
  {
   "cell_type": "markdown",
   "id": "ca60351a-e9bf-480a-9de6-314db010eab2",
   "metadata": {},
   "source": [
    "## reading and writing"
   ]
  },
  {
   "cell_type": "code",
   "execution_count": 23,
   "id": "4b409f33-7c52-438e-8353-13f78f555064",
   "metadata": {},
   "outputs": [],
   "source": [
    "data={\n",
    "    \"name\": \"susheel\",\n",
    "    \"branch\": \"chemical engineering\",\n",
    "    \"email id\": \"maritimeindia078@gmail.com\",\n",
    "    \"number\": 9625321001,\n",
    "    \"subject\": [\"cre\",\"mt\",\"ht\",\"fluid\"]\n",
    "    \n",
    "}  "
   ]
  },
  {
   "cell_type": "code",
   "execution_count": 24,
   "id": "14e5cd8d-2412-4be7-ac65-9d438e31a350",
   "metadata": {},
   "outputs": [],
   "source": [
    "import json"
   ]
  },
  {
   "cell_type": "code",
   "execution_count": 25,
   "id": "5d80a1f9-7110-4d76-be92-40857dcf1605",
   "metadata": {},
   "outputs": [],
   "source": [
    "with open (\"test.1.json\",\"w\") as ktm:\n",
    "    json.dump(data,ktm)"
   ]
  },
  {
   "cell_type": "code",
   "execution_count": 26,
   "id": "ea042357-f145-49ec-af86-6c8e70f50392",
   "metadata": {},
   "outputs": [],
   "source": [
    "with open (\"test.1.json\",\"r\") as ktm:\n",
    "    d1=json.load(ktm)"
   ]
  },
  {
   "cell_type": "code",
   "execution_count": 27,
   "id": "3e756582-3460-4cc9-886d-bb5799c0a5df",
   "metadata": {},
   "outputs": [
    {
     "data": {
      "text/plain": [
       "{'name': 'susheel',\n",
       " 'branch': 'chemical engineering',\n",
       " 'email id': 'maritimeindia078@gmail.com',\n",
       " 'number': 9625321001,\n",
       " 'subject': ['cre', 'mt', 'ht', 'fluid']}"
      ]
     },
     "execution_count": 27,
     "metadata": {},
     "output_type": "execute_result"
    }
   ],
   "source": [
    "d1"
   ]
  },
  {
   "cell_type": "code",
   "execution_count": 28,
   "id": "c1b626ef-288c-4ac1-ab9f-514aa053859d",
   "metadata": {},
   "outputs": [
    {
     "data": {
      "text/plain": [
       "'ht'"
      ]
     },
     "execution_count": 28,
     "metadata": {},
     "output_type": "execute_result"
    }
   ],
   "source": [
    "d1[\"subject\"][2]"
   ]
  },
  {
   "cell_type": "code",
   "execution_count": 29,
   "id": "c41e89f0-d78f-426a-83be-2adeee6ca952",
   "metadata": {},
   "outputs": [],
   "source": [
    "data1=[[\"name\",\"email\",\"number\"],\n",
    "       [\"susheel\",\"martime@gmail.com\",9625327158],\n",
    "       [\"ashwani\",\"ashu@gmail.com\",854213697]\n",
    "      ]"
   ]
  },
  {
   "cell_type": "code",
   "execution_count": 30,
   "id": "6a8d1f96-bca1-49e0-a3ad-7462d1972e87",
   "metadata": {},
   "outputs": [],
   "source": [
    "import csv"
   ]
  },
  {
   "cell_type": "code",
   "execution_count": 31,
   "id": "e01e0848-ba0b-4d8f-9c27-5587ea122d4b",
   "metadata": {},
   "outputs": [],
   "source": [
    "with open (\"test2.csv\",\"w\") as f:\n",
    "    w=csv.writer(f)\n",
    "    for i in data1:\n",
    "        w.writerow(i)\n",
    "   "
   ]
  },
  {
   "cell_type": "code",
   "execution_count": 32,
   "id": "8d069541-8aaf-427b-9654-8845e05b461b",
   "metadata": {},
   "outputs": [
    {
     "name": "stdout",
     "output_type": "stream",
     "text": [
      "['name', 'email', 'number']\n",
      "['susheel', 'martime@gmail.com', '9625327158']\n",
      "['ashwani', 'ashu@gmail.com', '854213697']\n"
     ]
    }
   ],
   "source": [
    "with open (\"test2.csv\",\"r\") as f:\n",
    "    read =csv.reader(f)\n",
    "    for i in read:\n",
    "        print(i)"
   ]
  },
  {
   "cell_type": "code",
   "execution_count": 33,
   "id": "46459052-7efe-4c8c-acb1-8e9e3481d01c",
   "metadata": {},
   "outputs": [],
   "source": [
    "with open (\"test4.bin\",\"wb\") as f:\n",
    "    f.write(b\"\\x01\\x02\\x03\\x04\")"
   ]
  },
  {
   "cell_type": "code",
   "execution_count": 34,
   "id": "1cd51fda-1b0d-481a-88fe-0e236613bd8c",
   "metadata": {},
   "outputs": [
    {
     "name": "stdout",
     "output_type": "stream",
     "text": [
      "b'\\x01\\x02\\x03\\x04'\n"
     ]
    }
   ],
   "source": [
    "with open (\"test4.bin\",\"rb\") as f:\n",
    "    print(f.read())"
   ]
  },
  {
   "cell_type": "code",
   "execution_count": 35,
   "id": "e84e2dd1-c4cb-4fff-a6cc-13f688c867f2",
   "metadata": {},
   "outputs": [],
   "source": [
    "import io"
   ]
  },
  {
   "cell_type": "code",
   "execution_count": 36,
   "id": "a174a08b-46fc-4c9e-b861-f7d60f678be7",
   "metadata": {},
   "outputs": [],
   "source": [
    "with open (\"test.txt\",\"wb\") as f:\n",
    "    file=io.BufferedWriter(f)\n",
    "    file.write(b\"my name is susheel kumar yadav and i am a chemical engineer\\n \")\n",
    "    file.write(b\"i am learning python for data science\")\n",
    "    file.flush()\n",
    "    "
   ]
  },
  {
   "cell_type": "code",
   "execution_count": 37,
   "id": "85d72177-f36c-4888-8117-ced77a88dea5",
   "metadata": {},
   "outputs": [
    {
     "name": "stdout",
     "output_type": "stream",
     "text": [
      "b'my name is susheel kumar yadav and i am a chemical engineer\\n i am learning python for data science'\n"
     ]
    }
   ],
   "source": [
    "with open (\"test.txt\",\"rb\") as f:\n",
    "    file=io.BufferedReader(f)\n",
    "    data = file.read()\n",
    "    print(data)\n",
    "\n",
    "    "
   ]
  },
  {
   "cell_type": "code",
   "execution_count": 38,
   "id": "e4db124a-81f5-4978-9c41-ca79669ab062",
   "metadata": {},
   "outputs": [
    {
     "name": "stdout",
     "output_type": "stream",
     "text": [
      "b'my name is susheel kumar yadav and i am '\n"
     ]
    }
   ],
   "source": [
    "with open (\"test.txt\",\"rb\") as f:\n",
    "    file=io.BufferedReader(f)\n",
    "    data = file.read(40)\n",
    "    print(data)\n",
    "\n",
    "    "
   ]
  },
  {
   "cell_type": "markdown",
   "id": "c0f5232e-d6be-4961-81c6-6947cad1cc27",
   "metadata": {},
   "source": [
    "## logging and debugger"
   ]
  },
  {
   "cell_type": "code",
   "execution_count": 39,
   "id": "2bd91fde-a59d-47e4-8399-43e56c97ed90",
   "metadata": {},
   "outputs": [],
   "source": [
    "import logging\n"
   ]
  },
  {
   "cell_type": "code",
   "execution_count": 40,
   "id": "f47a8517-2390-4840-8ed3-9718f6ca15a3",
   "metadata": {},
   "outputs": [],
   "source": [
    "logging.basicConfig(filename=\"test.log\",level=logging.INFO)"
   ]
  },
  {
   "cell_type": "code",
   "execution_count": 41,
   "id": "339f6a44-e6cb-4757-aea5-fdaed34c3aba",
   "metadata": {},
   "outputs": [],
   "source": [
    "logging.info(\"this is my line of execution\")"
   ]
  },
  {
   "cell_type": "code",
   "execution_count": 42,
   "id": "d662da85-4fe9-48e1-a05b-3c042e3b4e1f",
   "metadata": {},
   "outputs": [],
   "source": [
    "logging.error(\"this is my error\")"
   ]
  },
  {
   "cell_type": "code",
   "execution_count": 43,
   "id": "3861fb2b-56fe-4791-a609-eb0ecdbab969",
   "metadata": {},
   "outputs": [],
   "source": [
    "logging.critical(\"this is my critical\")"
   ]
  },
  {
   "cell_type": "markdown",
   "id": "bb96d5ff-c05b-45d0-a174-b172625f0083",
   "metadata": {},
   "source": [
    "1. NOSET\n",
    "2. DEBUG\n",
    "3. INFO\n",
    "4. WARNING \n",
    "5. ERROR\n",
    "6. CRITICAL"
   ]
  },
  {
   "cell_type": "code",
   "execution_count": 44,
   "id": "5713758c-7399-495c-84e7-32436a048aff",
   "metadata": {},
   "outputs": [],
   "source": [
    "logging.debug(\"this is my code for debug\") ##we have set the level as INFO"
   ]
  },
  {
   "cell_type": "code",
   "execution_count": 46,
   "id": "5a7d58f4-2d24-4dee-9743-91ba5a405db1",
   "metadata": {},
   "outputs": [
    {
     "ename": "AttributeError",
     "evalue": "module 'logging' has no attribute 'noset'",
     "output_type": "error",
     "traceback": [
      "\u001b[0;31m---------------------------------------------------------------------------\u001b[0m",
      "\u001b[0;31mAttributeError\u001b[0m                            Traceback (most recent call last)",
      "Cell \u001b[0;32mIn[46], line 1\u001b[0m\n\u001b[0;32m----> 1\u001b[0m \u001b[43mlogging\u001b[49m\u001b[38;5;241;43m.\u001b[39;49m\u001b[43mnoset\u001b[49m(\u001b[38;5;124m\"\u001b[39m\u001b[38;5;124mthis is my noset related log\u001b[39m\u001b[38;5;124m\"\u001b[39m) \u001b[38;5;66;03m##present in previous versions \u001b[39;00m\n",
      "\u001b[0;31mAttributeError\u001b[0m: module 'logging' has no attribute 'noset'"
     ]
    }
   ],
   "source": [
    "logging.noset(\"this is my noset related log\") ##present in previous versions "
   ]
  },
  {
   "cell_type": "code",
   "execution_count": 47,
   "id": "c58bbd3f-c452-461d-81cc-64a91a68799e",
   "metadata": {},
   "outputs": [],
   "source": [
    "logging.shutdown()"
   ]
  },
  {
   "cell_type": "code",
   "execution_count": 48,
   "id": "4640ff36-cf8e-42db-a974-379d9cf04d0a",
   "metadata": {},
   "outputs": [],
   "source": [
    "logging.basicConfig(filename=\"test1.log\",level=logging.DEBUG,format= \"%(asctime)s %(message)s\")"
   ]
  },
  {
   "cell_type": "code",
   "execution_count": 49,
   "id": "ba70880e-b033-411f-9690-16ffead4ead3",
   "metadata": {},
   "outputs": [],
   "source": [
    "logging.info(\"this is my info log\")"
   ]
  },
  {
   "cell_type": "code",
   "execution_count": 50,
   "id": "6efb793c-5393-438c-a747-8cb297741027",
   "metadata": {},
   "outputs": [],
   "source": [
    "logging.debug(\"this is debug reklated to my log\")"
   ]
  },
  {
   "cell_type": "code",
   "execution_count": 51,
   "id": "e3f195c3-c2a3-4db9-b915-5ef378a9d69f",
   "metadata": {},
   "outputs": [],
   "source": [
    "logging.warning(\"this is warning\")"
   ]
  },
  {
   "cell_type": "code",
   "execution_count": 52,
   "id": "af56b622-006c-49f8-a0e8-fbca11d02b1b",
   "metadata": {},
   "outputs": [],
   "source": [
    "logging.shutdown()"
   ]
  },
  {
   "cell_type": "code",
   "execution_count": 53,
   "id": "3612e6d1-9e14-4251-917c-f39148e9cb0d",
   "metadata": {},
   "outputs": [],
   "source": [
    "logging.basicConfig(filename=\"test2.log\",level=logging.DEBUG,format= \"%(asctime)s %(name)s %(levelname)s %(message)s\")"
   ]
  },
  {
   "cell_type": "code",
   "execution_count": 54,
   "id": "5d4f6135-d188-433d-a1ee-cb85a5444de5",
   "metadata": {},
   "outputs": [],
   "source": [
    "logging.info(\"this is my log info\")"
   ]
  },
  {
   "cell_type": "code",
   "execution_count": 55,
   "id": "b4791e09-45e6-4e3c-8453-f0f9ac68a1b0",
   "metadata": {},
   "outputs": [],
   "source": [
    "l=[1,2,3,4,5,[9,8,7,6],\"sush\",\"chemi\"]"
   ]
  },
  {
   "cell_type": "code",
   "execution_count": 56,
   "id": "f03169b4-adda-42b4-8fde-f3f6d4c97a50",
   "metadata": {},
   "outputs": [],
   "source": [
    "l1_int=[]\n",
    "l2_str=[]\n",
    "for i in l:\n",
    "    logging.info(\"this is my first log file with for loop {}\".format(l))\n",
    "    logging.info(\"this is value of log i am logging {}\".format(i))\n",
    "    if type(i)==list:\n",
    "        for j in i:\n",
    "            logging.info(\"loggin my j{j} and i{i}\".format(i=i,j=j))\n",
    "            if type(j) == int:\n",
    "                l1_int.append(j)\n",
    "    elif type(i)==int:\n",
    "        l1_int.append(i)\n",
    "    else:\n",
    "        if type(i)==str:\n",
    "            l2_str.append(i)\n",
    "logging.info(\"this is my final result with int {l1} and str {l2}\".format(l1=l1_int,l2=l2_str))\n",
    "        \n",
    "                "
   ]
  },
  {
   "cell_type": "code",
   "execution_count": 57,
   "id": "2858de15-6ca4-48db-8d16-05d56e2f072b",
   "metadata": {},
   "outputs": [
    {
     "data": {
      "text/plain": [
       "[1, 2, 3, 4, 5, 9, 8, 7, 6]"
      ]
     },
     "execution_count": 57,
     "metadata": {},
     "output_type": "execute_result"
    }
   ],
   "source": [
    "l1_int"
   ]
  },
  {
   "cell_type": "code",
   "execution_count": 58,
   "id": "08d19169-809f-406c-9475-f5c68f014aaf",
   "metadata": {},
   "outputs": [
    {
     "data": {
      "text/plain": [
       "['sush', 'chemi']"
      ]
     },
     "execution_count": 58,
     "metadata": {},
     "output_type": "execute_result"
    }
   ],
   "source": [
    "l2_str"
   ]
  },
  {
   "cell_type": "code",
   "execution_count": null,
   "id": "8feab1a0-98f1-444c-bfa0-9b3da3a3eed3",
   "metadata": {},
   "outputs": [],
   "source": []
  }
 ],
 "metadata": {
  "kernelspec": {
   "display_name": "Python 3.8.10 64-bit",
   "language": "python",
   "name": "python3"
  },
  "language_info": {
   "codemirror_mode": {
    "name": "ipython",
    "version": 3
   },
   "file_extension": ".py",
   "mimetype": "text/x-python",
   "name": "python",
   "nbconvert_exporter": "python",
   "pygments_lexer": "ipython3",
   "version": "3.8.10"
  },
  "vscode": {
   "interpreter": {
    "hash": "e7370f93d1d0cde622a1f8e1c04877d8463912d04d973331ad4851f04de6915a"
   }
  }
 },
 "nbformat": 4,
 "nbformat_minor": 5
}
