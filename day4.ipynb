{
 "cells": [
  {
   "cell_type": "code",
   "execution_count": 1,
   "id": "5d165d6f-cd88-4266-8d79-213dab648442",
   "metadata": {},
   "outputs": [
    {
     "data": {
      "text/plain": [
       "'sUSHEEL kUMAR yADAV'"
      ]
     },
     "execution_count": 1,
     "metadata": {},
     "output_type": "execute_result"
    }
   ],
   "source": [
    "name='Susheel Kumar Yadav'\n",
    "name.swapcase()"
   ]
  },
  {
   "cell_type": "code",
   "execution_count": 2,
   "id": "ac89d443-a029-4b31-8347-240e3d191945",
   "metadata": {},
   "outputs": [
    {
     "data": {
      "text/plain": [
       "'Susheel Kumar Yadav'"
      ]
     },
     "execution_count": 2,
     "metadata": {},
     "output_type": "execute_result"
    }
   ],
   "source": [
    "name.title()"
   ]
  },
  {
   "cell_type": "code",
   "execution_count": 3,
   "id": "6c0e2e78-b1bc-4645-986f-d10d74886750",
   "metadata": {},
   "outputs": [
    {
     "data": {
      "text/plain": [
       "'Susheel kumar yadav'"
      ]
     },
     "execution_count": 3,
     "metadata": {},
     "output_type": "execute_result"
    }
   ],
   "source": [
    "name.capitalize()"
   ]
  },
  {
   "cell_type": "markdown",
   "id": "f6f4f2d2-b4c5-408d-8e71-7cba4244b337",
   "metadata": {},
   "source": [
    "### reverseing string"
   ]
  },
  {
   "cell_type": "code",
   "execution_count": 4,
   "id": "4af661a7-3cc6-4cce-bbd5-5c41eda8280e",
   "metadata": {},
   "outputs": [
    {
     "data": {
      "text/plain": [
       "'vadaY ramuK leehsuS'"
      ]
     },
     "execution_count": 4,
     "metadata": {},
     "output_type": "execute_result"
    }
   ],
   "source": [
    "name[::-1]"
   ]
  },
  {
   "cell_type": "code",
   "execution_count": 5,
   "id": "32e6462b-fafc-44c2-b0f5-7f0938d97878",
   "metadata": {},
   "outputs": [
    {
     "data": {
      "text/plain": [
       "'v a d a Y   r a m u K   l e e h s u S'"
      ]
     },
     "execution_count": 5,
     "metadata": {},
     "output_type": "execute_result"
    }
   ],
   "source": [
    "' '.join(reversed(name))"
   ]
  },
  {
   "cell_type": "code",
   "execution_count": 6,
   "id": "ea00c3a3-5ea9-456a-9c7f-27ecd821cfeb",
   "metadata": {},
   "outputs": [
    {
     "data": {
      "text/plain": [
       "'S u s h e e l   K u m a r   Y a d a v'"
      ]
     },
     "execution_count": 6,
     "metadata": {},
     "output_type": "execute_result"
    }
   ],
   "source": [
    "' '.join(name)"
   ]
  },
  {
   "cell_type": "code",
   "execution_count": 7,
   "id": "664cbef6-5bed-4b0f-b86a-085afe2f5181",
   "metadata": {},
   "outputs": [
    {
     "data": {
      "text/plain": [
       "'dandnanda'"
      ]
     },
     "execution_count": 7,
     "metadata": {},
     "output_type": "execute_result"
    }
   ],
   "source": [
    "'and'.join('dna')"
   ]
  },
  {
   "cell_type": "code",
   "execution_count": 8,
   "id": "a65dcbb7-6531-49d2-8478-a86aa4b5e95e",
   "metadata": {},
   "outputs": [
    {
     "data": {
      "text/plain": [
       "'a'"
      ]
     },
     "execution_count": 8,
     "metadata": {},
     "output_type": "execute_result"
    }
   ],
   "source": [
    "'and'.join('a')"
   ]
  },
  {
   "cell_type": "code",
   "execution_count": 9,
   "id": "1d821b72-e151-453b-9373-75814ff4ef10",
   "metadata": {},
   "outputs": [
    {
     "data": {
      "text/plain": [
       "'a b c d'"
      ]
     },
     "execution_count": 9,
     "metadata": {},
     "output_type": "execute_result"
    }
   ],
   "source": [
    "' '.join('abcd')"
   ]
  },
  {
   "cell_type": "code",
   "execution_count": 10,
   "id": "d182c666-96bc-4a76-bba8-472a22275d72",
   "metadata": {},
   "outputs": [
    {
     "data": {
      "text/plain": [
       "'d c b a'"
      ]
     },
     "execution_count": 10,
     "metadata": {},
     "output_type": "execute_result"
    }
   ],
   "source": [
    "' '.join(reversed('abcd'))"
   ]
  },
  {
   "cell_type": "code",
   "execution_count": 11,
   "id": "9672ab5f-ec75-46fc-850c-ba327d75cb4f",
   "metadata": {},
   "outputs": [
    {
     "data": {
      "text/plain": [
       "'d susheel  c susheel  b susheel  a'"
      ]
     },
     "execution_count": 11,
     "metadata": {},
     "output_type": "execute_result"
    }
   ],
   "source": [
    "' susheel  '.join(reversed('abcd'))"
   ]
  },
  {
   "cell_type": "code",
   "execution_count": 12,
   "id": "5b2a7aea-be1f-4766-861c-da83314dec3a",
   "metadata": {},
   "outputs": [
    {
     "data": {
      "text/plain": [
       "['d', 'c', 'b', 'a']"
      ]
     },
     "execution_count": 12,
     "metadata": {},
     "output_type": "execute_result"
    }
   ],
   "source": [
    "list(reversed('abcd'))"
   ]
  },
  {
   "cell_type": "code",
   "execution_count": 13,
   "id": "a255ff2e-bbba-4ac2-8472-92350eb7510b",
   "metadata": {},
   "outputs": [
    {
     "data": {
      "text/plain": [
       "'indi'"
      ]
     },
     "execution_count": 13,
     "metadata": {},
     "output_type": "execute_result"
    }
   ],
   "source": [
    "string_a='india'\n",
    "string_a.strip('a')"
   ]
  },
  {
   "cell_type": "code",
   "execution_count": 15,
   "id": "ea4567d6-7886-4b35-af0c-9a7236f03724",
   "metadata": {},
   "outputs": [
    {
     "data": {
      "text/plain": [
       "'india'"
      ]
     },
     "execution_count": 15,
     "metadata": {},
     "output_type": "execute_result"
    }
   ],
   "source": [
    "string_a=' india '\n",
    "string_a.strip(' ')"
   ]
  },
  {
   "cell_type": "code",
   "execution_count": 16,
   "id": "3590af05-ec7a-4e82-a743-4931b4fb529a",
   "metadata": {},
   "outputs": [
    {
     "data": {
      "text/plain": [
       "'india '"
      ]
     },
     "execution_count": 16,
     "metadata": {},
     "output_type": "execute_result"
    }
   ],
   "source": [
    "string_a=' india '\n",
    "string_a.lstrip(' ')"
   ]
  },
  {
   "cell_type": "code",
   "execution_count": 17,
   "id": "a3b99939-a141-4dee-8fc1-34202a1ae851",
   "metadata": {},
   "outputs": [
    {
     "data": {
      "text/plain": [
       "'ndia'"
      ]
     },
     "execution_count": 17,
     "metadata": {},
     "output_type": "execute_result"
    }
   ],
   "source": [
    "string_a='india'\n",
    "string_a.lstrip('i')"
   ]
  },
  {
   "cell_type": "code",
   "execution_count": 18,
   "id": "0e6c89b9-7306-455d-a62c-53d4b54a2223",
   "metadata": {},
   "outputs": [
    {
     "data": {
      "text/plain": [
       "' india'"
      ]
     },
     "execution_count": 18,
     "metadata": {},
     "output_type": "execute_result"
    }
   ],
   "source": [
    "string_a=' india '\n",
    "string_a.rstrip(' ')"
   ]
  },
  {
   "cell_type": "code",
   "execution_count": 19,
   "id": "c3715677-5184-4a35-ac34-0a8b5a3d7c77",
   "metadata": {},
   "outputs": [
    {
     "data": {
      "text/plain": [
       "'from bombay as mumbai'"
      ]
     },
     "execution_count": 19,
     "metadata": {},
     "output_type": "execute_result"
    }
   ],
   "source": [
    "string_n='from bombay to mumbai'\n",
    "string_n.replace('to','as')"
   ]
  },
  {
   "cell_type": "code",
   "execution_count": 20,
   "id": "3a7e2171-d92c-437f-afbb-f747e174edcc",
   "metadata": {},
   "outputs": [
    {
     "data": {
      "text/plain": [
       "'  bombay to mumbai'"
      ]
     },
     "execution_count": 20,
     "metadata": {},
     "output_type": "execute_result"
    }
   ],
   "source": [
    "string_n='from bombay to mumbai'\n",
    "string_n.replace('from',' ')"
   ]
  },
  {
   "cell_type": "code",
   "execution_count": 21,
   "id": "4cb1de53-7694-4eaa-a5e0-00e3a1ccfa4c",
   "metadata": {},
   "outputs": [
    {
     "data": {
      "text/plain": [
       "'hello   world'"
      ]
     },
     "execution_count": 21,
     "metadata": {},
     "output_type": "execute_result"
    }
   ],
   "source": [
    "\"helloworld\"\n",
    "'hello\\tworld'.expandtabs()\n",
    "\n"
   ]
  },
  {
   "cell_type": "code",
   "execution_count": 22,
   "id": "495b9e74-1017-456a-b645-c7e2af0b80b3",
   "metadata": {},
   "outputs": [
    {
     "data": {
      "text/plain": [
       "'welcome to incredible india'"
      ]
     },
     "execution_count": 22,
     "metadata": {},
     "output_type": "execute_result"
    }
   ],
   "source": [
    "str1='welcome to incredibl inida'\n",
    "str2=str1.replace('incredibl','incredible')\n",
    "str2.replace('inida','india')"
   ]
  },
  {
   "cell_type": "code",
   "execution_count": 23,
   "id": "7df1b94f-ecbe-49be-a037-0e851507fdbc",
   "metadata": {},
   "outputs": [
    {
     "data": {
      "text/plain": [
       "'welcome to incredible india'"
      ]
     },
     "execution_count": 23,
     "metadata": {},
     "output_type": "execute_result"
    }
   ],
   "source": [
    "str1='welcome to incredibl inida'\n",
    "str1.replace('incredibl','incredible').replace('inida','india')"
   ]
  },
  {
   "cell_type": "code",
   "execution_count": 24,
   "id": "4869194c-a52e-46c9-9f49-f4e968551f7a",
   "metadata": {},
   "outputs": [
    {
     "data": {
      "text/plain": [
       "False"
      ]
     },
     "execution_count": 24,
     "metadata": {},
     "output_type": "execute_result"
    }
   ],
   "source": [
    "str1.isupper()"
   ]
  },
  {
   "cell_type": "code",
   "execution_count": 25,
   "id": "ad82b568-021b-4cdd-ad9e-f5f558c20360",
   "metadata": {},
   "outputs": [
    {
     "data": {
      "text/plain": [
       "True"
      ]
     },
     "execution_count": 25,
     "metadata": {},
     "output_type": "execute_result"
    }
   ],
   "source": [
    "str1='CAPETOWN'\n",
    "str1.isupper()"
   ]
  },
  {
   "cell_type": "code",
   "execution_count": 26,
   "id": "27d0834c-f50d-431f-a746-89dca935c6e8",
   "metadata": {},
   "outputs": [
    {
     "data": {
      "text/plain": [
       "False"
      ]
     },
     "execution_count": 26,
     "metadata": {},
     "output_type": "execute_result"
    }
   ],
   "source": [
    "str1='CAPETOWN'\n",
    "str1.islower()"
   ]
  },
  {
   "cell_type": "code",
   "execution_count": 27,
   "id": "35635c88-48f3-4cad-a0a0-200ba73e5e15",
   "metadata": {},
   "outputs": [
    {
     "data": {
      "text/plain": [
       "True"
      ]
     },
     "execution_count": 27,
     "metadata": {},
     "output_type": "execute_result"
    }
   ],
   "source": [
    "str1.endswith('N')"
   ]
  },
  {
   "cell_type": "code",
   "execution_count": 28,
   "id": "be427815-d244-4249-ad00-a7cc0f505255",
   "metadata": {},
   "outputs": [
    {
     "name": "stdout",
     "output_type": "stream",
     "text": [
      "C\n",
      "A\n",
      "P\n",
      "E\n",
      "T\n",
      "O\n",
      "W\n",
      "N\n"
     ]
    }
   ],
   "source": [
    "for i in str1:\n",
    "    print(i)"
   ]
  },
  {
   "cell_type": "code",
   "execution_count": 29,
   "id": "706e928b-cc5a-4981-9b38-3a7485f6c74e",
   "metadata": {},
   "outputs": [
    {
     "name": "stdout",
     "output_type": "stream",
     "text": [
      "C\n",
      "A\n",
      "P\n",
      "E\n",
      "T\n",
      "O\n",
      "W\n",
      "N\n"
     ]
    }
   ],
   "source": [
    "for i in range(len(str1)):\n",
    "    print(str1[i])"
   ]
  },
  {
   "cell_type": "code",
   "execution_count": 33,
   "id": "1499c353-d859-46d7-b7ab-ea179979d1bf",
   "metadata": {},
   "outputs": [
    {
     "name": "stdout",
     "output_type": "stream",
     "text": [
      "0\n",
      "1\n",
      "2\n",
      "3\n",
      "4\n",
      "5\n",
      "6\n",
      "7\n"
     ]
    }
   ],
   "source": [
    "for i in range(len(str1)):\n",
    "    print(str(i))"
   ]
  },
  {
   "cell_type": "code",
   "execution_count": 31,
   "id": "da3123dd-5f4e-4863-895b-876ba2d5b39b",
   "metadata": {},
   "outputs": [
    {
     "name": "stdout",
     "output_type": "stream",
     "text": [
      "0 = C\n",
      "1 = A\n",
      "2 = P\n",
      "3 = E\n",
      "4 = T\n",
      "5 = O\n",
      "6 = W\n",
      "7 = N\n"
     ]
    }
   ],
   "source": [
    "for i in range(len(str1)):\n",
    "    print(i,'=',str1[i])"
   ]
  },
  {
   "cell_type": "code",
   "execution_count": 34,
   "id": "d1c5fd30-159b-4e6f-894e-4d64b921c452",
   "metadata": {},
   "outputs": [
    {
     "data": {
      "text/plain": [
       "8"
      ]
     },
     "execution_count": 34,
     "metadata": {},
     "output_type": "execute_result"
    }
   ],
   "source": [
    "## we can use iterate string in reverse direction\n",
    "len(str1)"
   ]
  },
  {
   "cell_type": "code",
   "execution_count": 35,
   "id": "5d0403b9-5028-4417-b8c9-714fc0382acf",
   "metadata": {},
   "outputs": [],
   "source": [
    "str1='CAPETOWN'"
   ]
  },
  {
   "cell_type": "code",
   "execution_count": 39,
   "id": "92727705-eb13-42a5-8b89-6bbffaa20f53",
   "metadata": {},
   "outputs": [
    {
     "name": "stdout",
     "output_type": "stream",
     "text": [
      "N\n",
      "W\n",
      "O\n",
      "T\n",
      "E\n",
      "P\n",
      "A\n",
      "C\n"
     ]
    }
   ],
   "source": [
    "str1=\"CAPETOWN\"\n",
    "for i in range(len(str1)-1,-1,-1):\n",
    "    print(str1[i])"
   ]
  },
  {
   "cell_type": "code",
   "execution_count": 87,
   "id": "c606d507-6d01-4c5f-8742-050049d08af8",
   "metadata": {},
   "outputs": [
    {
     "name": "stdout",
     "output_type": "stream",
     "text": [
      "T\n",
      "E\n",
      "P\n",
      "A\n",
      "C\n"
     ]
    }
   ],
   "source": [
    "for i in range(len(str1)-4,-1,-1):\n",
    "    print(str1[i])"
   ]
  },
  {
   "cell_type": "code",
   "execution_count": 40,
   "id": "90f64830-ed46-4b58-9abf-397a89ed33d9",
   "metadata": {},
   "outputs": [
    {
     "name": "stdout",
     "output_type": "stream",
     "text": [
      "T\n",
      "E\n",
      "P\n",
      "A\n",
      "C\n",
      "N\n",
      "W\n",
      "O\n",
      "T\n",
      "E\n",
      "P\n"
     ]
    }
   ],
   "source": [
    "for i in range(len(str1)-4,-7,-1):\n",
    "    print(str1[i])"
   ]
  },
  {
   "cell_type": "code",
   "execution_count": 41,
   "id": "b988a62c-0a62-46ae-8729-c7b0170898bc",
   "metadata": {},
   "outputs": [
    {
     "name": "stdout",
     "output_type": "stream",
     "text": [
      "T\n",
      "A\n",
      "W\n",
      "E\n"
     ]
    }
   ],
   "source": [
    "for i in range(len(str1)-4,-7,-3):\n",
    "    print(str1[i])"
   ]
  },
  {
   "cell_type": "code",
   "execution_count": 42,
   "id": "d296e10b-fb75-4253-ab78-d181befba99c",
   "metadata": {},
   "outputs": [
    {
     "data": {
      "text/plain": [
       "'CAPETOWN'"
      ]
     },
     "execution_count": 42,
     "metadata": {},
     "output_type": "execute_result"
    }
   ],
   "source": [
    "str1"
   ]
  },
  {
   "cell_type": "code",
   "execution_count": 43,
   "id": "cf5d4ceb-10da-4058-bc34-6d6e928e0325",
   "metadata": {},
   "outputs": [
    {
     "name": "stdout",
     "output_type": "stream",
     "text": [
      "7\n",
      "N\n",
      "W\n",
      "O\n",
      "T\n",
      "E\n",
      "P\n",
      "A\n",
      "C\n"
     ]
    }
   ],
   "source": [
    "ch=len(str1)-1\n",
    "print(ch)\n",
    "while ch>=0:\n",
    "    print(str1[ch])\n",
    "    ch=ch-1"
   ]
  },
  {
   "cell_type": "code",
   "execution_count": 44,
   "id": "b7336799-8d8b-4c9d-97e7-9387ba45f2db",
   "metadata": {},
   "outputs": [
    {
     "name": "stdout",
     "output_type": "stream",
     "text": [
      "s is consonant\n",
      "u is vowel\n",
      "s is consonant\n",
      "h is consonant\n",
      "e is vowel\n",
      "e is vowel\n",
      "l is consonant\n"
     ]
    }
   ],
   "source": [
    "name='susheel'\n",
    "vowels='aAeEiIoOuU'\n",
    "for i in name:\n",
    "    if i in vowels:\n",
    "        print('{} is vowel'.format(i))\n",
    "    else:\n",
    "        print('{} is consonant'.format(i))"
   ]
  },
  {
   "cell_type": "markdown",
   "id": "935176e3-a04b-4abf-8fcb-903048d4db83",
   "metadata": {
    "tags": []
   },
   "source": [
    "## list"
   ]
  },
  {
   "cell_type": "code",
   "execution_count": 45,
   "id": "aeaf27b1-247b-4103-a170-f614252d0896",
   "metadata": {},
   "outputs": [
    {
     "data": {
      "text/plain": [
       "list"
      ]
     },
     "execution_count": 45,
     "metadata": {},
     "output_type": "execute_result"
    }
   ],
   "source": [
    "list"
   ]
  },
  {
   "cell_type": "code",
   "execution_count": 46,
   "id": "c37ed0f2-4c12-4e33-958b-ba09c966fa3e",
   "metadata": {},
   "outputs": [
    {
     "data": {
      "text/plain": [
       "list"
      ]
     },
     "execution_count": 46,
     "metadata": {},
     "output_type": "execute_result"
    }
   ],
   "source": [
    "type([])\n"
   ]
  },
  {
   "cell_type": "code",
   "execution_count": 47,
   "id": "11e11731-fb8d-4ae1-9b41-e146f0aa51f7",
   "metadata": {},
   "outputs": [
    {
     "data": {
      "text/plain": [
       "'CAPETOWN'"
      ]
     },
     "execution_count": 47,
     "metadata": {},
     "output_type": "execute_result"
    }
   ],
   "source": [
    "str1"
   ]
  },
  {
   "cell_type": "code",
   "execution_count": 48,
   "id": "6c2e3c8d-208e-40e8-83ea-fec6c04698b8",
   "metadata": {},
   "outputs": [
    {
     "data": {
      "text/plain": [
       "['C', 'A', 'P', 'E', 'T', 'O', 'W', 'N']"
      ]
     },
     "execution_count": 48,
     "metadata": {},
     "output_type": "execute_result"
    }
   ],
   "source": [
    "list(str1)"
   ]
  },
  {
   "cell_type": "code",
   "execution_count": 49,
   "id": "cb280a28-7ffe-4b54-90bf-a92c9720d49f",
   "metadata": {},
   "outputs": [
    {
     "data": {
      "text/plain": [
       "['i', 'wear', 'cool', 'winks']"
      ]
     },
     "execution_count": 49,
     "metadata": {},
     "output_type": "execute_result"
    }
   ],
   "source": [
    "str2=\"i wear cool winks\" \n",
    "list(str2.split(' '))"
   ]
  },
  {
   "cell_type": "code",
   "execution_count": 50,
   "id": "59932164-421f-4082-8afb-3842cc8db06f",
   "metadata": {},
   "outputs": [],
   "source": [
    "lsstr2=\"i wear cool winks\" \n",
    "lst1=(str2.split(' '))"
   ]
  },
  {
   "cell_type": "code",
   "execution_count": 51,
   "id": "e9e4e3dd-087e-464c-befd-045781590617",
   "metadata": {},
   "outputs": [
    {
     "data": {
      "text/plain": [
       "['i', 'wear', 'cool', 'winks']"
      ]
     },
     "execution_count": 51,
     "metadata": {},
     "output_type": "execute_result"
    }
   ],
   "source": [
    "lst1"
   ]
  },
  {
   "cell_type": "code",
   "execution_count": 52,
   "id": "5e7d900a-a9d2-42d3-a2e4-1bac639554c5",
   "metadata": {},
   "outputs": [],
   "source": [
    "##concatenation\n",
    "lst2=lst1+[\"123\"]"
   ]
  },
  {
   "cell_type": "code",
   "execution_count": 54,
   "id": "ab23af31-b4f3-43bf-aa45-5f57fde8ab40",
   "metadata": {},
   "outputs": [
    {
     "data": {
      "text/plain": [
       "['i', 'wear', 'cool', 'winks', '123']"
      ]
     },
     "execution_count": 54,
     "metadata": {},
     "output_type": "execute_result"
    }
   ],
   "source": [
    "lst2"
   ]
  },
  {
   "cell_type": "code",
   "execution_count": 53,
   "id": "72b97c2d-fc34-4e6d-b3f1-d5d82aed8434",
   "metadata": {},
   "outputs": [],
   "source": [
    "lst=lst2+ [['mystyle','1234']]"
   ]
  },
  {
   "cell_type": "code",
   "execution_count": 55,
   "id": "5f5c976d-d2c2-483e-96d8-5ebd8354a006",
   "metadata": {},
   "outputs": [
    {
     "data": {
      "text/plain": [
       "['i', 'wear', 'cool', 'winks', '123', ['mystyle', '1234']]"
      ]
     },
     "execution_count": 55,
     "metadata": {},
     "output_type": "execute_result"
    }
   ],
   "source": [
    "lst"
   ]
  },
  {
   "cell_type": "code",
   "execution_count": 56,
   "id": "ef227bbc-0b2b-4802-85f1-6c3a80032d86",
   "metadata": {},
   "outputs": [
    {
     "data": {
      "text/plain": [
       "'mystyle'"
      ]
     },
     "execution_count": 56,
     "metadata": {},
     "output_type": "execute_result"
    }
   ],
   "source": [
    "lst[-1][0]"
   ]
  },
  {
   "cell_type": "code",
   "execution_count": 57,
   "id": "7fdf14ba-6474-4bf9-a9f6-150f434a25d9",
   "metadata": {},
   "outputs": [
    {
     "data": {
      "text/plain": [
       "['i',\n",
       " 'wear',\n",
       " 'cool',\n",
       " 'winks',\n",
       " '123',\n",
       " ['mystyle', '1234'],\n",
       " 'i',\n",
       " 'wear',\n",
       " 'cool',\n",
       " 'winks',\n",
       " '123',\n",
       " ['mystyle', '1234'],\n",
       " 'i',\n",
       " 'wear',\n",
       " 'cool',\n",
       " 'winks',\n",
       " '123',\n",
       " ['mystyle', '1234']]"
      ]
     },
     "execution_count": 57,
     "metadata": {},
     "output_type": "execute_result"
    }
   ],
   "source": [
    "lst*3"
   ]
  },
  {
   "cell_type": "code",
   "execution_count": 58,
   "id": "d90eec95-8147-4a8e-8ec2-cc1c47c29353",
   "metadata": {},
   "outputs": [
    {
     "data": {
      "text/plain": [
       "['i', 'wear', 'cool', 'winks', '123', ['mystyle', '1234']]"
      ]
     },
     "execution_count": 58,
     "metadata": {},
     "output_type": "execute_result"
    }
   ],
   "source": [
    "lst"
   ]
  },
  {
   "cell_type": "code",
   "execution_count": 62,
   "id": "519db12f-a8cb-4432-8826-7a968ce60611",
   "metadata": {},
   "outputs": [
    {
     "name": "stdout",
     "output_type": "stream",
     "text": [
      "present\n"
     ]
    }
   ],
   "source": [
    "for i in lst:\n",
    "    if i=='winks':\n",
    "        print(\"present\")\n",
    "        break"
   ]
  },
  {
   "cell_type": "code",
   "execution_count": 63,
   "id": "4ea0fa45-7048-401b-b345-9340fd438491",
   "metadata": {},
   "outputs": [],
   "source": [
    "lst1=['monkey','donkey','lion','zebra']\n",
    "lst2=[1,2,3,4,5,6,7]"
   ]
  },
  {
   "cell_type": "code",
   "execution_count": 64,
   "id": "2bb0bf78-9013-43f8-af12-d3158dcfb2e2",
   "metadata": {},
   "outputs": [
    {
     "name": "stdout",
     "output_type": "stream",
     "text": [
      "zebra\n",
      "7\n"
     ]
    }
   ],
   "source": [
    "print(max(lst1))\n",
    "print(max(lst2))"
   ]
  },
  {
   "cell_type": "code",
   "execution_count": 65,
   "id": "8b57558d-4baf-445d-9a5b-e9043176cc96",
   "metadata": {},
   "outputs": [
    {
     "name": "stdout",
     "output_type": "stream",
     "text": [
      "donkey\n",
      "1\n"
     ]
    }
   ],
   "source": [
    "print(min(lst1))\n",
    "print(min(lst2))"
   ]
  },
  {
   "cell_type": "code",
   "execution_count": 66,
   "id": "4700be40-c555-48f9-8904-a1377955ea2d",
   "metadata": {},
   "outputs": [],
   "source": [
    "##append\n",
    "lst2.append(\"pwskills\")"
   ]
  },
  {
   "cell_type": "code",
   "execution_count": 9,
   "id": "bdcfc8f0-1156-448d-80da-2cbc4e962582",
   "metadata": {},
   "outputs": [
    {
     "data": {
      "text/plain": [
       "[1, 2, 3, 4, 5, 6, 7, 'pwskills']"
      ]
     },
     "execution_count": 9,
     "metadata": {},
     "output_type": "execute_result"
    }
   ],
   "source": [
    "lst2"
   ]
  },
  {
   "cell_type": "code",
   "execution_count": 67,
   "id": "b99a7b1c-85e0-4b31-813a-0b6c453f61af",
   "metadata": {},
   "outputs": [
    {
     "data": {
      "text/plain": [
       "['monkey', 'donkey', 'lion', 'zebra']"
      ]
     },
     "execution_count": 67,
     "metadata": {},
     "output_type": "execute_result"
    }
   ],
   "source": [
    "lst1"
   ]
  },
  {
   "cell_type": "code",
   "execution_count": 68,
   "id": "90a45833-8054-49ef-9031-9149083acd1d",
   "metadata": {},
   "outputs": [
    {
     "data": {
      "text/plain": [
       "'zebra'"
      ]
     },
     "execution_count": 68,
     "metadata": {},
     "output_type": "execute_result"
    }
   ],
   "source": [
    "lst1.pop()"
   ]
  },
  {
   "cell_type": "code",
   "execution_count": 69,
   "id": "8bab5d8b-a06e-4cc7-aeed-62341c8ae373",
   "metadata": {},
   "outputs": [
    {
     "data": {
      "text/plain": [
       "['monkey', 'donkey', 'lion']"
      ]
     },
     "execution_count": 69,
     "metadata": {},
     "output_type": "execute_result"
    }
   ],
   "source": [
    "lst1"
   ]
  },
  {
   "cell_type": "code",
   "execution_count": 70,
   "id": "c4ac63cb-44e2-4b7d-a602-6ecc182ad3c6",
   "metadata": {},
   "outputs": [
    {
     "data": {
      "text/plain": [
       "'donkey'"
      ]
     },
     "execution_count": 70,
     "metadata": {},
     "output_type": "execute_result"
    }
   ],
   "source": [
    "lst1.pop(1)"
   ]
  },
  {
   "cell_type": "code",
   "execution_count": 71,
   "id": "4af0666c-49d7-4e3d-b3b4-c022b48f581d",
   "metadata": {},
   "outputs": [
    {
     "data": {
      "text/plain": [
       "['monkey', 'lion']"
      ]
     },
     "execution_count": 71,
     "metadata": {},
     "output_type": "execute_result"
    }
   ],
   "source": [
    "lst1"
   ]
  },
  {
   "cell_type": "code",
   "execution_count": 73,
   "id": "af705bb1-5a18-460c-a6ca-3fbab3404305",
   "metadata": {},
   "outputs": [],
   "source": [
    "lst2=[1,2,3,4,5,6,7]\n",
    "lst2.extend(['tech','skills'])"
   ]
  },
  {
   "cell_type": "code",
   "execution_count": 74,
   "id": "8fcebfdb-ed6e-4d78-ae67-9004a632b933",
   "metadata": {},
   "outputs": [
    {
     "data": {
      "text/plain": [
       "[1, 2, 3, 4, 5, 6, 7, 'tech', 'skills']"
      ]
     },
     "execution_count": 74,
     "metadata": {},
     "output_type": "execute_result"
    }
   ],
   "source": [
    "lst2"
   ]
  },
  {
   "cell_type": "code",
   "execution_count": 79,
   "id": "76240f8a-9c21-442a-b48a-8482ec54e2bd",
   "metadata": {},
   "outputs": [
    {
     "data": {
      "text/plain": [
       "['zebra', 'lion', 'donkey', 'monkey']"
      ]
     },
     "execution_count": 79,
     "metadata": {},
     "output_type": "execute_result"
    }
   ],
   "source": [
    "##sorting and reverse \n",
    "lst1=['monkey','donkey','lion','zebra']\n",
    "lst2=[1,2,3,4,5,6,7]\n",
    "lst1[::-1]"
   ]
  },
  {
   "cell_type": "code",
   "execution_count": 76,
   "id": "069c8094-c633-4da8-9ed4-b494b90162a0",
   "metadata": {},
   "outputs": [],
   "source": [
    "lst2.reverse()"
   ]
  },
  {
   "cell_type": "code",
   "execution_count": 19,
   "id": "8a6fefe6-e29b-49f5-9408-792a779a7b1a",
   "metadata": {},
   "outputs": [
    {
     "data": {
      "text/plain": [
       "[7, 6, 5, 4, 3, 2, 1]"
      ]
     },
     "execution_count": 19,
     "metadata": {},
     "output_type": "execute_result"
    }
   ],
   "source": [
    "lst2"
   ]
  },
  {
   "cell_type": "code",
   "execution_count": 77,
   "id": "5ae8b74d-be1f-4c9c-94bc-02b6b087c268",
   "metadata": {},
   "outputs": [],
   "source": [
    "lst1.sort()"
   ]
  },
  {
   "cell_type": "code",
   "execution_count": 80,
   "id": "7c0e0ec9-989a-41a1-9bbb-c376719cb2d9",
   "metadata": {},
   "outputs": [
    {
     "data": {
      "text/plain": [
       "['monkey', 'donkey', 'lion', 'zebra']"
      ]
     },
     "execution_count": 80,
     "metadata": {},
     "output_type": "execute_result"
    }
   ],
   "source": [
    "lst1"
   ]
  },
  {
   "cell_type": "code",
   "execution_count": 81,
   "id": "9fac729f-fcf3-4424-9e0e-1a4ef5685a20",
   "metadata": {},
   "outputs": [],
   "source": [
    "##nested list\n",
    "lst1=[1,2,3]\n",
    "lst2=[4,5,6]\n",
    "lst3=[7,8,9]\n"
   ]
  },
  {
   "cell_type": "code",
   "execution_count": 82,
   "id": "c216e417-2ecc-47e6-9ea5-4ca76da98df9",
   "metadata": {},
   "outputs": [],
   "source": [
    "matrix=[lst1,lst2,lst3]"
   ]
  },
  {
   "cell_type": "code",
   "execution_count": 86,
   "id": "1230d648-8294-4c6f-857a-729e75cd1eb6",
   "metadata": {},
   "outputs": [
    {
     "data": {
      "text/plain": [
       "[[1, 2, 3], [4, 5, 6], [7, 8, 9]]"
      ]
     },
     "execution_count": 86,
     "metadata": {},
     "output_type": "execute_result"
    }
   ],
   "source": [
    "matrix"
   ]
  },
  {
   "cell_type": "code",
   "execution_count": 84,
   "id": "e230d929-1133-4934-a0c1-9bf2d2d5b29a",
   "metadata": {},
   "outputs": [
    {
     "data": {
      "text/plain": [
       "[8, 9]"
      ]
     },
     "execution_count": 84,
     "metadata": {},
     "output_type": "execute_result"
    }
   ],
   "source": [
    "matrix[2][1:]"
   ]
  },
  {
   "cell_type": "code",
   "execution_count": null,
   "id": "b4ec7b63-4714-48b9-9564-85bf25004423",
   "metadata": {},
   "outputs": [],
   "source": [
    "## list comparihension"
   ]
  },
  {
   "cell_type": "code",
   "execution_count": 85,
   "id": "aa4b2a02-55f6-4684-abcc-56a0fbc7cfcb",
   "metadata": {},
   "outputs": [
    {
     "data": {
      "text/plain": [
       "[0, 1, 2, 3, 4, 5, 6, 7, 8, 9, 10, 11, 12, 13, 14, 15, 16, 17, 18, 19]"
      ]
     },
     "execution_count": 85,
     "metadata": {},
     "output_type": "execute_result"
    }
   ],
   "source": [
    "[i for i in range(20)]"
   ]
  },
  {
   "cell_type": "code",
   "execution_count": 87,
   "id": "1f3060fa-b2be-4b87-a71a-44d9c244d100",
   "metadata": {},
   "outputs": [
    {
     "data": {
      "text/plain": [
       "[0, '', 2, '', 4, '', 6, '', 8, '', 10, '', 12, '', 14, '', 16, '', 18, '']"
      ]
     },
     "execution_count": 87,
     "metadata": {},
     "output_type": "execute_result"
    }
   ],
   "source": [
    "[i if i%2==0 else '' for i in range(0,20)]"
   ]
  },
  {
   "cell_type": "code",
   "execution_count": 88,
   "id": "e250746a-0374-4a1c-a10a-a49a9a705fe0",
   "metadata": {},
   "outputs": [
    {
     "name": "stdout",
     "output_type": "stream",
     "text": [
      "20\n",
      "25\n"
     ]
    }
   ],
   "source": [
    "numbers=[1,2,3,4,5,6,7,8,9]\n",
    "even_sum=0\n",
    "odd_sum=0\n",
    "for i in numbers:\n",
    "    if i%2==0:\n",
    "        even_sum += i\n",
    "    else:\n",
    "        odd_sum += i\n",
    "print(f\"{even_sum}\")\n",
    "print(f\"{odd_sum}\")\n",
    "    \n",
    "        "
   ]
  },
  {
   "cell_type": "code",
   "execution_count": 89,
   "id": "3444a622-bdba-46f5-b160-b6dd97c0c34d",
   "metadata": {},
   "outputs": [
    {
     "data": {
      "text/plain": [
       "[1, 2, 3, 4, 5, 6, 7, 8, 9]"
      ]
     },
     "execution_count": 89,
     "metadata": {},
     "output_type": "execute_result"
    }
   ],
   "source": [
    "numbers"
   ]
  },
  {
   "cell_type": "code",
   "execution_count": 90,
   "id": "89998fcd-c3e0-4497-8134-3c93d42f2f18",
   "metadata": {},
   "outputs": [
    {
     "data": {
      "text/plain": [
       "20"
      ]
     },
     "execution_count": 90,
     "metadata": {},
     "output_type": "execute_result"
    }
   ],
   "source": [
    "sum([i for i in numbers if i%2==0])"
   ]
  },
  {
   "cell_type": "code",
   "execution_count": 92,
   "id": "d72a1ac8-5f79-4175-8efc-abd3b1ad8b05",
   "metadata": {},
   "outputs": [
    {
     "data": {
      "text/plain": [
       "25"
      ]
     },
     "execution_count": 92,
     "metadata": {},
     "output_type": "execute_result"
    }
   ],
   "source": [
    "sum([i for i in numbers if i%2!=0])"
   ]
  },
  {
   "cell_type": "code",
   "execution_count": 93,
   "id": "82b10217-f2cf-4769-b8dd-380ec9a1e325",
   "metadata": {},
   "outputs": [],
   "source": [
    "lst=[1,2,3,4,5,6,7,8,9,10]\n"
   ]
  },
  {
   "cell_type": "code",
   "execution_count": 94,
   "id": "46e5daae-43df-4ed4-8daa-8a1620800abb",
   "metadata": {},
   "outputs": [
    {
     "data": {
      "text/plain": [
       "[1, 4, 9, 16, 25, 36, 49, 64, 81, 100]"
      ]
     },
     "execution_count": 94,
     "metadata": {},
     "output_type": "execute_result"
    }
   ],
   "source": [
    "[i**2 for i in lst]"
   ]
  },
  {
   "cell_type": "code",
   "execution_count": 95,
   "id": "4566c6ab-90c4-4e9e-a701-6917c156cd0e",
   "metadata": {},
   "outputs": [],
   "source": [
    "lst=[-1,2,-3,4,-5,6,7,-8]"
   ]
  },
  {
   "cell_type": "code",
   "execution_count": 97,
   "id": "084cbc31-016c-4712-86a2-46be63c67eda",
   "metadata": {},
   "outputs": [
    {
     "data": {
      "text/plain": [
       "[-1, -3, -5, -8]"
      ]
     },
     "execution_count": 97,
     "metadata": {},
     "output_type": "execute_result"
    }
   ],
   "source": [
    "[i for i in lst if i<=0]"
   ]
  },
  {
   "cell_type": "code",
   "execution_count": 99,
   "id": "423c286b-f8ba-48a8-b444-48084ae71423",
   "metadata": {},
   "outputs": [
    {
     "data": {
      "text/plain": [
       "['i', 'i', 'c', 'o', 'd']"
      ]
     },
     "execution_count": 99,
     "metadata": {},
     "output_type": "execute_result"
    }
   ],
   "source": [
    "lst=['india', 'is' ,'country' ,'of' ,'diversity']\n",
    "[i[0] for i in lst]\n",
    "\n"
   ]
  },
  {
   "cell_type": "code",
   "execution_count": 100,
   "id": "137bfd1d-5984-4750-a97c-f2004a30bd7d",
   "metadata": {},
   "outputs": [
    {
     "data": {
      "text/plain": [
       "[53.6, 523.4000000000001, 392.0, 572.0]"
      ]
     },
     "execution_count": 100,
     "metadata": {},
     "output_type": "execute_result"
    }
   ],
   "source": [
    "c_temperature=[12,273,200,300]\n",
    "[i*(9/5)+32 for i in c_temperature]"
   ]
  },
  {
   "cell_type": "code",
   "execution_count": 101,
   "id": "298c1985-5204-4bf0-8a20-f2d0d22ed859",
   "metadata": {},
   "outputs": [
    {
     "data": {
      "text/plain": [
       "[1, 2, 3, 4, 5, 6, 7, 8, 9]"
      ]
     },
     "execution_count": 101,
     "metadata": {},
     "output_type": "execute_result"
    }
   ],
   "source": [
    "lists=[[1,2,3],[4,5,6],[7,8,9]]\n",
    "[i for lst in lists for i in lst]"
   ]
  },
  {
   "cell_type": "code",
   "execution_count": 104,
   "id": "17b766bf-1c40-48ea-b9e1-62ad6c2ca58a",
   "metadata": {},
   "outputs": [
    {
     "name": "stdout",
     "output_type": "stream",
     "text": [
      "[2, 3, 5, 7]\n"
     ]
    }
   ],
   "source": [
    "numbers=[1,2,3,4,5,6,7,8,9,10]\n",
    "##list of prime no\n",
    "\n",
    "prime_numbers = []\n",
    "\n",
    "for number in numbers:\n",
    "    if number > 1:  # prime numbers are greater than 1\n",
    "        is_prime = True\n",
    "        for i in range(2, number):\n",
    "            if number % i == 0:\n",
    "                is_prime = False\n",
    "                break\n",
    "        if is_prime:\n",
    "            prime_numbers.append(number)\n",
    "\n",
    "print(prime_numbers)\n"
   ]
  },
  {
   "cell_type": "code",
   "execution_count": 105,
   "id": "53510dfb-03d1-485c-b0db-776ce93855ab",
   "metadata": {},
   "outputs": [
    {
     "data": {
      "text/plain": [
       "[1, 2, 3, 4, 5, 6, 7, 8, 9, 10]"
      ]
     },
     "execution_count": 105,
     "metadata": {},
     "output_type": "execute_result"
    }
   ],
   "source": [
    "numbers"
   ]
  },
  {
   "cell_type": "code",
   "execution_count": 108,
   "id": "a6093f6c-6371-4e03-9e95-c790477d12fc",
   "metadata": {},
   "outputs": [
    {
     "name": "stdout",
     "output_type": "stream",
     "text": [
      "10\n"
     ]
    }
   ],
   "source": [
    "[i for i in numbers if all(number % i != 0 for i in range(2, number)) and i> 1]\n",
    "print(number)"
   ]
  },
  {
   "cell_type": "code",
   "execution_count": null,
   "id": "ec23bc49-103b-44b6-882e-75996331b234",
   "metadata": {},
   "outputs": [],
   "source": []
  },
  {
   "cell_type": "code",
   "execution_count": null,
   "id": "60935366-02f6-4090-8d6e-87f88752b527",
   "metadata": {},
   "outputs": [],
   "source": []
  },
  {
   "cell_type": "code",
   "execution_count": null,
   "id": "4bbb22fb-3388-4c33-9407-5ddbe616840b",
   "metadata": {},
   "outputs": [],
   "source": []
  }
 ],
 "metadata": {
  "kernelspec": {
   "display_name": "Python 3.8.10 64-bit",
   "language": "python",
   "name": "python3"
  },
  "language_info": {
   "codemirror_mode": {
    "name": "ipython",
    "version": 3
   },
   "file_extension": ".py",
   "mimetype": "text/x-python",
   "name": "python",
   "nbconvert_exporter": "python",
   "pygments_lexer": "ipython3",
   "version": "3.8.10"
  },
  "toc-autonumbering": true,
  "vscode": {
   "interpreter": {
    "hash": "e7370f93d1d0cde622a1f8e1c04877d8463912d04d973331ad4851f04de6915a"
   }
  }
 },
 "nbformat": 4,
 "nbformat_minor": 5
}
