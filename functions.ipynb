{
 "cells": [
  {
   "cell_type": "code",
   "execution_count": 1,
   "id": "141991fb-ebf2-4804-a166-94241efcb13b",
   "metadata": {},
   "outputs": [
    {
     "ename": "SyntaxError",
     "evalue": "unexpected EOF while parsing (3861551224.py, line 1)",
     "output_type": "error",
     "traceback": [
      "\u001b[0;36m  Cell \u001b[0;32mIn[1], line 1\u001b[0;36m\u001b[0m\n\u001b[0;31m    def test():\u001b[0m\n\u001b[0m               ^\u001b[0m\n\u001b[0;31mSyntaxError\u001b[0m\u001b[0;31m:\u001b[0m unexpected EOF while parsing\n"
     ]
    }
   ],
   "source": [
    "def test():"
   ]
  },
  {
   "cell_type": "code",
   "execution_count": 2,
   "id": "f446fdab-91a2-48c1-adb8-594d3b45b902",
   "metadata": {},
   "outputs": [],
   "source": [
    "def test():\n",
    "    pass"
   ]
  },
  {
   "cell_type": "code",
   "execution_count": 3,
   "id": "a81274b5-2c87-4ede-9a94-6a8ad5788087",
   "metadata": {},
   "outputs": [],
   "source": [
    "def test1():\n",
    "    print('first function')"
   ]
  },
  {
   "cell_type": "code",
   "execution_count": 4,
   "id": "15d90c3c-0113-47ea-9491-d2a1e8949489",
   "metadata": {},
   "outputs": [
    {
     "name": "stdout",
     "output_type": "stream",
     "text": [
      "first function\n"
     ]
    }
   ],
   "source": [
    "test1()"
   ]
  },
  {
   "cell_type": "code",
   "execution_count": 5,
   "id": "1e9c8c18-cf11-4fcb-8431-ebbf9af1355d",
   "metadata": {},
   "outputs": [
    {
     "name": "stdout",
     "output_type": "stream",
     "text": [
      "first function\n"
     ]
    },
    {
     "ename": "TypeError",
     "evalue": "unsupported operand type(s) for +: 'NoneType' and 'str'",
     "output_type": "error",
     "traceback": [
      "\u001b[0;31m---------------------------------------------------------------------------\u001b[0m",
      "\u001b[0;31mTypeError\u001b[0m                                 Traceback (most recent call last)",
      "Cell \u001b[0;32mIn[5], line 1\u001b[0m\n\u001b[0;32m----> 1\u001b[0m \u001b[43mtest1\u001b[49m\u001b[43m(\u001b[49m\u001b[43m)\u001b[49m\u001b[43m \u001b[49m\u001b[38;5;241;43m+\u001b[39;49m\u001b[38;5;124;43m\"\u001b[39;49m\u001b[38;5;124;43mof sush\u001b[39;49m\u001b[38;5;124;43m\"\u001b[39;49m \u001b[38;5;66;03m##as print always return nonetype output \u001b[39;00m\n",
      "\u001b[0;31mTypeError\u001b[0m: unsupported operand type(s) for +: 'NoneType' and 'str'"
     ]
    }
   ],
   "source": [
    "test1() +\"of sush\" ##as print always return nonetype output "
   ]
  },
  {
   "cell_type": "code",
   "execution_count": 6,
   "id": "f6d8eb02-ae7f-46f2-9efb-edc5d6f0ab86",
   "metadata": {},
   "outputs": [],
   "source": [
    "def test2():\n",
    "    return \"first function\""
   ]
  },
  {
   "cell_type": "code",
   "execution_count": 7,
   "id": "ade08624-abfc-437c-9b4b-4aaffd5889f7",
   "metadata": {},
   "outputs": [
    {
     "data": {
      "text/plain": [
       "'first function'"
      ]
     },
     "execution_count": 7,
     "metadata": {},
     "output_type": "execute_result"
    }
   ],
   "source": [
    "test2()"
   ]
  },
  {
   "cell_type": "code",
   "execution_count": 8,
   "id": "ada762f0-821c-4a6d-8085-9ecddd48486a",
   "metadata": {},
   "outputs": [
    {
     "data": {
      "text/plain": [
       "'first function of susheel'"
      ]
     },
     "execution_count": 8,
     "metadata": {},
     "output_type": "execute_result"
    }
   ],
   "source": [
    "test2() + \" of susheel\""
   ]
  },
  {
   "cell_type": "code",
   "execution_count": 9,
   "id": "f729960f-9602-4086-a07f-cb9a40ff07e0",
   "metadata": {},
   "outputs": [],
   "source": [
    "def test3():\n",
    "    return 1,2.3,\"abc\",9"
   ]
  },
  {
   "cell_type": "code",
   "execution_count": 10,
   "id": "2edbd609-7d61-4af6-ac95-9cf7f50c385f",
   "metadata": {},
   "outputs": [
    {
     "data": {
      "text/plain": [
       "(1, 2.3, 'abc', 9)"
      ]
     },
     "execution_count": 10,
     "metadata": {},
     "output_type": "execute_result"
    }
   ],
   "source": [
    "test3()"
   ]
  },
  {
   "cell_type": "code",
   "execution_count": 11,
   "id": "aef0b80e-fbda-4cf1-9eaa-97efc3ec7d6f",
   "metadata": {},
   "outputs": [
    {
     "data": {
      "text/plain": [
       "1"
      ]
     },
     "execution_count": 11,
     "metadata": {},
     "output_type": "execute_result"
    }
   ],
   "source": [
    "test3()[0]"
   ]
  },
  {
   "cell_type": "code",
   "execution_count": 12,
   "id": "38f30c03-ce87-4986-be0b-bb503aabd86a",
   "metadata": {},
   "outputs": [
    {
     "data": {
      "text/plain": [
       "'abc'"
      ]
     },
     "execution_count": 12,
     "metadata": {},
     "output_type": "execute_result"
    }
   ],
   "source": [
    "test3()[2]"
   ]
  },
  {
   "cell_type": "code",
   "execution_count": 13,
   "id": "7978cf8f-4a5b-4da4-8c81-19b735b52755",
   "metadata": {},
   "outputs": [],
   "source": [
    "def test4():\n",
    "    a = 2*4 +3\n",
    "    return a"
   ]
  },
  {
   "cell_type": "code",
   "execution_count": 14,
   "id": "74cb1f1a-a72c-4db7-864e-e4e70981b5d6",
   "metadata": {},
   "outputs": [
    {
     "data": {
      "text/plain": [
       "11"
      ]
     },
     "execution_count": 14,
     "metadata": {},
     "output_type": "execute_result"
    }
   ],
   "source": [
    "test4()"
   ]
  },
  {
   "cell_type": "code",
   "execution_count": 15,
   "id": "575a597d-adbd-4c6f-bbeb-17e56fa7ff50",
   "metadata": {},
   "outputs": [],
   "source": [
    "def test5(a,b):\n",
    "    c=a+b\n",
    "    return c"
   ]
  },
  {
   "cell_type": "code",
   "execution_count": 16,
   "id": "42707509-ffe2-42fe-a3ef-44ddbb93ea86",
   "metadata": {},
   "outputs": [
    {
     "ename": "TypeError",
     "evalue": "test5() missing 2 required positional arguments: 'a' and 'b'",
     "output_type": "error",
     "traceback": [
      "\u001b[0;31m---------------------------------------------------------------------------\u001b[0m",
      "\u001b[0;31mTypeError\u001b[0m                                 Traceback (most recent call last)",
      "Cell \u001b[0;32mIn[16], line 1\u001b[0m\n\u001b[0;32m----> 1\u001b[0m \u001b[43mtest5\u001b[49m\u001b[43m(\u001b[49m\u001b[43m)\u001b[49m\n",
      "\u001b[0;31mTypeError\u001b[0m: test5() missing 2 required positional arguments: 'a' and 'b'"
     ]
    }
   ],
   "source": [
    "test5()\n"
   ]
  },
  {
   "cell_type": "code",
   "execution_count": 17,
   "id": "f0449ef0-d0e3-4e69-8694-354a72411aee",
   "metadata": {},
   "outputs": [],
   "source": [
    "def test5(a,b):\n",
    "    c=a+b\n",
    "    return c"
   ]
  },
  {
   "cell_type": "code",
   "execution_count": 18,
   "id": "f0dd6e07-d8b9-4935-bb83-f4c1be0eb1c6",
   "metadata": {},
   "outputs": [
    {
     "data": {
      "text/plain": [
       "11"
      ]
     },
     "execution_count": 18,
     "metadata": {},
     "output_type": "execute_result"
    }
   ],
   "source": [
    "test5(5,6)"
   ]
  },
  {
   "cell_type": "code",
   "execution_count": 19,
   "id": "e7a6e452-6cbe-4370-bcdd-143257a0b976",
   "metadata": {},
   "outputs": [
    {
     "data": {
      "text/plain": [
       "'susheel'"
      ]
     },
     "execution_count": 19,
     "metadata": {},
     "output_type": "execute_result"
    }
   ],
   "source": [
    "test5(\"sush\",\"eel\")"
   ]
  },
  {
   "cell_type": "code",
   "execution_count": 20,
   "id": "5e264417-a3f5-48f7-8551-886d1658e030",
   "metadata": {},
   "outputs": [
    {
     "data": {
      "text/plain": [
       "'dhabud'"
      ]
     },
     "execution_count": 20,
     "metadata": {},
     "output_type": "execute_result"
    }
   ],
   "source": [
    "test5(b=\"bud\",a=\"dha\")"
   ]
  },
  {
   "cell_type": "code",
   "execution_count": 21,
   "id": "dbf124f7-dc25-4fe0-87f0-0f636a3de3b6",
   "metadata": {},
   "outputs": [],
   "source": [
    "##input is list,output is list with only numerics\n",
    "l=[1,2,34,45,56,\"abs\",\"ic\",[1,2,3,4,5]]"
   ]
  },
  {
   "cell_type": "code",
   "execution_count": 22,
   "id": "333de069-6d2d-4e4a-9b55-563913ec95bf",
   "metadata": {},
   "outputs": [],
   "source": [
    "def test6(a):\n",
    "    n= []\n",
    "    for i in a :\n",
    "        if type(i) == int or type(i) == float:\n",
    "            n.append(i)\n",
    "    return n"
   ]
  },
  {
   "cell_type": "code",
   "execution_count": 23,
   "id": "abac270a-06a0-4b1c-b995-2d52757d5cc3",
   "metadata": {},
   "outputs": [
    {
     "data": {
      "text/plain": [
       "[1, 2, 34, 45, 56]"
      ]
     },
     "execution_count": 23,
     "metadata": {},
     "output_type": "execute_result"
    }
   ],
   "source": [
    "test6(l)"
   ]
  },
  {
   "cell_type": "code",
   "execution_count": 24,
   "id": "0cb8a828-2f0e-4f11-a577-f2149337c9f0",
   "metadata": {},
   "outputs": [
    {
     "data": {
      "text/plain": [
       "[1, 2, 34, 45, 56, 'abs', 'ic', [1, 2, 3, 4, 5]]"
      ]
     },
     "execution_count": 24,
     "metadata": {},
     "output_type": "execute_result"
    }
   ],
   "source": [
    "l"
   ]
  },
  {
   "cell_type": "code",
   "execution_count": 26,
   "id": "249f65df-f898-42fd-906a-102d1a3a4368",
   "metadata": {},
   "outputs": [],
   "source": [
    "def test7(a):\n",
    "    n=[]\n",
    "    for i in a:\n",
    "        if type(i)==list:\n",
    "            for j in i :\n",
    "                if type(j)==int or type(j)==float:\n",
    "                    n.append(j)\n",
    "        else :\n",
    "            if type(i)==int or type(i)==float:\n",
    "                n.append(i)\n",
    "    return n\n",
    "    "
   ]
  },
  {
   "cell_type": "code",
   "execution_count": 27,
   "id": "9e3bc4d1-60b2-4d5d-b5ef-aeb7f050627b",
   "metadata": {},
   "outputs": [
    {
     "data": {
      "text/plain": [
       "[1, 2, 34, 45, 56, 1, 2, 3, 4, 5]"
      ]
     },
     "execution_count": 27,
     "metadata": {},
     "output_type": "execute_result"
    }
   ],
   "source": [
    "test7(l)"
   ]
  },
  {
   "cell_type": "code",
   "execution_count": 28,
   "id": "353cf859-f945-4cfe-bb08-3c8ee028a247",
   "metadata": {},
   "outputs": [],
   "source": [
    "def test8(a,b,c,d,e,f):\n",
    "    pass"
   ]
  },
  {
   "cell_type": "code",
   "execution_count": 29,
   "id": "fcaf11e4-a509-42a2-a070-6b8132d6686a",
   "metadata": {},
   "outputs": [
    {
     "ename": "TypeError",
     "evalue": "test8() takes 6 positional arguments but 7 were given",
     "output_type": "error",
     "traceback": [
      "\u001b[0;31m---------------------------------------------------------------------------\u001b[0m",
      "\u001b[0;31mTypeError\u001b[0m                                 Traceback (most recent call last)",
      "Cell \u001b[0;32mIn[29], line 1\u001b[0m\n\u001b[0;32m----> 1\u001b[0m \u001b[43mtest8\u001b[49m\u001b[43m(\u001b[49m\u001b[38;5;241;43m1\u001b[39;49m\u001b[43m,\u001b[49m\u001b[38;5;241;43m2\u001b[39;49m\u001b[43m,\u001b[49m\u001b[38;5;241;43m3\u001b[39;49m\u001b[43m,\u001b[49m\u001b[38;5;241;43m4\u001b[39;49m\u001b[43m,\u001b[49m\u001b[38;5;241;43m5\u001b[39;49m\u001b[43m,\u001b[49m\u001b[38;5;241;43m6\u001b[39;49m\u001b[43m,\u001b[49m\u001b[38;5;241;43m6\u001b[39;49m\u001b[43m)\u001b[49m\n",
      "\u001b[0;31mTypeError\u001b[0m: test8() takes 6 positional arguments but 7 were given"
     ]
    }
   ],
   "source": [
    "test8(1,2,3,4,5,6,6)"
   ]
  },
  {
   "cell_type": "code",
   "execution_count": 31,
   "id": "5bbf19a0-5efe-4645-a420-76f55c060950",
   "metadata": {},
   "outputs": [],
   "source": [
    "def test8(*args):\n",
    "    return args"
   ]
  },
  {
   "cell_type": "code",
   "execution_count": 32,
   "id": "07affbb7-e7ed-44fe-8103-a20cb68877f5",
   "metadata": {},
   "outputs": [
    {
     "data": {
      "text/plain": [
       "(2,)"
      ]
     },
     "execution_count": 32,
     "metadata": {},
     "output_type": "execute_result"
    }
   ],
   "source": [
    "test8(2)"
   ]
  },
  {
   "cell_type": "code",
   "execution_count": 33,
   "id": "872e5c51-cfbe-4aab-848b-d8a71eccd04d",
   "metadata": {},
   "outputs": [
    {
     "data": {
      "text/plain": [
       "(1, 2, 3, 4)"
      ]
     },
     "execution_count": 33,
     "metadata": {},
     "output_type": "execute_result"
    }
   ],
   "source": [
    "test8(1,2,3,4)"
   ]
  },
  {
   "cell_type": "code",
   "execution_count": 34,
   "id": "82803f37-1882-421c-a7f7-72270c05c831",
   "metadata": {},
   "outputs": [
    {
     "data": {
      "text/plain": [
       "('sush',)"
      ]
     },
     "execution_count": 34,
     "metadata": {},
     "output_type": "execute_result"
    }
   ],
   "source": [
    "test8(\"sush\")"
   ]
  },
  {
   "cell_type": "code",
   "execution_count": 35,
   "id": "aacee0ed-96b4-4938-8269-3231732888cb",
   "metadata": {},
   "outputs": [
    {
     "data": {
      "text/plain": [
       "('sush', [1, 2, 3, 4, 5, 6], (1, 2, 3, 4, 4, 4))"
      ]
     },
     "execution_count": 35,
     "metadata": {},
     "output_type": "execute_result"
    }
   ],
   "source": [
    "test8('sush',[1,2,3,4,5,6],(1,2,3,4,4,4))"
   ]
  },
  {
   "cell_type": "code",
   "execution_count": 36,
   "id": "77a291a1-b17c-4450-897c-595d217afe77",
   "metadata": {},
   "outputs": [],
   "source": [
    "def test9(*arg,a):\n",
    "    return arg, a"
   ]
  },
  {
   "cell_type": "code",
   "execution_count": 37,
   "id": "bd3080c0-6c96-4dfb-8ebc-c2f0d2c1afa8",
   "metadata": {},
   "outputs": [
    {
     "ename": "TypeError",
     "evalue": "test9() missing 1 required keyword-only argument: 'a'",
     "output_type": "error",
     "traceback": [
      "\u001b[0;31m---------------------------------------------------------------------------\u001b[0m",
      "\u001b[0;31mTypeError\u001b[0m                                 Traceback (most recent call last)",
      "Cell \u001b[0;32mIn[37], line 1\u001b[0m\n\u001b[0;32m----> 1\u001b[0m \u001b[43mtest9\u001b[49m\u001b[43m(\u001b[49m\u001b[38;5;241;43m1\u001b[39;49m\u001b[43m,\u001b[49m\u001b[38;5;241;43m2\u001b[39;49m\u001b[43m,\u001b[49m\u001b[38;5;241;43m3\u001b[39;49m\u001b[43m)\u001b[49m\n",
      "\u001b[0;31mTypeError\u001b[0m: test9() missing 1 required keyword-only argument: 'a'"
     ]
    }
   ],
   "source": [
    "test9(1,2,3)"
   ]
  },
  {
   "cell_type": "code",
   "execution_count": 38,
   "id": "56985636-7cc6-4b82-906f-05c65a3a93f7",
   "metadata": {},
   "outputs": [
    {
     "data": {
      "text/plain": [
       "((1, 2, 3, 4, 5, 6), 'sush')"
      ]
     },
     "execution_count": 38,
     "metadata": {},
     "output_type": "execute_result"
    }
   ],
   "source": [
    "test9(1,2,3,4,5,6,a=\"sush\")"
   ]
  },
  {
   "cell_type": "code",
   "execution_count": 39,
   "id": "18bb7fbf-582a-427f-ba04-5107b2d1ace7",
   "metadata": {},
   "outputs": [],
   "source": [
    "def test10(*args):\n",
    "    l=[]\n",
    "    for i in args:\n",
    "        if type(i)==list:\n",
    "            l.append(i)\n",
    "    return l\n",
    "            \n",
    "    "
   ]
  },
  {
   "cell_type": "code",
   "execution_count": 40,
   "id": "fb2a6fd6-fae5-470e-9330-7c79c8781b54",
   "metadata": {},
   "outputs": [
    {
     "data": {
      "text/plain": [
       "[[1, 2, 3, 4, 5, 6]]"
      ]
     },
     "execution_count": 40,
     "metadata": {},
     "output_type": "execute_result"
    }
   ],
   "source": [
    "test10(1,2,3,[1,2,3,4,5,6],(1,2,3,4),\"sush\")"
   ]
  },
  {
   "cell_type": "code",
   "execution_count": 41,
   "id": "ee532bcc-74be-4c6b-a179-f20181afadb5",
   "metadata": {},
   "outputs": [],
   "source": [
    "def test11(**kwargs):\n",
    "    return kwargs"
   ]
  },
  {
   "cell_type": "code",
   "execution_count": 42,
   "id": "952364d9-20e0-41c1-bd0c-a3653f3f8f74",
   "metadata": {},
   "outputs": [
    {
     "data": {
      "text/plain": [
       "{'a': 1, 'b': 'sush', 'c': 1234}"
      ]
     },
     "execution_count": 42,
     "metadata": {},
     "output_type": "execute_result"
    }
   ],
   "source": [
    "test11(a=1,b=\"sush\",c=1234)"
   ]
  },
  {
   "cell_type": "code",
   "execution_count": 43,
   "id": "b8feea78-8357-4c08-a361-8e6168f32e85",
   "metadata": {},
   "outputs": [
    {
     "data": {
      "text/plain": [
       "{}"
      ]
     },
     "execution_count": 43,
     "metadata": {},
     "output_type": "execute_result"
    }
   ],
   "source": [
    "test11()"
   ]
  },
  {
   "cell_type": "code",
   "execution_count": 44,
   "id": "94126612-d3ee-4a04-be18-62da4fd3ef32",
   "metadata": {},
   "outputs": [],
   "source": [
    "def test11(**kwargs):\n",
    "    for i in kwargs.keys():\n",
    "        if type(kwargs[i])==list:\n",
    "            return i,kwargs[i]"
   ]
  },
  {
   "cell_type": "code",
   "execution_count": 45,
   "id": "d8102425-7bdd-428e-bcd4-ea158a91d50f",
   "metadata": {},
   "outputs": [
    {
     "data": {
      "text/plain": [
       "('b', [1, 2, 3, 4, 5, 6])"
      ]
     },
     "execution_count": 45,
     "metadata": {},
     "output_type": "execute_result"
    }
   ],
   "source": [
    "test11(a=\"susdh\",b=[1,2,3,4,5,6],c=(1,2,3,4,5))"
   ]
  },
  {
   "cell_type": "code",
   "execution_count": 46,
   "id": "474552c9-5d8c-47a2-aff4-d908af800aae",
   "metadata": {},
   "outputs": [],
   "source": [
    "def test12(*args,**kwargs):\n",
    "    return args,kwargs\n"
   ]
  },
  {
   "cell_type": "code",
   "execution_count": 47,
   "id": "3ba97dec-40a7-4d6d-a9d1-b452dcff22a2",
   "metadata": {},
   "outputs": [
    {
     "data": {
      "text/plain": [
       "((1, 2, 3, 4, 5, 6), {'a': 123, 'b': 456})"
      ]
     },
     "execution_count": 47,
     "metadata": {},
     "output_type": "execute_result"
    }
   ],
   "source": [
    "test12(1,2,3,4,5,6,a=123,b=456)"
   ]
  },
  {
   "cell_type": "markdown",
   "id": "408d39e2-97c0-426a-b573-636dae61d46a",
   "metadata": {},
   "source": [
    "## generator function"
   ]
  },
  {
   "cell_type": "code",
   "execution_count": 48,
   "id": "baf47212-1d15-4595-8843-586c0553586a",
   "metadata": {},
   "outputs": [
    {
     "data": {
      "text/plain": [
       "range(1, 10)"
      ]
     },
     "execution_count": 48,
     "metadata": {},
     "output_type": "execute_result"
    }
   ],
   "source": [
    "range(1,10)"
   ]
  },
  {
   "cell_type": "code",
   "execution_count": 49,
   "id": "898067cc-eb86-40c5-a8d1-b2b362384d8a",
   "metadata": {},
   "outputs": [
    {
     "name": "stdout",
     "output_type": "stream",
     "text": [
      "1\n",
      "2\n",
      "3\n",
      "4\n",
      "5\n",
      "6\n",
      "7\n",
      "8\n",
      "9\n"
     ]
    }
   ],
   "source": [
    "for i in range(1,10):\n",
    "    print(i)\n",
    "    "
   ]
  },
  {
   "cell_type": "code",
   "execution_count": 50,
   "id": "db0e3077-4820-45ac-854c-f14ec4303d3f",
   "metadata": {},
   "outputs": [],
   "source": [
    "l=[1,2,3,4,5,6,7,8,9,\"sush\",\"detonator\"]"
   ]
  },
  {
   "cell_type": "code",
   "execution_count": 51,
   "id": "d8be3635-b6ae-467e-90d6-f8e905b9f67f",
   "metadata": {},
   "outputs": [],
   "source": [
    "def test1(a):\n",
    "    n=[]\n",
    "    for i in a:\n",
    "        if type(i)==int:\n",
    "            n.append(i)\n",
    "    return(n)"
   ]
  },
  {
   "cell_type": "code",
   "execution_count": 52,
   "id": "a0e78a52-cdec-4dfe-b726-5feb9f78eec6",
   "metadata": {},
   "outputs": [
    {
     "data": {
      "text/plain": [
       "[1, 2, 3, 4, 5, 6, 7, 8, 9]"
      ]
     },
     "execution_count": 52,
     "metadata": {},
     "output_type": "execute_result"
    }
   ],
   "source": [
    "test1(l)"
   ]
  },
  {
   "cell_type": "code",
   "execution_count": 53,
   "id": "e3594a05-6443-429a-896f-226b21f695f5",
   "metadata": {},
   "outputs": [],
   "source": [
    "def test_fib(n):\n",
    "    a,b=0,1\n",
    "    for i in range(n):\n",
    "        yield a\n",
    "        a,b=b,a+b"
   ]
  },
  {
   "cell_type": "code",
   "execution_count": 54,
   "id": "c671ccc7-7a39-4967-bac6-a19290267577",
   "metadata": {},
   "outputs": [
    {
     "data": {
      "text/plain": [
       "<generator object test_fib at 0x7f9f2c186120>"
      ]
     },
     "execution_count": 54,
     "metadata": {},
     "output_type": "execute_result"
    }
   ],
   "source": [
    "test_fib(10)"
   ]
  },
  {
   "cell_type": "code",
   "execution_count": 55,
   "id": "9da71cbe-3f56-4c62-b773-322e7cb4c387",
   "metadata": {},
   "outputs": [
    {
     "name": "stdout",
     "output_type": "stream",
     "text": [
      "0\n",
      "1\n",
      "1\n",
      "2\n",
      "3\n",
      "5\n",
      "8\n",
      "13\n",
      "21\n",
      "34\n"
     ]
    }
   ],
   "source": [
    "for i in test_fib(10):\n",
    "    print(i)"
   ]
  },
  {
   "cell_type": "code",
   "execution_count": null,
   "id": "4417d508-b856-4008-ae22-379234d7d0a7",
   "metadata": {},
   "outputs": [],
   "source": []
  }
 ],
 "metadata": {
  "kernelspec": {
   "display_name": "Python 3.8.10 64-bit",
   "language": "python",
   "name": "python3"
  },
  "language_info": {
   "codemirror_mode": {
    "name": "ipython",
    "version": 3
   },
   "file_extension": ".py",
   "mimetype": "text/x-python",
   "name": "python",
   "nbconvert_exporter": "python",
   "pygments_lexer": "ipython3",
   "version": "3.8.10"
  },
  "vscode": {
   "interpreter": {
    "hash": "e7370f93d1d0cde622a1f8e1c04877d8463912d04d973331ad4851f04de6915a"
   }
  }
 },
 "nbformat": 4,
 "nbformat_minor": 5
}
