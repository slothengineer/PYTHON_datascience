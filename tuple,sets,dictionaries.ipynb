{
 "cells": [
  {
   "cell_type": "code",
   "execution_count": 1,
   "id": "1c55214d-46f8-4f49-a54c-6892540e1065",
   "metadata": {},
   "outputs": [],
   "source": [
    "t = ()"
   ]
  },
  {
   "cell_type": "code",
   "execution_count": 2,
   "id": "d89a3b28-c2ef-4653-bf81-3d3174b590de",
   "metadata": {},
   "outputs": [
    {
     "data": {
      "text/plain": [
       "tuple"
      ]
     },
     "execution_count": 2,
     "metadata": {},
     "output_type": "execute_result"
    }
   ],
   "source": [
    "type(t)"
   ]
  },
  {
   "cell_type": "code",
   "execution_count": 3,
   "id": "02895454-82f5-4626-b18f-297af35d9fce",
   "metadata": {},
   "outputs": [],
   "source": [
    "t1=(1,2,3,4,45,56,2+3j,\"sush\", True)"
   ]
  },
  {
   "cell_type": "code",
   "execution_count": 4,
   "id": "d020387f-94a3-48b2-90cd-775afa4122a1",
   "metadata": {},
   "outputs": [
    {
     "data": {
      "text/plain": [
       "tuple"
      ]
     },
     "execution_count": 4,
     "metadata": {},
     "output_type": "execute_result"
    }
   ],
   "source": [
    "type(t1)"
   ]
  },
  {
   "cell_type": "code",
   "execution_count": 5,
   "id": "32c3ded7-a198-4ccc-9253-9ed4ee1b0215",
   "metadata": {},
   "outputs": [
    {
     "data": {
      "text/plain": [
       "1"
      ]
     },
     "execution_count": 5,
     "metadata": {},
     "output_type": "execute_result"
    }
   ],
   "source": [
    "t1[0]"
   ]
  },
  {
   "cell_type": "code",
   "execution_count": 6,
   "id": "c53dd54c-9e0f-4904-bf3b-bf022b187af5",
   "metadata": {},
   "outputs": [
    {
     "data": {
      "text/plain": [
       "'sush'"
      ]
     },
     "execution_count": 6,
     "metadata": {},
     "output_type": "execute_result"
    }
   ],
   "source": [
    "t1[7]"
   ]
  },
  {
   "cell_type": "code",
   "execution_count": 7,
   "id": "cfcd62df-2da9-4cbf-a769-70e1f435a3cc",
   "metadata": {},
   "outputs": [
    {
     "data": {
      "text/plain": [
       "(True, 'sush', (2+3j), 56, 45, 4, 3, 2, 1)"
      ]
     },
     "execution_count": 7,
     "metadata": {},
     "output_type": "execute_result"
    }
   ],
   "source": [
    "t1[::-1]"
   ]
  },
  {
   "cell_type": "code",
   "execution_count": 8,
   "id": "af539807-0e96-427f-80c9-df6d24a70549",
   "metadata": {},
   "outputs": [],
   "source": [
    "t1=t1[::-1]"
   ]
  },
  {
   "cell_type": "code",
   "execution_count": 9,
   "id": "e21b106c-dc7a-4411-b3ad-ecf804621b7c",
   "metadata": {},
   "outputs": [
    {
     "data": {
      "text/plain": [
       "(True, 'sush', (2+3j), 56, 45, 4, 3, 2, 1)"
      ]
     },
     "execution_count": 9,
     "metadata": {},
     "output_type": "execute_result"
    }
   ],
   "source": [
    "t1"
   ]
  },
  {
   "cell_type": "code",
   "execution_count": 10,
   "id": "f6a2f8ad-4320-4452-931a-44dd8a210a5f",
   "metadata": {},
   "outputs": [
    {
     "data": {
      "text/plain": [
       "(True, 'sush', (2+3j))"
      ]
     },
     "execution_count": 10,
     "metadata": {},
     "output_type": "execute_result"
    }
   ],
   "source": [
    "t1[0:3]"
   ]
  },
  {
   "cell_type": "code",
   "execution_count": 11,
   "id": "6d498be6-392d-4c7b-b092-b4f6973c61f4",
   "metadata": {},
   "outputs": [
    {
     "data": {
      "text/plain": [
       "1"
      ]
     },
     "execution_count": 11,
     "metadata": {},
     "output_type": "execute_result"
    }
   ],
   "source": [
    "t1.count(4)"
   ]
  },
  {
   "cell_type": "code",
   "execution_count": 12,
   "id": "5393d9f7-f06d-4f22-bc32-a1eb6111979b",
   "metadata": {},
   "outputs": [
    {
     "data": {
      "text/plain": [
       "0"
      ]
     },
     "execution_count": 12,
     "metadata": {},
     "output_type": "execute_result"
    }
   ],
   "source": [
    "t1.count('adc')"
   ]
  },
  {
   "cell_type": "code",
   "execution_count": 13,
   "id": "d788dac7-0e09-4d37-b7a1-1d4dfdc2043a",
   "metadata": {},
   "outputs": [
    {
     "data": {
      "text/plain": [
       "1"
      ]
     },
     "execution_count": 13,
     "metadata": {},
     "output_type": "execute_result"
    }
   ],
   "source": [
    "t1.index('sush')"
   ]
  },
  {
   "cell_type": "code",
   "execution_count": 14,
   "id": "9ae847f1-5a39-41c5-ba94-1bc355f103cf",
   "metadata": {},
   "outputs": [
    {
     "data": {
      "text/plain": [
       "0"
      ]
     },
     "execution_count": 14,
     "metadata": {},
     "output_type": "execute_result"
    }
   ],
   "source": [
    "t1.index(1)"
   ]
  },
  {
   "cell_type": "code",
   "execution_count": 15,
   "id": "5edfc0dc-f0a4-40a5-bdf4-1d20728013df",
   "metadata": {},
   "outputs": [
    {
     "data": {
      "text/plain": [
       "2"
      ]
     },
     "execution_count": 15,
     "metadata": {},
     "output_type": "execute_result"
    }
   ],
   "source": [
    "t1.count(True)"
   ]
  },
  {
   "cell_type": "code",
   "execution_count": 16,
   "id": "c871482d-7665-4dbe-9123-bebebac6e2bd",
   "metadata": {},
   "outputs": [
    {
     "data": {
      "text/plain": [
       "2"
      ]
     },
     "execution_count": 16,
     "metadata": {},
     "output_type": "execute_result"
    }
   ],
   "source": [
    "t1.count(1)"
   ]
  },
  {
   "cell_type": "code",
   "execution_count": 17,
   "id": "630986d3-fa47-4e4f-84af-c325cbc5ad2b",
   "metadata": {},
   "outputs": [
    {
     "ename": "TypeError",
     "evalue": "'tuple' object does not support item assignment",
     "output_type": "error",
     "traceback": [
      "\u001b[0;31m---------------------------------------------------------------------------\u001b[0m",
      "\u001b[0;31mTypeError\u001b[0m                                 Traceback (most recent call last)",
      "Cell \u001b[0;32mIn[17], line 1\u001b[0m\n\u001b[0;32m----> 1\u001b[0m \u001b[43mt1\u001b[49m\u001b[43m[\u001b[49m\u001b[38;5;241;43m0\u001b[39;49m\u001b[43m]\u001b[49m\u001b[38;5;241m=\u001b[39m[\u001b[38;5;28;01mFalse\u001b[39;00m]\n",
      "\u001b[0;31mTypeError\u001b[0m: 'tuple' object does not support item assignment"
     ]
    }
   ],
   "source": [
    "t1[0]=[False]"
   ]
  },
  {
   "cell_type": "code",
   "execution_count": 18,
   "id": "1f343fcb-d906-478a-84d7-f91a2a096890",
   "metadata": {},
   "outputs": [
    {
     "name": "stdout",
     "output_type": "stream",
     "text": [
      "True <class 'bool'>\n",
      "sush <class 'str'>\n",
      "(2+3j) <class 'complex'>\n",
      "56 <class 'int'>\n",
      "45 <class 'int'>\n",
      "4 <class 'int'>\n",
      "3 <class 'int'>\n",
      "2 <class 'int'>\n",
      "1 <class 'int'>\n"
     ]
    }
   ],
   "source": [
    "for i in t1:\n",
    "    print(i,type(i))"
   ]
  },
  {
   "cell_type": "code",
   "execution_count": 19,
   "id": "142b8158-47f6-464c-b53e-4070876d9393",
   "metadata": {},
   "outputs": [],
   "source": [
    "t2=(1,2,3,5,8,9)"
   ]
  },
  {
   "cell_type": "code",
   "execution_count": 21,
   "id": "f4230811-7864-4c9a-b502-fdcb45b4b818",
   "metadata": {},
   "outputs": [
    {
     "data": {
      "text/plain": [
       "(1, 2, 3, 5, 8, 9, 1, 2, 3, 5, 8, 9, 1, 2, 3, 5, 8, 9)"
      ]
     },
     "execution_count": 21,
     "metadata": {},
     "output_type": "execute_result"
    }
   ],
   "source": [
    "3*(t2)"
   ]
  },
  {
   "cell_type": "code",
   "execution_count": 22,
   "id": "b5e4871d-8432-4599-9883-e445ea063165",
   "metadata": {},
   "outputs": [
    {
     "data": {
      "text/plain": [
       "9"
      ]
     },
     "execution_count": 22,
     "metadata": {},
     "output_type": "execute_result"
    }
   ],
   "source": [
    "max(t2)"
   ]
  },
  {
   "cell_type": "code",
   "execution_count": 23,
   "id": "f7c08088-b00b-49b4-9011-84f701135a96",
   "metadata": {},
   "outputs": [
    {
     "data": {
      "text/plain": [
       "(True, 'sush', (2+3j), 56, 45, 4, 3, 2, 1)"
      ]
     },
     "execution_count": 23,
     "metadata": {},
     "output_type": "execute_result"
    }
   ],
   "source": [
    "t1"
   ]
  },
  {
   "cell_type": "code",
   "execution_count": 24,
   "id": "3bb3f59f-80b7-4d80-911e-70aa4ff57630",
   "metadata": {},
   "outputs": [
    {
     "data": {
      "text/plain": [
       "(1, 2, 3, 5, 8, 9)"
      ]
     },
     "execution_count": 24,
     "metadata": {},
     "output_type": "execute_result"
    }
   ],
   "source": [
    "t2"
   ]
  },
  {
   "cell_type": "code",
   "execution_count": 25,
   "id": "239444f8-0db7-4235-b3aa-f7db1a320cb1",
   "metadata": {},
   "outputs": [],
   "source": [
    "t3=(t1,t2)"
   ]
  },
  {
   "cell_type": "code",
   "execution_count": 26,
   "id": "1fa01364-78a4-4b06-a6a2-bff8df8db8ee",
   "metadata": {},
   "outputs": [
    {
     "data": {
      "text/plain": [
       "((True, 'sush', (2+3j), 56, 45, 4, 3, 2, 1), (1, 2, 3, 5, 8, 9))"
      ]
     },
     "execution_count": 26,
     "metadata": {},
     "output_type": "execute_result"
    }
   ],
   "source": [
    "t3"
   ]
  },
  {
   "cell_type": "code",
   "execution_count": 27,
   "id": "4f32f5b1-03a1-4cf2-b27d-7f1be025854e",
   "metadata": {},
   "outputs": [],
   "source": [
    "l4=[t1,t2]"
   ]
  },
  {
   "cell_type": "code",
   "execution_count": 28,
   "id": "9897335e-f3f9-4787-ae57-2adfc71f39c2",
   "metadata": {},
   "outputs": [
    {
     "data": {
      "text/plain": [
       "[(True, 'sush', (2+3j), 56, 45, 4, 3, 2, 1), (1, 2, 3, 5, 8, 9)]"
      ]
     },
     "execution_count": 28,
     "metadata": {},
     "output_type": "execute_result"
    }
   ],
   "source": [
    "l4"
   ]
  },
  {
   "cell_type": "code",
   "execution_count": 29,
   "id": "779d663f-7051-4bf8-917a-590fda34c311",
   "metadata": {},
   "outputs": [
    {
     "data": {
      "text/plain": [
       "2"
      ]
     },
     "execution_count": 29,
     "metadata": {},
     "output_type": "execute_result"
    }
   ],
   "source": [
    "len(t3)"
   ]
  },
  {
   "cell_type": "code",
   "execution_count": 30,
   "id": "ed504584-9159-43a3-b9e8-b59021b1124a",
   "metadata": {},
   "outputs": [
    {
     "data": {
      "text/plain": [
       "9"
      ]
     },
     "execution_count": 30,
     "metadata": {},
     "output_type": "execute_result"
    }
   ],
   "source": [
    "len(t1)"
   ]
  },
  {
   "cell_type": "code",
   "execution_count": 31,
   "id": "09ca2824-5c03-41bb-97d8-fbea5a7cb3da",
   "metadata": {},
   "outputs": [
    {
     "data": {
      "text/plain": [
       "False"
      ]
     },
     "execution_count": 31,
     "metadata": {},
     "output_type": "execute_result"
    }
   ],
   "source": [
    "8 in t1"
   ]
  },
  {
   "cell_type": "markdown",
   "id": "ad548409-991c-4aaa-aff7-e4b196fc44ba",
   "metadata": {},
   "source": [
    "## set"
   ]
  },
  {
   "cell_type": "code",
   "execution_count": 32,
   "id": "1c28ccdc-3465-4350-88a0-9550a652c357",
   "metadata": {},
   "outputs": [
    {
     "data": {
      "text/plain": [
       "dict"
      ]
     },
     "execution_count": 32,
     "metadata": {},
     "output_type": "execute_result"
    }
   ],
   "source": [
    "s= {}\n",
    "type(s)"
   ]
  },
  {
   "cell_type": "code",
   "execution_count": 33,
   "id": "10f35ac7-9226-4032-8087-312d004052ee",
   "metadata": {},
   "outputs": [
    {
     "data": {
      "text/plain": [
       "set"
      ]
     },
     "execution_count": 33,
     "metadata": {},
     "output_type": "execute_result"
    }
   ],
   "source": [
    "s1= {1,3,5,7,9}\n",
    "type(s1)"
   ]
  },
  {
   "cell_type": "code",
   "execution_count": 34,
   "id": "3b5fdfea-ffc0-4f73-8c15-54bd63a5caab",
   "metadata": {},
   "outputs": [],
   "source": [
    "s2={1,2,3,3,3,3,6,6,7,8,9,9,9,0}"
   ]
  },
  {
   "cell_type": "code",
   "execution_count": 35,
   "id": "f4c9130d-54a8-4c2d-bb04-f321a71315d3",
   "metadata": {},
   "outputs": [
    {
     "data": {
      "text/plain": [
       "{0, 1, 2, 3, 6, 7, 8, 9}"
      ]
     },
     "execution_count": 35,
     "metadata": {},
     "output_type": "execute_result"
    }
   ],
   "source": [
    "s2"
   ]
  },
  {
   "cell_type": "code",
   "execution_count": 36,
   "id": "331441fa-76a5-4066-9519-12c4477d3712",
   "metadata": {},
   "outputs": [
    {
     "data": {
      "text/plain": [
       "[0, 1, 2, 3, 6, 7, 8, 9]"
      ]
     },
     "execution_count": 36,
     "metadata": {},
     "output_type": "execute_result"
    }
   ],
   "source": [
    "list(s2)"
   ]
  },
  {
   "cell_type": "code",
   "execution_count": 37,
   "id": "3803a1aa-344b-4a19-a520-0ddaa1641965",
   "metadata": {},
   "outputs": [
    {
     "data": {
      "text/plain": [
       "{0, 1, 2, 3, 6, 7, 8, 9}"
      ]
     },
     "execution_count": 37,
     "metadata": {},
     "output_type": "execute_result"
    }
   ],
   "source": [
    "s= list(s2)\n",
    "set(s)"
   ]
  },
  {
   "cell_type": "code",
   "execution_count": 38,
   "id": "d4b1ae4c-6435-4949-a7af-aa7d4b4f63ed",
   "metadata": {},
   "outputs": [
    {
     "ename": "TypeError",
     "evalue": "unhashable type: 'list'",
     "output_type": "error",
     "traceback": [
      "\u001b[0;31m---------------------------------------------------------------------------\u001b[0m",
      "\u001b[0;31mTypeError\u001b[0m                                 Traceback (most recent call last)",
      "Cell \u001b[0;32mIn[38], line 1\u001b[0m\n\u001b[0;32m----> 1\u001b[0m s4\u001b[38;5;241m=\u001b[39m{\u001b[38;5;241m1\u001b[39m,\u001b[38;5;241m3\u001b[39m,\u001b[38;5;241m5\u001b[39m,\u001b[38;5;241m7\u001b[39m,[\u001b[38;5;241m1\u001b[39m,\u001b[38;5;241m2\u001b[39m,\u001b[38;5;241m3\u001b[39m,\u001b[38;5;241m4\u001b[39m]}\n",
      "\u001b[0;31mTypeError\u001b[0m: unhashable type: 'list'"
     ]
    }
   ],
   "source": [
    "s4={1,3,5,7,[1,2,3,4]}"
   ]
  },
  {
   "cell_type": "code",
   "execution_count": 39,
   "id": "7005d052-8ee4-4159-8269-06da61edc8d1",
   "metadata": {},
   "outputs": [],
   "source": [
    "s4={1,3,5,7,(1,2,3,4)}"
   ]
  },
  {
   "cell_type": "code",
   "execution_count": 40,
   "id": "cf04a194-b855-4359-8c73-5aff3dd66fed",
   "metadata": {},
   "outputs": [
    {
     "data": {
      "text/plain": [
       "{(1, 2, 3, 4), 1, 3, 5, 7}"
      ]
     },
     "execution_count": 40,
     "metadata": {},
     "output_type": "execute_result"
    }
   ],
   "source": [
    "s4"
   ]
  },
  {
   "cell_type": "code",
   "execution_count": 41,
   "id": "f53b06ee-a29f-4729-82a9-c1df4b394933",
   "metadata": {},
   "outputs": [
    {
     "ename": "TypeError",
     "evalue": "'set' object is not subscriptable",
     "output_type": "error",
     "traceback": [
      "\u001b[0;31m---------------------------------------------------------------------------\u001b[0m",
      "\u001b[0;31mTypeError\u001b[0m                                 Traceback (most recent call last)",
      "Cell \u001b[0;32mIn[41], line 1\u001b[0m\n\u001b[0;32m----> 1\u001b[0m \u001b[43ms4\u001b[49m\u001b[43m[\u001b[49m\u001b[38;5;241;43m0\u001b[39;49m\u001b[43m]\u001b[49m \u001b[38;5;66;03m##indexing not possible \u001b[39;00m\n",
      "\u001b[0;31mTypeError\u001b[0m: 'set' object is not subscriptable"
     ]
    }
   ],
   "source": [
    "s4[0] ##indexing not possible "
   ]
  },
  {
   "cell_type": "code",
   "execution_count": 42,
   "id": "2249b026-c119-42b7-a654-7b43e0b4d25f",
   "metadata": {},
   "outputs": [
    {
     "name": "stdout",
     "output_type": "stream",
     "text": [
      "1\n",
      "3\n",
      "5\n",
      "7\n",
      "(1, 2, 3, 4)\n"
     ]
    }
   ],
   "source": [
    "for i in s4:\n",
    "    print(i)"
   ]
  },
  {
   "cell_type": "code",
   "execution_count": 43,
   "id": "ebd57fde-412f-49af-8c60-23efd7b9731a",
   "metadata": {},
   "outputs": [],
   "source": [
    "s4.add(56)"
   ]
  },
  {
   "cell_type": "code",
   "execution_count": 44,
   "id": "5faa5c20-1059-4042-8409-8aa8f932461d",
   "metadata": {},
   "outputs": [
    {
     "data": {
      "text/plain": [
       "{(1, 2, 3, 4), 1, 3, 5, 56, 7}"
      ]
     },
     "execution_count": 44,
     "metadata": {},
     "output_type": "execute_result"
    }
   ],
   "source": [
    "s4\n"
   ]
  },
  {
   "cell_type": "code",
   "execution_count": 45,
   "id": "5edb89ee-2be2-4253-9222-ff01930634a7",
   "metadata": {},
   "outputs": [
    {
     "data": {
      "text/plain": [
       "{(1, 2, 3, 4), 1, 3, 5, 56, 7}"
      ]
     },
     "execution_count": 45,
     "metadata": {},
     "output_type": "execute_result"
    }
   ],
   "source": [
    "s4"
   ]
  },
  {
   "cell_type": "code",
   "execution_count": 46,
   "id": "18771681-178e-4821-a658-fedad1d431b7",
   "metadata": {},
   "outputs": [],
   "source": [
    "s4.add(\"sush\")"
   ]
  },
  {
   "cell_type": "code",
   "execution_count": 47,
   "id": "93f5892c-15c4-41de-8276-a21ad55605a1",
   "metadata": {},
   "outputs": [],
   "source": [
    "s4.add(\"yadav\")"
   ]
  },
  {
   "cell_type": "code",
   "execution_count": 48,
   "id": "950a0385-d0ee-4135-93f2-cef25e88fef6",
   "metadata": {},
   "outputs": [
    {
     "data": {
      "text/plain": [
       "{(1, 2, 3, 4), 1, 3, 5, 56, 7, 'sush', 'yadav'}"
      ]
     },
     "execution_count": 48,
     "metadata": {},
     "output_type": "execute_result"
    }
   ],
   "source": [
    "s4"
   ]
  },
  {
   "cell_type": "code",
   "execution_count": 49,
   "id": "3a194ee5-b69f-4eac-9e4c-6bca76af8bc2",
   "metadata": {},
   "outputs": [],
   "source": [
    "s4.clear()"
   ]
  },
  {
   "cell_type": "code",
   "execution_count": 50,
   "id": "6133f7de-2181-4873-aaec-f47a5928dad4",
   "metadata": {},
   "outputs": [
    {
     "data": {
      "text/plain": [
       "set()"
      ]
     },
     "execution_count": 50,
     "metadata": {},
     "output_type": "execute_result"
    }
   ],
   "source": [
    "s4"
   ]
  },
  {
   "cell_type": "code",
   "execution_count": 51,
   "id": "cde33580-8812-4a99-993d-35605625c48d",
   "metadata": {},
   "outputs": [],
   "source": [
    "s1={1,2,3,4}\n",
    "s2={1,2,3,5,6}\n"
   ]
  },
  {
   "cell_type": "code",
   "execution_count": 52,
   "id": "b9d1d0df-30b2-47de-9f09-ef98c49d91d5",
   "metadata": {},
   "outputs": [
    {
     "data": {
      "text/plain": [
       "{4}"
      ]
     },
     "execution_count": 52,
     "metadata": {},
     "output_type": "execute_result"
    }
   ],
   "source": [
    "s1.difference(s2)"
   ]
  },
  {
   "cell_type": "code",
   "execution_count": 53,
   "id": "b194232a-5824-4990-8225-55ea0d43fdab",
   "metadata": {},
   "outputs": [
    {
     "data": {
      "text/plain": [
       "{5, 6}"
      ]
     },
     "execution_count": 53,
     "metadata": {},
     "output_type": "execute_result"
    }
   ],
   "source": [
    "s2.difference(s1)"
   ]
  },
  {
   "cell_type": "markdown",
   "id": "7afe183b-4860-4995-a221-122c82e6f708",
   "metadata": {},
   "source": [
    "## dictionaries"
   ]
  },
  {
   "cell_type": "code",
   "execution_count": 54,
   "id": "9122abeb-3e81-4922-80bb-554487d927f0",
   "metadata": {},
   "outputs": [],
   "source": [
    "d1={'name':'sush','grad':'btech','college':'niet'}"
   ]
  },
  {
   "cell_type": "code",
   "execution_count": 55,
   "id": "9f9ed74c-391e-4917-85e9-12042adc6c35",
   "metadata": {},
   "outputs": [
    {
     "data": {
      "text/plain": [
       "dict"
      ]
     },
     "execution_count": 55,
     "metadata": {},
     "output_type": "execute_result"
    }
   ],
   "source": [
    "type(d1)"
   ]
  },
  {
   "cell_type": "code",
   "execution_count": 56,
   "id": "fe306816-550e-4723-acea-85ca66d1ce02",
   "metadata": {},
   "outputs": [],
   "source": [
    "d2={'name':'sush','name':\"susheel\"} ##key should be unique"
   ]
  },
  {
   "cell_type": "code",
   "execution_count": 57,
   "id": "0d517228-04ea-4a50-a573-dc3c11c96e0c",
   "metadata": {},
   "outputs": [
    {
     "data": {
      "text/plain": [
       "{'name': 'susheel'}"
      ]
     },
     "execution_count": 57,
     "metadata": {},
     "output_type": "execute_result"
    }
   ],
   "source": [
    "d2 "
   ]
  },
  {
   "cell_type": "code",
   "execution_count": 58,
   "id": "4d0852c9-8aae-4bf0-a3a4-f726e5def0fc",
   "metadata": {},
   "outputs": [],
   "source": [
    "\n",
    "d3={123:'gpt'}"
   ]
  },
  {
   "cell_type": "code",
   "execution_count": 59,
   "id": "d7491aef-5a5d-4240-8af0-5bc5ca542f28",
   "metadata": {},
   "outputs": [
    {
     "data": {
      "text/plain": [
       "{123: 'gpt'}"
      ]
     },
     "execution_count": 59,
     "metadata": {},
     "output_type": "execute_result"
    }
   ],
   "source": [
    "d3"
   ]
  },
  {
   "cell_type": "code",
   "execution_count": 60,
   "id": "362057c3-1fbe-47dd-ac64-9c9fafce0d32",
   "metadata": {},
   "outputs": [],
   "source": [
    "d4={234.45: 'gfh'}"
   ]
  },
  {
   "cell_type": "code",
   "execution_count": 61,
   "id": "eb75742a-3cd8-4b9e-b9a2-7ff018b57203",
   "metadata": {},
   "outputs": [
    {
     "data": {
      "text/plain": [
       "{234.45: 'gfh'}"
      ]
     },
     "execution_count": 61,
     "metadata": {},
     "output_type": "execute_result"
    }
   ],
   "source": [
    "d4"
   ]
  },
  {
   "cell_type": "code",
   "execution_count": 62,
   "id": "3e50c6ec-2322-40f0-a019-47d0790fa54e",
   "metadata": {},
   "outputs": [],
   "source": [
    "d5={True: 'my nme is btin'}"
   ]
  },
  {
   "cell_type": "code",
   "execution_count": 63,
   "id": "f1424be1-b10c-4ffb-8efb-c5766980e259",
   "metadata": {},
   "outputs": [
    {
     "data": {
      "text/plain": [
       "{True: 'my nme is btin'}"
      ]
     },
     "execution_count": 63,
     "metadata": {},
     "output_type": "execute_result"
    }
   ],
   "source": [
    "d5"
   ]
  },
  {
   "cell_type": "code",
   "execution_count": 64,
   "id": "f3d704ef-e186-4ef6-9383-0e77fdb247e3",
   "metadata": {},
   "outputs": [
    {
     "ename": "TypeError",
     "evalue": "unhashable type: 'list'",
     "output_type": "error",
     "traceback": [
      "\u001b[0;31m---------------------------------------------------------------------------\u001b[0m",
      "\u001b[0;31mTypeError\u001b[0m                                 Traceback (most recent call last)",
      "Cell \u001b[0;32mIn[64], line 1\u001b[0m\n\u001b[0;32m----> 1\u001b[0m d6\u001b[38;5;241m=\u001b[39m{[\u001b[38;5;241m1\u001b[39m,\u001b[38;5;241m2\u001b[39m,\u001b[38;5;241m3\u001b[39m]:\u001b[38;5;124m\"\u001b[39m\u001b[38;5;124mbt\u001b[39m\u001b[38;5;124m\"\u001b[39m} \u001b[38;5;66;03m##list cant be a key\u001b[39;00m\n",
      "\u001b[0;31mTypeError\u001b[0m: unhashable type: 'list'"
     ]
    }
   ],
   "source": [
    "d6={[1,2,3]:\"bt\"} ##list cant be a key"
   ]
  },
  {
   "cell_type": "code",
   "execution_count": 65,
   "id": "c7802aa0-1390-4eca-9408-7057f40475f1",
   "metadata": {},
   "outputs": [],
   "source": [
    "d6={(1,2,3):\"btb\"}"
   ]
  },
  {
   "cell_type": "code",
   "execution_count": 66,
   "id": "37470d10-9e01-4c49-a295-04ec6fe1c806",
   "metadata": {},
   "outputs": [
    {
     "data": {
      "text/plain": [
       "{(1, 2, 3): 'btb'}"
      ]
     },
     "execution_count": 66,
     "metadata": {},
     "output_type": "execute_result"
    }
   ],
   "source": [
    "d6"
   ]
  },
  {
   "cell_type": "code",
   "execution_count": 67,
   "id": "27aa7fd3-565f-46a0-9bd5-83d846dccc80",
   "metadata": {},
   "outputs": [
    {
     "ename": "TypeError",
     "evalue": "unhashable type: 'set'",
     "output_type": "error",
     "traceback": [
      "\u001b[0;31m---------------------------------------------------------------------------\u001b[0m",
      "\u001b[0;31mTypeError\u001b[0m                                 Traceback (most recent call last)",
      "Cell \u001b[0;32mIn[67], line 1\u001b[0m\n\u001b[0;32m----> 1\u001b[0m d6\u001b[38;5;241m=\u001b[39m{{\u001b[38;5;241m1\u001b[39m,\u001b[38;5;241m2\u001b[39m,\u001b[38;5;241m3\u001b[39m}:\u001b[38;5;124m\"\u001b[39m\u001b[38;5;124mbarc\u001b[39m\u001b[38;5;124m\"\u001b[39m} \u001b[38;5;66;03m##set is unhashable type\u001b[39;00m\n",
      "\u001b[0;31mTypeError\u001b[0m: unhashable type: 'set'"
     ]
    }
   ],
   "source": [
    "d6={{1,2,3}:\"barc\"} ##set is unhashable type\n"
   ]
  },
  {
   "cell_type": "code",
   "execution_count": 68,
   "id": "eb20c004-9122-48ae-bd35-11a249d80c66",
   "metadata": {},
   "outputs": [],
   "source": [
    "d6={\"sush\":1234}"
   ]
  },
  {
   "cell_type": "code",
   "execution_count": 69,
   "id": "0ac33aeb-ac8b-4d62-ac36-414ec9e72906",
   "metadata": {},
   "outputs": [
    {
     "data": {
      "text/plain": [
       "{'sush': 1234}"
      ]
     },
     "execution_count": 69,
     "metadata": {},
     "output_type": "execute_result"
    }
   ],
   "source": [
    "d6"
   ]
  },
  {
   "cell_type": "code",
   "execution_count": 70,
   "id": "f1a5a3c1-be74-4677-80e8-eb5399d1911b",
   "metadata": {},
   "outputs": [
    {
     "ename": "TypeError",
     "evalue": "unhashable type: 'dict'",
     "output_type": "error",
     "traceback": [
      "\u001b[0;31m---------------------------------------------------------------------------\u001b[0m",
      "\u001b[0;31mTypeError\u001b[0m                                 Traceback (most recent call last)",
      "Cell \u001b[0;32mIn[70], line 1\u001b[0m\n\u001b[0;32m----> 1\u001b[0m d6\u001b[38;5;241m=\u001b[39m{{\u001b[38;5;124m\"\u001b[39m\u001b[38;5;124msush\u001b[39m\u001b[38;5;124m\"\u001b[39m:\u001b[38;5;241m123\u001b[39m}: \u001b[38;5;241m1234\u001b[39m}\n",
      "\u001b[0;31mTypeError\u001b[0m: unhashable type: 'dict'"
     ]
    }
   ],
   "source": [
    "d6={{\"sush\":123}: 1234}"
   ]
  },
  {
   "cell_type": "code",
   "execution_count": 71,
   "id": "4d7e030a-cc76-43de-ae85-84dd45e959df",
   "metadata": {},
   "outputs": [
    {
     "data": {
      "text/plain": [
       "{'sush': 1234}"
      ]
     },
     "execution_count": 71,
     "metadata": {},
     "output_type": "execute_result"
    }
   ],
   "source": [
    "d6"
   ]
  },
  {
   "cell_type": "code",
   "execution_count": 72,
   "id": "8cc60dfd-6bca-4f59-a60a-23f69862f4e7",
   "metadata": {},
   "outputs": [],
   "source": [
    "d6={\"sush\":['hij','ghu','fgu']}"
   ]
  },
  {
   "cell_type": "code",
   "execution_count": 73,
   "id": "f9774e05-2321-4be4-8a14-38b5552a23ef",
   "metadata": {},
   "outputs": [
    {
     "data": {
      "text/plain": [
       "{'sush': ['hij', 'ghu', 'fgu']}"
      ]
     },
     "execution_count": 73,
     "metadata": {},
     "output_type": "execute_result"
    }
   ],
   "source": [
    "d6"
   ]
  },
  {
   "cell_type": "code",
   "execution_count": 74,
   "id": "478d50aa-cff6-401f-ae0b-6bfb987aed4a",
   "metadata": {},
   "outputs": [],
   "source": [
    "d6={\"unique\":(1,2,3,4,5)}"
   ]
  },
  {
   "cell_type": "code",
   "execution_count": 75,
   "id": "ae7a89f2-56f4-45e8-af50-76c534b29d8d",
   "metadata": {},
   "outputs": [],
   "source": [
    "d6={\"unique\":{1,2,3,4,5}}"
   ]
  },
  {
   "cell_type": "code",
   "execution_count": 76,
   "id": "026c7e2c-1e1f-4349-a0fd-1a0aa591c295",
   "metadata": {},
   "outputs": [],
   "source": [
    "d6={\"unique\":{'unique1':1234}}"
   ]
  },
  {
   "cell_type": "code",
   "execution_count": 77,
   "id": "e45e946a-065b-4fdf-9a4d-6d9159bb068b",
   "metadata": {},
   "outputs": [
    {
     "data": {
      "text/plain": [
       "{'unique': {'unique1': 1234}}"
      ]
     },
     "execution_count": 77,
     "metadata": {},
     "output_type": "execute_result"
    }
   ],
   "source": [
    "d6"
   ]
  },
  {
   "cell_type": "code",
   "execution_count": 78,
   "id": "8dd6a010-e2a1-4c92-8a3b-a34f73d806f6",
   "metadata": {},
   "outputs": [],
   "source": [
    "d7={\"streams\":['cs','ch','me','bt','ece'],\"sections\":(5,2,4,2,5),\"mentor\":{'rang','sai','trivedi','subuu','shah'}}"
   ]
  },
  {
   "cell_type": "code",
   "execution_count": 79,
   "id": "2a504dbb-74f9-4434-9ef4-c8bb441a27d5",
   "metadata": {},
   "outputs": [
    {
     "data": {
      "text/plain": [
       "{'streams': ['cs', 'ch', 'me', 'bt', 'ece'],\n",
       " 'sections': (5, 2, 4, 2, 5),\n",
       " 'mentor': {'rang', 'sai', 'shah', 'subuu', 'trivedi'}}"
      ]
     },
     "execution_count": 79,
     "metadata": {},
     "output_type": "execute_result"
    }
   ],
   "source": [
    "d7"
   ]
  },
  {
   "cell_type": "code",
   "execution_count": 80,
   "id": "ff73b1d8-a7ec-4bd8-ba27-82448517ad60",
   "metadata": {},
   "outputs": [],
   "source": [
    "d7[\"timing\"]=(9,10,8,10,9)"
   ]
  },
  {
   "cell_type": "code",
   "execution_count": 81,
   "id": "673dc7e5-1e53-437d-b249-3ad7f08c9c80",
   "metadata": {},
   "outputs": [
    {
     "data": {
      "text/plain": [
       "{'streams': ['cs', 'ch', 'me', 'bt', 'ece'],\n",
       " 'sections': (5, 2, 4, 2, 5),\n",
       " 'mentor': {'rang', 'sai', 'shah', 'subuu', 'trivedi'},\n",
       " 'timing': (9, 10, 8, 10, 9)}"
      ]
     },
     "execution_count": 81,
     "metadata": {},
     "output_type": "execute_result"
    }
   ],
   "source": [
    "d7"
   ]
  },
  {
   "cell_type": "code",
   "execution_count": 82,
   "id": "d95cdcf4-de1e-4e82-ab31-af429b03ceb7",
   "metadata": {},
   "outputs": [
    {
     "data": {
      "text/plain": [
       "(5, 2, 4, 2, 5)"
      ]
     },
     "execution_count": 82,
     "metadata": {},
     "output_type": "execute_result"
    }
   ],
   "source": [
    "d7[\"sections\"]"
   ]
  },
  {
   "cell_type": "code",
   "execution_count": 83,
   "id": "db8cd017-29fe-45b4-ac55-da467d09c09b",
   "metadata": {},
   "outputs": [
    {
     "data": {
      "text/plain": [
       "set"
      ]
     },
     "execution_count": 83,
     "metadata": {},
     "output_type": "execute_result"
    }
   ],
   "source": [
    "type(d7[\"mentor\"])"
   ]
  },
  {
   "cell_type": "code",
   "execution_count": 84,
   "id": "8a9e27d3-9051-4337-b9d3-cc2ca3e7bcdb",
   "metadata": {},
   "outputs": [],
   "source": [
    "d7['name']=\"bestrow\""
   ]
  },
  {
   "cell_type": "code",
   "execution_count": 85,
   "id": "8ccdb311-1192-4e23-af1d-831ab600f96e",
   "metadata": {},
   "outputs": [
    {
     "data": {
      "text/plain": [
       "{'streams': ['cs', 'ch', 'me', 'bt', 'ece'],\n",
       " 'sections': (5, 2, 4, 2, 5),\n",
       " 'mentor': {'rang', 'sai', 'shah', 'subuu', 'trivedi'},\n",
       " 'timing': (9, 10, 8, 10, 9),\n",
       " 'name': 'bestrow'}"
      ]
     },
     "execution_count": 85,
     "metadata": {},
     "output_type": "execute_result"
    }
   ],
   "source": [
    "d7"
   ]
  },
  {
   "cell_type": "code",
   "execution_count": 86,
   "id": "f4eb56f9-313f-4d35-92ac-372545d39503",
   "metadata": {},
   "outputs": [
    {
     "data": {
      "text/plain": [
       "'BESTROW'"
      ]
     },
     "execution_count": 86,
     "metadata": {},
     "output_type": "execute_result"
    }
   ],
   "source": [
    "d7['name'].upper()"
   ]
  },
  {
   "cell_type": "code",
   "execution_count": 87,
   "id": "b517abf8-e476-4d11-8aaf-35ee4d4e1b27",
   "metadata": {},
   "outputs": [
    {
     "data": {
      "text/plain": [
       "{'name': 'sush', 'grad': 'btech', 'college': 'niet'}"
      ]
     },
     "execution_count": 87,
     "metadata": {},
     "output_type": "execute_result"
    }
   ],
   "source": [
    "d1"
   ]
  },
  {
   "cell_type": "code",
   "execution_count": 88,
   "id": "5488fa3c-72ee-457d-a0fe-ed8b81708f7c",
   "metadata": {},
   "outputs": [],
   "source": [
    "d8={'key':d1}"
   ]
  },
  {
   "cell_type": "code",
   "execution_count": 89,
   "id": "327e186a-d389-4d8b-ade7-0868ace8f453",
   "metadata": {},
   "outputs": [
    {
     "data": {
      "text/plain": [
       "{'key': {'name': 'sush', 'grad': 'btech', 'college': 'niet'}}"
      ]
     },
     "execution_count": 89,
     "metadata": {},
     "output_type": "execute_result"
    }
   ],
   "source": [
    "d8"
   ]
  },
  {
   "cell_type": "code",
   "execution_count": 90,
   "id": "dbe4bf28-eb14-48cb-b7f0-246c3bbd1907",
   "metadata": {},
   "outputs": [
    {
     "data": {
      "text/plain": [
       "{'name': 'sush', 'grad': 'btech', 'college': 'niet'}"
      ]
     },
     "execution_count": 90,
     "metadata": {},
     "output_type": "execute_result"
    }
   ],
   "source": [
    "d8['key']"
   ]
  },
  {
   "cell_type": "code",
   "execution_count": 91,
   "id": "90a2a3ee-0631-4b0c-a791-7242e9423604",
   "metadata": {},
   "outputs": [
    {
     "data": {
      "text/plain": [
       "dict"
      ]
     },
     "execution_count": 91,
     "metadata": {},
     "output_type": "execute_result"
    }
   ],
   "source": [
    "type(d8['key'])"
   ]
  },
  {
   "cell_type": "code",
   "execution_count": 92,
   "id": "b9d124a8-a4f9-4f74-904d-694a7726182c",
   "metadata": {},
   "outputs": [
    {
     "data": {
      "text/plain": [
       "'niet'"
      ]
     },
     "execution_count": 92,
     "metadata": {},
     "output_type": "execute_result"
    }
   ],
   "source": [
    "d8['key']['college']"
   ]
  },
  {
   "cell_type": "code",
   "execution_count": 93,
   "id": "51d2dde6-f614-4d20-adb7-341932086b28",
   "metadata": {},
   "outputs": [
    {
     "data": {
      "text/plain": [
       "{'key': {'name': 'sush', 'grad': 'btech', 'college': 'niet'}}"
      ]
     },
     "execution_count": 93,
     "metadata": {},
     "output_type": "execute_result"
    }
   ],
   "source": [
    "d8"
   ]
  },
  {
   "cell_type": "code",
   "execution_count": 94,
   "id": "6c0d6b5a-70b9-4a92-afb5-1dc0fae3f96c",
   "metadata": {},
   "outputs": [],
   "source": [
    "d8['key1']='noida'"
   ]
  },
  {
   "cell_type": "code",
   "execution_count": 95,
   "id": "13f767d8-64d1-4aa6-94b5-eba4c599acf9",
   "metadata": {},
   "outputs": [
    {
     "data": {
      "text/plain": [
       "{'key': {'name': 'sush', 'grad': 'btech', 'college': 'niet'}, 'key1': 'noida'}"
      ]
     },
     "execution_count": 95,
     "metadata": {},
     "output_type": "execute_result"
    }
   ],
   "source": [
    "d8"
   ]
  },
  {
   "cell_type": "code",
   "execution_count": 96,
   "id": "5d59fe00-df04-4426-ae4b-43c9fad4dbe5",
   "metadata": {},
   "outputs": [],
   "source": [
    "del(d8['key1'])"
   ]
  },
  {
   "cell_type": "code",
   "execution_count": 97,
   "id": "5a209fea-4cf7-4bd6-9e8c-245fc9a73cc1",
   "metadata": {},
   "outputs": [
    {
     "data": {
      "text/plain": [
       "{'key': {'name': 'sush', 'grad': 'btech', 'college': 'niet'}}"
      ]
     },
     "execution_count": 97,
     "metadata": {},
     "output_type": "execute_result"
    }
   ],
   "source": [
    "d8"
   ]
  },
  {
   "cell_type": "code",
   "execution_count": 98,
   "id": "1029ceb1-822f-4382-9f4e-d51b89176119",
   "metadata": {},
   "outputs": [],
   "source": [
    "d8.clear()"
   ]
  },
  {
   "cell_type": "code",
   "execution_count": 99,
   "id": "52ad1863-c4e7-4c64-9575-9d005033b4c3",
   "metadata": {},
   "outputs": [
    {
     "data": {
      "text/plain": [
       "{}"
      ]
     },
     "execution_count": 99,
     "metadata": {},
     "output_type": "execute_result"
    }
   ],
   "source": [
    "d8"
   ]
  },
  {
   "cell_type": "code",
   "execution_count": 100,
   "id": "f6e5e2ef-2bb5-4c72-aa6c-b98c99394a6f",
   "metadata": {},
   "outputs": [
    {
     "data": {
      "text/plain": [
       "5"
      ]
     },
     "execution_count": 100,
     "metadata": {},
     "output_type": "execute_result"
    }
   ],
   "source": [
    "len(d7)"
   ]
  },
  {
   "cell_type": "code",
   "execution_count": 101,
   "id": "a2fdeb4a-41cb-4a29-afdd-3aa2bfdb74a8",
   "metadata": {},
   "outputs": [
    {
     "data": {
      "text/plain": [
       "dict_keys(['streams', 'sections', 'mentor', 'timing', 'name'])"
      ]
     },
     "execution_count": 101,
     "metadata": {},
     "output_type": "execute_result"
    }
   ],
   "source": [
    "d7.keys()"
   ]
  },
  {
   "cell_type": "code",
   "execution_count": 102,
   "id": "3308d2dc-a1e3-4218-8b6a-9993f335409c",
   "metadata": {},
   "outputs": [
    {
     "data": {
      "text/plain": [
       "dict_values([['cs', 'ch', 'me', 'bt', 'ece'], (5, 2, 4, 2, 5), {'shah', 'trivedi', 'sai', 'subuu', 'rang'}, (9, 10, 8, 10, 9), 'bestrow'])"
      ]
     },
     "execution_count": 102,
     "metadata": {},
     "output_type": "execute_result"
    }
   ],
   "source": [
    "d7.values()"
   ]
  },
  {
   "cell_type": "code",
   "execution_count": 103,
   "id": "db3b4381-a80d-44e1-89eb-6a3c824fcd98",
   "metadata": {},
   "outputs": [
    {
     "data": {
      "text/plain": [
       "[['cs', 'ch', 'me', 'bt', 'ece'],\n",
       " (5, 2, 4, 2, 5),\n",
       " {'rang', 'sai', 'shah', 'subuu', 'trivedi'},\n",
       " (9, 10, 8, 10, 9),\n",
       " 'bestrow']"
      ]
     },
     "execution_count": 103,
     "metadata": {},
     "output_type": "execute_result"
    }
   ],
   "source": [
    "list(d7.values())"
   ]
  },
  {
   "cell_type": "code",
   "execution_count": 104,
   "id": "e0780a23-da66-4553-96c7-373024c40d36",
   "metadata": {},
   "outputs": [
    {
     "data": {
      "text/plain": [
       "dict_items([('streams', ['cs', 'ch', 'me', 'bt', 'ece']), ('sections', (5, 2, 4, 2, 5)), ('mentor', {'shah', 'trivedi', 'sai', 'subuu', 'rang'}), ('timing', (9, 10, 8, 10, 9)), ('name', 'bestrow')])"
      ]
     },
     "execution_count": 104,
     "metadata": {},
     "output_type": "execute_result"
    }
   ],
   "source": [
    "d7.items()"
   ]
  },
  {
   "cell_type": "code",
   "execution_count": 105,
   "id": "20b14ca9-6d88-466e-9121-b06b20933187",
   "metadata": {},
   "outputs": [
    {
     "data": {
      "text/plain": [
       "[('streams', ['cs', 'ch', 'me', 'bt', 'ece']),\n",
       " ('sections', (5, 2, 4, 2, 5)),\n",
       " ('mentor', {'rang', 'sai', 'shah', 'subuu', 'trivedi'}),\n",
       " ('timing', (9, 10, 8, 10, 9)),\n",
       " ('name', 'bestrow')]"
      ]
     },
     "execution_count": 105,
     "metadata": {},
     "output_type": "execute_result"
    }
   ],
   "source": [
    "list(d7.items())"
   ]
  },
  {
   "cell_type": "code",
   "execution_count": 106,
   "id": "2f9224a8-6b7c-47f6-95d0-b14f84d48216",
   "metadata": {},
   "outputs": [],
   "source": [
    "d9=d7.copy() ##deep copying"
   ]
  },
  {
   "cell_type": "code",
   "execution_count": 107,
   "id": "2d61d6cd-eab7-4389-96a4-b97015b1e6d7",
   "metadata": {},
   "outputs": [
    {
     "data": {
      "text/plain": [
       "{'streams': ['cs', 'ch', 'me', 'bt', 'ece'],\n",
       " 'sections': (5, 2, 4, 2, 5),\n",
       " 'mentor': {'rang', 'sai', 'shah', 'subuu', 'trivedi'},\n",
       " 'timing': (9, 10, 8, 10, 9),\n",
       " 'name': 'bestrow'}"
      ]
     },
     "execution_count": 107,
     "metadata": {},
     "output_type": "execute_result"
    }
   ],
   "source": [
    "d9"
   ]
  },
  {
   "cell_type": "code",
   "execution_count": 108,
   "id": "65791d86-9551-4b2b-b926-36b476de692f",
   "metadata": {},
   "outputs": [],
   "source": [
    "del d7['name']"
   ]
  },
  {
   "cell_type": "code",
   "execution_count": 109,
   "id": "87498d75-6109-4fc2-85d5-30b5d4d63f15",
   "metadata": {},
   "outputs": [
    {
     "data": {
      "text/plain": [
       "{'streams': ['cs', 'ch', 'me', 'bt', 'ece'],\n",
       " 'sections': (5, 2, 4, 2, 5),\n",
       " 'mentor': {'rang', 'sai', 'shah', 'subuu', 'trivedi'},\n",
       " 'timing': (9, 10, 8, 10, 9)}"
      ]
     },
     "execution_count": 109,
     "metadata": {},
     "output_type": "execute_result"
    }
   ],
   "source": [
    "d7"
   ]
  },
  {
   "cell_type": "code",
   "execution_count": 110,
   "id": "b441d454-7010-4bc4-bb8c-e10dd8382ea4",
   "metadata": {},
   "outputs": [
    {
     "data": {
      "text/plain": [
       "{'streams': ['cs', 'ch', 'me', 'bt', 'ece'],\n",
       " 'sections': (5, 2, 4, 2, 5),\n",
       " 'mentor': {'rang', 'sai', 'shah', 'subuu', 'trivedi'},\n",
       " 'timing': (9, 10, 8, 10, 9),\n",
       " 'name': 'bestrow'}"
      ]
     },
     "execution_count": 110,
     "metadata": {},
     "output_type": "execute_result"
    }
   ],
   "source": [
    "d9"
   ]
  },
  {
   "cell_type": "code",
   "execution_count": 111,
   "id": "03b96909-d6cf-4639-a178-d8990218daa3",
   "metadata": {},
   "outputs": [],
   "source": [
    "d10=d7 ##shallow copying"
   ]
  },
  {
   "cell_type": "code",
   "execution_count": 112,
   "id": "5d5179f0-9478-4629-9ffa-5a43e9a58eed",
   "metadata": {},
   "outputs": [
    {
     "data": {
      "text/plain": [
       "{'streams': ['cs', 'ch', 'me', 'bt', 'ece'],\n",
       " 'sections': (5, 2, 4, 2, 5),\n",
       " 'mentor': {'rang', 'sai', 'shah', 'subuu', 'trivedi'},\n",
       " 'timing': (9, 10, 8, 10, 9)}"
      ]
     },
     "execution_count": 112,
     "metadata": {},
     "output_type": "execute_result"
    }
   ],
   "source": [
    "d10"
   ]
  },
  {
   "cell_type": "code",
   "execution_count": 113,
   "id": "f263590c-163d-45af-923b-f510353d78c5",
   "metadata": {},
   "outputs": [],
   "source": [
    "del d7['timing']"
   ]
  },
  {
   "cell_type": "code",
   "execution_count": 114,
   "id": "a8275ee5-2900-497a-ab59-0c62904adc1f",
   "metadata": {},
   "outputs": [
    {
     "data": {
      "text/plain": [
       "{'streams': ['cs', 'ch', 'me', 'bt', 'ece'],\n",
       " 'sections': (5, 2, 4, 2, 5),\n",
       " 'mentor': {'rang', 'sai', 'shah', 'subuu', 'trivedi'}}"
      ]
     },
     "execution_count": 114,
     "metadata": {},
     "output_type": "execute_result"
    }
   ],
   "source": [
    "d7"
   ]
  },
  {
   "cell_type": "code",
   "execution_count": 115,
   "id": "95ea2db1-c6f2-4e20-b1f1-d7f1ae7bfc0c",
   "metadata": {},
   "outputs": [
    {
     "data": {
      "text/plain": [
       "{'streams': ['cs', 'ch', 'me', 'bt', 'ece'],\n",
       " 'sections': (5, 2, 4, 2, 5),\n",
       " 'mentor': {'rang', 'sai', 'shah', 'subuu', 'trivedi'}}"
      ]
     },
     "execution_count": 115,
     "metadata": {},
     "output_type": "execute_result"
    }
   ],
   "source": [
    "d10"
   ]
  },
  {
   "cell_type": "code",
   "execution_count": 116,
   "id": "04235f97-6d07-41d8-8298-ea65485eaa49",
   "metadata": {},
   "outputs": [
    {
     "data": {
      "text/plain": [
       "{'streams': ['cs', 'ch', 'me', 'bt', 'ece'],\n",
       " 'sections': (5, 2, 4, 2, 5),\n",
       " 'mentor': {'rang', 'sai', 'shah', 'subuu', 'trivedi'},\n",
       " 'timing': (9, 10, 8, 10, 9),\n",
       " 'name': 'bestrow'}"
      ]
     },
     "execution_count": 116,
     "metadata": {},
     "output_type": "execute_result"
    }
   ],
   "source": [
    "d9"
   ]
  },
  {
   "cell_type": "code",
   "execution_count": 117,
   "id": "80b41e6e-0017-4b21-b9d7-f4ec1a144f38",
   "metadata": {},
   "outputs": [
    {
     "data": {
      "text/plain": [
       "'bestrow'"
      ]
     },
     "execution_count": 117,
     "metadata": {},
     "output_type": "execute_result"
    }
   ],
   "source": [
    "d9.pop('name')"
   ]
  },
  {
   "cell_type": "code",
   "execution_count": 118,
   "id": "dbdb6198-fd19-4ad9-a7b0-549c7344e2b7",
   "metadata": {},
   "outputs": [
    {
     "data": {
      "text/plain": [
       "{'streams': ['cs', 'ch', 'me', 'bt', 'ece'],\n",
       " 'sections': (5, 2, 4, 2, 5),\n",
       " 'mentor': {'rang', 'sai', 'shah', 'subuu', 'trivedi'},\n",
       " 'timing': (9, 10, 8, 10, 9)}"
      ]
     },
     "execution_count": 118,
     "metadata": {},
     "output_type": "execute_result"
    }
   ],
   "source": [
    "d9"
   ]
  },
  {
   "cell_type": "code",
   "execution_count": 119,
   "id": "772e4f26-5ecf-483c-aec3-04be17fcd818",
   "metadata": {},
   "outputs": [],
   "source": [
    "\n",
    "dd=d9.fromkeys((1,2,3) , ('a','b','c'))\n"
   ]
  },
  {
   "cell_type": "code",
   "execution_count": 120,
   "id": "0064144f-5a43-4c1f-838e-86a704d3ffeb",
   "metadata": {},
   "outputs": [
    {
     "data": {
      "text/plain": [
       "({1: ('a', 'b', 'c'), 2: ('a', 'b', 'c'), 3: ('a', 'b', 'c')},\n",
       " {'streams': ['cs', 'ch', 'me', 'bt', 'ece'],\n",
       "  'sections': (5, 2, 4, 2, 5),\n",
       "  'mentor': {'rang', 'sai', 'shah', 'subuu', 'trivedi'},\n",
       "  'timing': (9, 10, 8, 10, 9)})"
      ]
     },
     "execution_count": 120,
     "metadata": {},
     "output_type": "execute_result"
    }
   ],
   "source": [
    "(dd,d9)"
   ]
  },
  {
   "cell_type": "code",
   "execution_count": 121,
   "id": "f98e8865-0f18-4afd-b38d-167bd3d416b7",
   "metadata": {},
   "outputs": [
    {
     "data": {
      "text/plain": [
       "{1: ('a', 'b', 'c'), 2: ('a', 'b', 'c'), 3: ('a', 'b', 'c')}"
      ]
     },
     "execution_count": 121,
     "metadata": {},
     "output_type": "execute_result"
    }
   ],
   "source": [
    "dd"
   ]
  },
  {
   "cell_type": "code",
   "execution_count": 122,
   "id": "b6322152-35ec-46b1-aac9-8609bb657774",
   "metadata": {},
   "outputs": [
    {
     "data": {
      "text/plain": [
       "{'streams': ['cs', 'ch', 'me', 'bt', 'ece'],\n",
       " 'sections': (5, 2, 4, 2, 5),\n",
       " 'mentor': {'rang', 'sai', 'shah', 'subuu', 'trivedi'},\n",
       " 'timing': (9, 10, 8, 10, 9)}"
      ]
     },
     "execution_count": 122,
     "metadata": {},
     "output_type": "execute_result"
    }
   ],
   "source": [
    "d9"
   ]
  },
  {
   "cell_type": "code",
   "execution_count": 123,
   "id": "feda9701-ff12-40c1-a0d1-0bed5e4834e7",
   "metadata": {},
   "outputs": [],
   "source": [
    "dd.update(d9)"
   ]
  },
  {
   "cell_type": "code",
   "execution_count": 124,
   "id": "faad5c4e-17b8-4778-a67b-512a5c25dc36",
   "metadata": {},
   "outputs": [
    {
     "data": {
      "text/plain": [
       "{1: ('a', 'b', 'c'),\n",
       " 2: ('a', 'b', 'c'),\n",
       " 3: ('a', 'b', 'c'),\n",
       " 'streams': ['cs', 'ch', 'me', 'bt', 'ece'],\n",
       " 'sections': (5, 2, 4, 2, 5),\n",
       " 'mentor': {'rang', 'sai', 'shah', 'subuu', 'trivedi'},\n",
       " 'timing': (9, 10, 8, 10, 9)}"
      ]
     },
     "execution_count": 124,
     "metadata": {},
     "output_type": "execute_result"
    }
   ],
   "source": [
    "dd"
   ]
  },
  {
   "cell_type": "code",
   "execution_count": 125,
   "id": "9b061e2f-e9f9-4417-b90d-ca7ffa4c89bf",
   "metadata": {},
   "outputs": [],
   "source": [
    "d9.update(dd)\n"
   ]
  },
  {
   "cell_type": "code",
   "execution_count": 126,
   "id": "e411c105-57b8-4071-bfc6-35b9030f0312",
   "metadata": {},
   "outputs": [
    {
     "data": {
      "text/plain": [
       "{'streams': ['cs', 'ch', 'me', 'bt', 'ece'],\n",
       " 'sections': (5, 2, 4, 2, 5),\n",
       " 'mentor': {'rang', 'sai', 'shah', 'subuu', 'trivedi'},\n",
       " 'timing': (9, 10, 8, 10, 9),\n",
       " 1: ('a', 'b', 'c'),\n",
       " 2: ('a', 'b', 'c'),\n",
       " 3: ('a', 'b', 'c')}"
      ]
     },
     "execution_count": 126,
     "metadata": {},
     "output_type": "execute_result"
    }
   ],
   "source": [
    "\n",
    "d9"
   ]
  },
  {
   "cell_type": "markdown",
   "id": "41e479a2-1f88-48e4-ac20-3e08b6365d2f",
   "metadata": {},
   "source": [
    "### dictionary comprehension"
   ]
  },
  {
   "cell_type": "code",
   "execution_count": 127,
   "id": "23095bca-932c-4577-8fdb-a381dec08e26",
   "metadata": {},
   "outputs": [
    {
     "data": {
      "text/plain": [
       "[1, 2, 3, 4, 5, 6, 7, 8, 9]"
      ]
     },
     "execution_count": 127,
     "metadata": {},
     "output_type": "execute_result"
    }
   ],
   "source": [
    "list(range(1,10))"
   ]
  },
  {
   "cell_type": "code",
   "execution_count": 128,
   "id": "6c855918-d2e3-4a22-8a26-50bbefe4df5b",
   "metadata": {},
   "outputs": [
    {
     "data": {
      "text/plain": [
       "{1: 1, 2: 4, 3: 9, 4: 16, 5: 25, 6: 36, 7: 49, 8: 64, 9: 81}"
      ]
     },
     "execution_count": 128,
     "metadata": {},
     "output_type": "execute_result"
    }
   ],
   "source": [
    "{i: i**2 for i in range(1,10)}"
   ]
  },
  {
   "cell_type": "code",
   "execution_count": 129,
   "id": "a228cb69-a255-41d9-b574-4ea55d05fb48",
   "metadata": {},
   "outputs": [
    {
     "data": {
      "text/plain": [
       "{1: 101, 2: 102, 3: 103, 4: 104, 5: 105, 6: 106, 7: 107, 8: 108, 9: 109}"
      ]
     },
     "execution_count": 129,
     "metadata": {},
     "output_type": "execute_result"
    }
   ],
   "source": [
    "{i: i+100 for i in range(1,10)}"
   ]
  },
  {
   "cell_type": "code",
   "execution_count": 130,
   "id": "6764a6b0-bb67-48db-a0a6-7a6ba62ff754",
   "metadata": {},
   "outputs": [],
   "source": [
    "import math\n",
    "d11={i: math.log10(i) for i in range(1,10)}"
   ]
  },
  {
   "cell_type": "code",
   "execution_count": 131,
   "id": "fc51155d-a4ab-41ed-966f-96c4c10b724e",
   "metadata": {},
   "outputs": [
    {
     "data": {
      "text/plain": [
       "{'streams': ['cs', 'ch', 'me', 'bt', 'ece'],\n",
       " 'sections': (5, 2, 4, 2, 5),\n",
       " 'mentor': {'rang', 'sai', 'shah', 'subuu', 'trivedi'}}"
      ]
     },
     "execution_count": 131,
     "metadata": {},
     "output_type": "execute_result"
    }
   ],
   "source": [
    "d7"
   ]
  },
  {
   "cell_type": "code",
   "execution_count": 132,
   "id": "07ba5126-1a4e-4b46-8f07-f9dd5e8f24f0",
   "metadata": {},
   "outputs": [
    {
     "data": {
      "text/plain": [
       "{1: 0.0,\n",
       " 2: 0.3010299956639812,\n",
       " 3: 0.47712125471966244,\n",
       " 4: 0.6020599913279624,\n",
       " 5: 0.6989700043360189,\n",
       " 6: 0.7781512503836436,\n",
       " 7: 0.8450980400142568,\n",
       " 8: 0.9030899869919435,\n",
       " 9: 0.9542425094393249}"
      ]
     },
     "execution_count": 132,
     "metadata": {},
     "output_type": "execute_result"
    }
   ],
   "source": [
    "d11"
   ]
  },
  {
   "cell_type": "code",
   "execution_count": 133,
   "id": "65558496-c7d0-44d1-98c6-37610493a5b3",
   "metadata": {},
   "outputs": [
    {
     "data": {
      "text/plain": [
       "dict_keys([1, 2, 3, 4, 5, 6, 7, 8, 9])"
      ]
     },
     "execution_count": 133,
     "metadata": {},
     "output_type": "execute_result"
    }
   ],
   "source": [
    "d11.keys()"
   ]
  },
  {
   "cell_type": "code",
   "execution_count": 134,
   "id": "7ce4fbee-1422-43b7-8a62-a0d6fcb06c9d",
   "metadata": {},
   "outputs": [
    {
     "data": {
      "text/plain": [
       "{2: 0.3010299956639812,\n",
       " 4: 0.6020599913279624,\n",
       " 6: 0.7781512503836436,\n",
       " 8: 0.9030899869919435}"
      ]
     },
     "execution_count": 134,
     "metadata": {},
     "output_type": "execute_result"
    }
   ],
   "source": [
    "{i:math.log10(i)  for i in d11 if i%2==0}"
   ]
  },
  {
   "cell_type": "code",
   "execution_count": 135,
   "id": "187569a8-05e6-4dc7-9f86-ebc6987828df",
   "metadata": {},
   "outputs": [
    {
     "name": "stdout",
     "output_type": "stream",
     "text": [
      "0.3010299956639812\n",
      "0.6020599913279624\n",
      "0.7781512503836436\n",
      "0.9030899869919435\n"
     ]
    }
   ],
   "source": [
    "for i in d11.keys():\n",
    "    if i%2==0:\n",
    "        print(d11[i])"
   ]
  },
  {
   "cell_type": "code",
   "execution_count": null,
   "id": "e4ca24e5-9fcc-4462-ba11-817e71216a42",
   "metadata": {},
   "outputs": [],
   "source": []
  },
  {
   "cell_type": "code",
   "execution_count": null,
   "id": "9406e290-758e-4e31-b28b-e746eaec937b",
   "metadata": {},
   "outputs": [],
   "source": []
  },
  {
   "cell_type": "code",
   "execution_count": null,
   "id": "74e550c2-0e3e-4c8b-8f89-6a268aecb39a",
   "metadata": {},
   "outputs": [],
   "source": []
  }
 ],
 "metadata": {
  "kernelspec": {
   "display_name": "Python 3.8.10 64-bit",
   "language": "python",
   "name": "python3"
  },
  "language_info": {
   "codemirror_mode": {
    "name": "ipython",
    "version": 3
   },
   "file_extension": ".py",
   "mimetype": "text/x-python",
   "name": "python",
   "nbconvert_exporter": "python",
   "pygments_lexer": "ipython3",
   "version": "3.8.10"
  },
  "vscode": {
   "interpreter": {
    "hash": "e7370f93d1d0cde622a1f8e1c04877d8463912d04d973331ad4851f04de6915a"
   }
  }
 },
 "nbformat": 4,
 "nbformat_minor": 5
}
