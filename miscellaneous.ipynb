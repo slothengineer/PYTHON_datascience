{
 "cells": [
  {
   "cell_type": "code",
   "execution_count": 29,
   "id": "b7444c77-926c-4c5b-a32b-30abd3f9f984",
   "metadata": {},
   "outputs": [],
   "source": [
    "class car:\n",
    "    \n",
    "    def __init__(self,year,brand,model,speed):\n",
    "        self.year=year\n",
    "        self.brand=brand\n",
    "        self.model=model\n",
    "        self.speed=0\n",
    "        "
   ]
  },
  {
   "cell_type": "code",
   "execution_count": 30,
   "id": "a7e703e0-574b-4f50-8309-d562b2693b52",
   "metadata": {},
   "outputs": [],
   "source": [
    "obj_car=car(2023,\"honda\",\"city\",150)"
   ]
  },
  {
   "cell_type": "code",
   "execution_count": 31,
   "id": "d8077c77-7f23-4b92-93f9-cc6beaefb023",
   "metadata": {},
   "outputs": [
    {
     "data": {
      "text/plain": [
       "'city'"
      ]
     },
     "execution_count": 31,
     "metadata": {},
     "output_type": "execute_result"
    }
   ],
   "source": [
    "obj_car.model"
   ]
  },
  {
   "cell_type": "code",
   "execution_count": 32,
   "id": "0ca14c9c-ee68-4765-9382-f11f1236e759",
   "metadata": {},
   "outputs": [],
   "source": [
    "class car:\n",
    "    def __init__(self,make,model,year,color,mileage):\n",
    "        self.__make = make\n",
    "        self.__model = model\n",
    "        self.__year = year\n",
    "        self.__color = color\n",
    "        self.__mileage = 0\n",
    "\n",
    "    def drive(self, distance):\n",
    "        self.mileage += distance\n",
    "\n",
    "    def paint(self, color):\n",
    "        self.color = color\n",
    "\n",
    "    def get_info(self):\n",
    "        return f\"{self.__color} {self.__year} {self.__make} {self.__model} with {self.__mileage} miles\"\n"
   ]
  },
  {
   "cell_type": "code",
   "execution_count": 33,
   "id": "f951a86b-42de-4f15-be52-f66e447ca809",
   "metadata": {},
   "outputs": [],
   "source": [
    "car_obj=car(\"honda\",\"city\",2023,\"blue\",20)"
   ]
  },
  {
   "cell_type": "code",
   "execution_count": 34,
   "id": "f52f4fa3-afbf-477b-86b5-34aca99e0f69",
   "metadata": {},
   "outputs": [
    {
     "data": {
      "text/plain": [
       "'city'"
      ]
     },
     "execution_count": 34,
     "metadata": {},
     "output_type": "execute_result"
    }
   ],
   "source": [
    "car_obj._car__model\n"
   ]
  },
  {
   "cell_type": "code",
   "execution_count": 35,
   "id": "0b91e459-81fc-45f0-912f-4a7034dbdbba",
   "metadata": {},
   "outputs": [],
   "source": [
    "class Car:\n",
    "    def __init__(self, make, model, year, color,mileage):\n",
    "        self.__make = make\n",
    "        self.__model = model\n",
    "        self.__year = year\n",
    "        self.__color = color\n",
    "        self.__mileage = 0\n",
    "\n",
    "    def drive(self, distance):\n",
    "        self.__mileage += distance\n",
    "\n",
    "    def paint(self, color):\n",
    "        self.__color = color\n",
    "\n",
    "    def get_info(self):\n",
    "        return f\"{self.__color} {self.__year} {self.__make} {self.__model} with {self.__mileage} miles\"\n",
    "\n",
    "    # Getter methods\n",
    "    def get_make(self):\n",
    "        return self.__make\n",
    "\n",
    "    def get_model(self):\n",
    "        return self.__model\n",
    "\n",
    "    def get_year(self):\n",
    "        return self.__year\n",
    "\n",
    "    def get_color(self):\n",
    "        return self.__color\n",
    "\n",
    "    def get_mileage(self):\n",
    "        return self.__mileage\n",
    "\n",
    "    # Setter methods\n",
    "    def set_make(self, make):\n",
    "        self.__make = make\n",
    "\n",
    "    def set_model(self, model):\n",
    "        self.__model = model\n",
    "\n",
    "    def set_year(self, year):\n",
    "        self.__year = year\n",
    "\n",
    "    def set_color(self, color):\n",
    "        self.__color = color\n",
    "\n",
    "    def set_mileage(self, mileage):\n",
    "        self.__mileage = mileage\n"
   ]
  },
  {
   "cell_type": "code",
   "execution_count": 36,
   "id": "6f7a08a1-45bf-4637-bfe0-c84c7a443570",
   "metadata": {},
   "outputs": [],
   "source": [
    "car_obj=Car(\"honda\",\"city\",2023,\"blue\",20)\n",
    "        "
   ]
  },
  {
   "cell_type": "code",
   "execution_count": 37,
   "id": "1b68609d-a3fd-4686-bf38-70f3f596ad18",
   "metadata": {},
   "outputs": [
    {
     "data": {
      "text/plain": [
       "'honda'"
      ]
     },
     "execution_count": 37,
     "metadata": {},
     "output_type": "execute_result"
    }
   ],
   "source": [
    "car_obj._Car__make\n",
    "        "
   ]
  },
  {
   "cell_type": "code",
   "execution_count": 38,
   "id": "85291da2-4fa5-426a-8f0d-367d70644f4e",
   "metadata": {},
   "outputs": [],
   "source": [
    "car_obj.set_make(\"toyota\")"
   ]
  },
  {
   "cell_type": "code",
   "execution_count": 39,
   "id": "1bf77b45-15a3-4d83-9e86-003a53a08065",
   "metadata": {},
   "outputs": [
    {
     "data": {
      "text/plain": [
       "'toyota'"
      ]
     },
     "execution_count": 39,
     "metadata": {},
     "output_type": "execute_result"
    }
   ],
   "source": [
    "car_obj._Car__make"
   ]
  },
  {
   "cell_type": "code",
   "execution_count": 40,
   "id": "2a69153e-e1da-4385-8a5d-c5a7357ecb8a",
   "metadata": {},
   "outputs": [
    {
     "data": {
      "text/plain": [
       "'toyota'"
      ]
     },
     "execution_count": 40,
     "metadata": {},
     "output_type": "execute_result"
    }
   ],
   "source": [
    "car_obj.get_make()"
   ]
  },
  {
   "cell_type": "code",
   "execution_count": 41,
   "id": "5ff0cf55-4517-4958-bfc6-ebcc2000b7a0",
   "metadata": {},
   "outputs": [
    {
     "name": "stdout",
     "output_type": "stream",
     "text": [
      "30\n"
     ]
    }
   ],
   "source": [
    "x=10\n",
    "y=20\n",
    "if x==10:\n",
    "    x=x+y\n",
    "print(x)"
   ]
  },
  {
   "cell_type": "code",
   "execution_count": 42,
   "id": "b2304b34-5aec-4b6d-89e6-392362e45fd8",
   "metadata": {},
   "outputs": [],
   "source": [
    "def print_square(x):\n",
    "    print(x*x)"
   ]
  },
  {
   "cell_type": "code",
   "execution_count": 43,
   "id": "3d90a4bf-9b9f-40fd-8f55-626f8a91fa74",
   "metadata": {},
   "outputs": [
    {
     "name": "stdout",
     "output_type": "stream",
     "text": [
      "100\n"
     ]
    }
   ],
   "source": [
    "print_square(10)"
   ]
  },
  {
   "cell_type": "code",
   "execution_count": 44,
   "id": "b13cc2bd-fa61-4693-b2a2-4b95345abebe",
   "metadata": {},
   "outputs": [],
   "source": [
    "class Car:\n",
    "    def __init__(self, color, model):\n",
    "\n",
    "        self.color = color\n",
    "\n",
    "        self.model = model\n",
    "\n",
    "    def get_color(self):\n",
    "\n",
    "        return self.color"
   ]
  },
  {
   "cell_type": "code",
   "execution_count": 45,
   "id": "72424132-cee2-414f-aecf-bed77737cdb7",
   "metadata": {},
   "outputs": [
    {
     "name": "stdout",
     "output_type": "stream",
     "text": [
      "red\n"
     ]
    }
   ],
   "source": [
    "my_car = Car(\"red\", \"sedan\")\n",
    "\n",
    "print(my_car.get_color())"
   ]
  },
  {
   "cell_type": "code",
   "execution_count": 46,
   "id": "15ff0336-d572-43c0-a934-601d3f7149ac",
   "metadata": {},
   "outputs": [],
   "source": [
    "my_dict = {\"a\": 1, \"b\": 2, \"c\": 3}\n",
    "\n",
    "my_set = set(my_dict.keys())"
   ]
  },
  {
   "cell_type": "code",
   "execution_count": 47,
   "id": "bb3928fe-dd93-460d-b30c-69be1797a61f",
   "metadata": {},
   "outputs": [
    {
     "data": {
      "text/plain": [
       "{'a', 'b', 'c'}"
      ]
     },
     "execution_count": 47,
     "metadata": {},
     "output_type": "execute_result"
    }
   ],
   "source": [
    "my_set"
   ]
  },
  {
   "cell_type": "code",
   "execution_count": 48,
   "id": "84db921e-bb11-4f89-a246-5ce3b7489391",
   "metadata": {},
   "outputs": [],
   "source": [
    "my_set.add(\"d\")"
   ]
  },
  {
   "cell_type": "code",
   "execution_count": 49,
   "id": "d5c6126d-4917-4529-b981-d0611e71778c",
   "metadata": {},
   "outputs": [
    {
     "data": {
      "text/plain": [
       "{'a': 1, 'b': 2, 'c': 3}"
      ]
     },
     "execution_count": 49,
     "metadata": {},
     "output_type": "execute_result"
    }
   ],
   "source": [
    "my_dict"
   ]
  },
  {
   "cell_type": "code",
   "execution_count": 50,
   "id": "a1d96b6d-10af-4e03-bb23-b996dcbf6b5e",
   "metadata": {},
   "outputs": [
    {
     "name": "stdout",
     "output_type": "stream",
     "text": [
      "x is less than 20\n"
     ]
    }
   ],
   "source": [
    "x = 10\n",
    "\n",
    "if x < 20:\n",
    "\n",
    "    print(\"x is less than 20\")\n",
    "\n",
    "else:\n",
    "\n",
    "    print(\"x is greater than or equal to 20\")"
   ]
  },
  {
   "cell_type": "code",
   "execution_count": 51,
   "id": "6a321b80-4fff-4082-a426-4acb43476043",
   "metadata": {},
   "outputs": [
    {
     "name": "stdout",
     "output_type": "stream",
     "text": [
      "1\n",
      "2\n",
      "3\n",
      "4\n"
     ]
    }
   ],
   "source": [
    "i = 1\n",
    "\n",
    "while i < 5:\n",
    "\n",
    "    print(i)\n",
    "\n",
    "    i = i + 1"
   ]
  },
  {
   "cell_type": "code",
   "execution_count": 52,
   "id": "067e2a41-9098-4fd3-bf78-327429eb62ed",
   "metadata": {},
   "outputs": [],
   "source": [
    "a=1"
   ]
  },
  {
   "cell_type": "code",
   "execution_count": 53,
   "id": "2908511d-0ebe-460b-9142-f4787658d391",
   "metadata": {},
   "outputs": [
    {
     "data": {
      "text/plain": [
       "1"
      ]
     },
     "execution_count": 53,
     "metadata": {},
     "output_type": "execute_result"
    }
   ],
   "source": [
    "int(a)"
   ]
  },
  {
   "cell_type": "code",
   "execution_count": 54,
   "id": "f2e436a0-3155-4e5c-af2f-2cb94351313f",
   "metadata": {},
   "outputs": [],
   "source": [
    "None"
   ]
  },
  {
   "cell_type": "code",
   "execution_count": 56,
   "id": "8b74cefd-e350-4e2c-a53d-23d6d4db63e7",
   "metadata": {},
   "outputs": [
    {
     "ename": "ZeroDivisionError",
     "evalue": "division by zero",
     "output_type": "error",
     "traceback": [
      "\u001b[0;31m---------------------------------------------------------------------------\u001b[0m",
      "\u001b[0;31mZeroDivisionError\u001b[0m                         Traceback (most recent call last)",
      "Cell \u001b[0;32mIn[56], line 1\u001b[0m\n\u001b[0;32m----> 1\u001b[0m \u001b[38;5;241;43m1\u001b[39;49m\u001b[38;5;241;43m/\u001b[39;49m\u001b[38;5;28;43;01mFalse\u001b[39;49;00m\n",
      "\u001b[0;31mZeroDivisionError\u001b[0m: division by zero"
     ]
    }
   ],
   "source": [
    "1/False"
   ]
  },
  {
   "cell_type": "code",
   "execution_count": 57,
   "id": "8e0dab01-24bf-43a6-95c5-94470be5a72b",
   "metadata": {},
   "outputs": [
    {
     "data": {
      "text/plain": [
       "(-1+3j)"
      ]
     },
     "execution_count": 57,
     "metadata": {},
     "output_type": "execute_result"
    }
   ],
   "source": [
    "num1= 23\n",
    "\n",
    "num2= 44\n",
    "\n",
    "num2= 2+3j\n",
    "\n",
    "num1= num2.imag\n",
    "\n",
    "num2-num1\n"
   ]
  },
  {
   "cell_type": "code",
   "execution_count": 58,
   "id": "316739e5-ffc4-4578-b023-d77a7e6c2574",
   "metadata": {},
   "outputs": [
    {
     "data": {
      "text/plain": [
       "'Pwskills1'"
      ]
     },
     "execution_count": 58,
     "metadata": {},
     "output_type": "execute_result"
    }
   ],
   "source": [
    "'Pwskills' + str(1)"
   ]
  },
  {
   "cell_type": "code",
   "execution_count": 59,
   "id": "7bc5fac8-87ae-4e62-876d-337ab8b24e89",
   "metadata": {},
   "outputs": [],
   "source": [
    "  \n",
    "Num_100=123     \n",
    "_pw_skills=12345"
   ]
  },
  {
   "cell_type": "code",
   "execution_count": 60,
   "id": "df65b564-9de4-422d-aada-ebaefec94914",
   "metadata": {},
   "outputs": [
    {
     "data": {
      "text/plain": [
       "'string ghfbvdnc mnk mckjbbbddcbjbk dvfvvd fvfvffv fvfvtbgb fvbbtb rtbtr ggtbfibcvuyrbuvriegiu gf8gv999uiuggbih iufgiugr98v90uv09euf0b igfiug'"
      ]
     },
     "execution_count": 60,
     "metadata": {},
     "output_type": "execute_result"
    }
   ],
   "source": [
    "\"\"\"string ghfbvdnc mnk mckjbbbddcbjbk dvfvvd fvfvffv fvfvtbgb fvbbtb rtbtr ggtbfibcvuyrbuvriegiu gf8gv999uiuggbih iufgiugr98v90uv09euf0b igfiug\"\"\""
   ]
  },
  {
   "cell_type": "code",
   "execution_count": 61,
   "id": "e0f7a149-69bb-4ca9-9b4a-781039cc116a",
   "metadata": {},
   "outputs": [
    {
     "ename": "TypeError",
     "evalue": "'str' object does not support item assignment",
     "output_type": "error",
     "traceback": [
      "\u001b[0;31m---------------------------------------------------------------------------\u001b[0m",
      "\u001b[0;31mTypeError\u001b[0m                                 Traceback (most recent call last)",
      "Cell \u001b[0;32mIn[61], line 3\u001b[0m\n\u001b[1;32m      1\u001b[0m Name \u001b[38;5;241m=\u001b[39m \u001b[38;5;124m'\u001b[39m\u001b[38;5;124mpwskill\u001b[39m\u001b[38;5;124m'\u001b[39m\n\u001b[0;32m----> 3\u001b[0m \u001b[43mName\u001b[49m\u001b[43m[\u001b[49m\u001b[38;5;241;43m0\u001b[39;49m\u001b[43m]\u001b[49m \u001b[38;5;241m=\u001b[39m \u001b[38;5;124m'\u001b[39m\u001b[38;5;124mP\u001b[39m\u001b[38;5;124m'\u001b[39m\n",
      "\u001b[0;31mTypeError\u001b[0m: 'str' object does not support item assignment"
     ]
    }
   ],
   "source": [
    "Name = 'pwskill'\n",
    "\n",
    "Name[0] = 'P'"
   ]
  },
  {
   "cell_type": "code",
   "execution_count": 62,
   "id": "aff63f07-7668-43fe-973c-48e24e0bd254",
   "metadata": {},
   "outputs": [
    {
     "data": {
      "text/plain": [
       "True"
      ]
     },
     "execution_count": 62,
     "metadata": {},
     "output_type": "execute_result"
    }
   ],
   "source": [
    "'pwskills'.upper().lower().isalnum()"
   ]
  },
  {
   "cell_type": "code",
   "execution_count": 63,
   "id": "a602aebc-aa53-450e-83e4-7ede431f966a",
   "metadata": {},
   "outputs": [
    {
     "ename": "ZeroDivisionError",
     "evalue": "division by zero",
     "output_type": "error",
     "traceback": [
      "\u001b[0;31m---------------------------------------------------------------------------\u001b[0m",
      "\u001b[0;31mZeroDivisionError\u001b[0m                         Traceback (most recent call last)",
      "Cell \u001b[0;32mIn[63], line 1\u001b[0m\n\u001b[0;32m----> 1\u001b[0m \u001b[38;5;28;43;01mTrue\u001b[39;49;00m\u001b[38;5;241;43m/\u001b[39;49m\u001b[43m \u001b[49m\u001b[38;5;28;43;01mFalse\u001b[39;49;00m\n",
      "\u001b[0;31mZeroDivisionError\u001b[0m: division by zero"
     ]
    }
   ],
   "source": [
    "True/ False"
   ]
  },
  {
   "cell_type": "code",
   "execution_count": 64,
   "id": "3118741a-ad06-4ebd-b2e3-99a843d38761",
   "metadata": {},
   "outputs": [
    {
     "name": "stdout",
     "output_type": "stream",
     "text": [
      "PwSkills\n",
      "PwSkills\n"
     ]
    }
   ],
   "source": [
    "for course in ['Data Science Masters', 'ML', 'data science masters', 'DL']:\n",
    "\n",
    "    if len(course)!= 2:\n",
    "\n",
    "        print('PwSkills' , )"
   ]
  },
  {
   "cell_type": "code",
   "execution_count": 65,
   "id": "2253af21-e6b4-4c42-a1ae-4c0ffe77c54c",
   "metadata": {},
   "outputs": [
    {
     "name": "stdout",
     "output_type": "stream",
     "text": [
      "105\n"
     ]
    }
   ],
   "source": [
    "sum = 0\n",
    "\n",
    "for i in range(1,100):\n",
    "\n",
    "    sum += i\n",
    "\n",
    "    if sum > 100:\n",
    "\n",
    "        break\n",
    "\n",
    "print(sum)"
   ]
  },
  {
   "cell_type": "code",
   "execution_count": 70,
   "id": "ddcb80ca-36e2-4939-adf1-1bacfd5e78a8",
   "metadata": {},
   "outputs": [
    {
     "name": "stdout",
     "output_type": "stream",
     "text": [
      "110\n"
     ]
    }
   ],
   "source": [
    "num = 2\n",
    "\n",
    "sum = 0\n",
    "\n",
    "count= 0\n",
    "\n",
    "while num <=20:\n",
    "\n",
    "    sum += num\n",
    "\n",
    "    num += 2\n",
    "\n",
    "    count +=1\n",
    "\n",
    "print(sum)"
   ]
  },
  {
   "cell_type": "code",
   "execution_count": 71,
   "id": "2ceee3df-52ca-4b68-875c-ec53f8225b98",
   "metadata": {},
   "outputs": [
    {
     "name": "stdout",
     "output_type": "stream",
     "text": [
      "True\n"
     ]
    }
   ],
   "source": [
    "for i in 'Pwskills':\n",
    "\n",
    "    if i.lower() in ['a', 'e', 'i', 'o', 'u']:\n",
    "\n",
    "        print(True)"
   ]
  },
  {
   "cell_type": "code",
   "execution_count": 72,
   "id": "2bd53247-244b-4bfb-af68-665b95aeaa3d",
   "metadata": {},
   "outputs": [
    {
     "name": "stdout",
     "output_type": "stream",
     "text": [
      "['0', '10', '20', '30', '40', '50']\n"
     ]
    }
   ],
   "source": [
    "list_out=[]\n",
    "\n",
    "for i in range(0,51,10):\n",
    "\n",
    "    list_out.append(str(i))\n",
    "\n",
    "print(list_out)"
   ]
  },
  {
   "cell_type": "code",
   "execution_count": 73,
   "id": "7994d417-83df-439a-ac93-39fb01ce1f08",
   "metadata": {},
   "outputs": [
    {
     "data": {
      "text/plain": [
       "True"
      ]
     },
     "execution_count": 73,
     "metadata": {},
     "output_type": "execute_result"
    }
   ],
   "source": [
    "True or False and True"
   ]
  },
  {
   "cell_type": "code",
   "execution_count": 74,
   "id": "b7478412-87f5-4fce-9569-f92f17d3788a",
   "metadata": {},
   "outputs": [
    {
     "data": {
      "text/plain": [
       "False"
      ]
     },
     "execution_count": 74,
     "metadata": {},
     "output_type": "execute_result"
    }
   ],
   "source": [
    "not(True) or False and True"
   ]
  },
  {
   "cell_type": "code",
   "execution_count": 75,
   "id": "f909a4e5-07aa-4975-a0de-9cef3eec5846",
   "metadata": {},
   "outputs": [
    {
     "data": {
      "text/plain": [
       "False"
      ]
     },
     "execution_count": 75,
     "metadata": {},
     "output_type": "execute_result"
    }
   ],
   "source": [
    "False or False and not(True)"
   ]
  },
  {
   "cell_type": "code",
   "execution_count": 76,
   "id": "c370ea6b-51ab-403d-a29e-146429163ed3",
   "metadata": {},
   "outputs": [
    {
     "data": {
      "text/plain": [
       "'p w s k i l l s'"
      ]
     },
     "execution_count": 76,
     "metadata": {},
     "output_type": "execute_result"
    }
   ],
   "source": [
    "string = \"p w s k i l l s\"\n",
    "\n",
    "\" \".join(string.replace(\" \", \"\"))"
   ]
  },
  {
   "cell_type": "code",
   "execution_count": 77,
   "id": "075d9ed3-5578-48d4-9c21-acf6a6cab96a",
   "metadata": {},
   "outputs": [
    {
     "name": "stdout",
     "output_type": "stream",
     "text": [
      "I\n",
      "Want\n",
      "To\n",
      "Become\n",
      "A\n",
      "Data\n",
      "Scientist\n"
     ]
    }
   ],
   "source": [
    "s = \"I want to become a data scientist\"\n",
    "\n",
    "for i in s.split():\n",
    "\n",
    "    i.capitalize()\n",
    "\n",
    "    print(i.title())"
   ]
  },
  {
   "cell_type": "code",
   "execution_count": 78,
   "id": "64b48bc0-6482-4b87-91e6-4cb8e2afaae9",
   "metadata": {},
   "outputs": [
    {
     "data": {
      "text/plain": [
       "True"
      ]
     },
     "execution_count": 78,
     "metadata": {},
     "output_type": "execute_result"
    }
   ],
   "source": [
    "\"pwskills\"[::-1].upper().replace(\"SLLIKSWP\", \"pwskills\").islower()"
   ]
  },
  {
   "cell_type": "code",
   "execution_count": 79,
   "id": "3427a560-a338-427c-87a2-49c1f86e477e",
   "metadata": {},
   "outputs": [
    {
     "name": "stdout",
     "output_type": "stream",
     "text": [
      "400\n"
     ]
    }
   ],
   "source": [
    "atuple = (100, 200, 300, 400, 500)\n",
    "\n",
    "print(atuple[-2])"
   ]
  },
  {
   "cell_type": "code",
   "execution_count": 80,
   "id": "f4c6fb51-42bf-4e7b-ac47-57bd023967dc",
   "metadata": {},
   "outputs": [
    {
     "name": "stdout",
     "output_type": "stream",
     "text": [
      "(200, 300, 400)\n"
     ]
    }
   ],
   "source": [
    "print(atuple[-4:-1])\n",
    "\n",
    " "
   ]
  },
  {
   "cell_type": "code",
   "execution_count": 81,
   "id": "c2a4602f-50bf-4932-b384-0dffaec7c60d",
   "metadata": {},
   "outputs": [
    {
     "name": "stdout",
     "output_type": "stream",
     "text": [
      "<class 'str'>\n"
     ]
    }
   ],
   "source": [
    "atuple = (\"Orange\")\n",
    "\n",
    "print(type(atuple))"
   ]
  },
  {
   "cell_type": "code",
   "execution_count": 82,
   "id": "b82909e0-a97b-4478-98b4-2e1c95c6771d",
   "metadata": {},
   "outputs": [
    {
     "name": "stdout",
     "output_type": "stream",
     "text": [
      "(100, 100)\n"
     ]
    }
   ],
   "source": [
    "atuple = (100,)\n",
    "\n",
    "print(atuple * 2)"
   ]
  },
  {
   "cell_type": "code",
   "execution_count": 83,
   "id": "67762864-f0d3-43a9-98bc-db45f997ab51",
   "metadata": {},
   "outputs": [
    {
     "name": "stdout",
     "output_type": "stream",
     "text": [
      "8000\n"
     ]
    }
   ],
   "source": [
    "dict1 = {\"name\": \"Mike\", \"salary\": 8000}\n",
    "\n",
    "temp = dict1.get(\"salary\")\n",
    "\n",
    "print(temp)"
   ]
  },
  {
   "cell_type": "code",
   "execution_count": 84,
   "id": "9aeab393-78e5-435c-a790-df045633bbe0",
   "metadata": {},
   "outputs": [],
   "source": [
    "set1 = {21,34,56,78}\n"
   ]
  },
  {
   "cell_type": "code",
   "execution_count": 86,
   "id": "05fdc2c5-dcf1-4e65-b21d-cef6a76fd4b4",
   "metadata": {},
   "outputs": [
    {
     "data": {
      "text/plain": [
       "{21, 34, 56, 78}"
      ]
     },
     "execution_count": 86,
     "metadata": {},
     "output_type": "execute_result"
    }
   ],
   "source": [
    "set1"
   ]
  },
  {
   "cell_type": "code",
   "execution_count": 87,
   "id": "470f5cd8-54ef-4605-8b74-cf65cc6cacb6",
   "metadata": {},
   "outputs": [],
   "source": [
    "set2 = set1.copy()"
   ]
  },
  {
   "cell_type": "code",
   "execution_count": 88,
   "id": "4d6aaea2-3558-4df2-b84f-edec11a966c3",
   "metadata": {},
   "outputs": [
    {
     "data": {
      "text/plain": [
       "{21, 34, 56, 78}"
      ]
     },
     "execution_count": 88,
     "metadata": {},
     "output_type": "execute_result"
    }
   ],
   "source": [
    "set2"
   ]
  },
  {
   "cell_type": "code",
   "execution_count": null,
   "id": "8fb22d33-d537-462f-af6a-7e9e12d55610",
   "metadata": {},
   "outputs": [],
   "source": [
    "def mk(x):\n",
    "\n",
    "    def mk1():\n",
    "\n",
    "        print(\"Decorated\")\n",
    "\n",
    "        x()\n",
    "\n",
    "    return mk1\n",
    "\n"
   ]
  },
  {
   "cell_type": "code",
   "execution_count": null,
   "id": "85967167-5489-4d50-a500-ec8248db46b8",
   "metadata": {},
   "outputs": [],
   "source": []
  },
  {
   "cell_type": "code",
   "execution_count": null,
   "id": "3a6c7d71-606a-4fde-b1ae-3e5d9c0a5e7a",
   "metadata": {},
   "outputs": [],
   "source": []
  }
 ],
 "metadata": {
  "kernelspec": {
   "display_name": "Python 3.8.10 64-bit",
   "language": "python",
   "name": "python3"
  },
  "language_info": {
   "codemirror_mode": {
    "name": "ipython",
    "version": 3
   },
   "file_extension": ".py",
   "mimetype": "text/x-python",
   "name": "python",
   "nbconvert_exporter": "python",
   "pygments_lexer": "ipython3",
   "version": "3.8.10"
  },
  "vscode": {
   "interpreter": {
    "hash": "e7370f93d1d0cde622a1f8e1c04877d8463912d04d973331ad4851f04de6915a"
   }
  }
 },
 "nbformat": 4,
 "nbformat_minor": 5
}
