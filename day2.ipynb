{
 "cells": [
  {
   "cell_type": "code",
   "execution_count": 1,
   "id": "6a105b07-d681-4f55-9236-6307321d572b",
   "metadata": {},
   "outputs": [
    {
     "data": {
      "text/plain": [
       "'<built-in function abs>'"
      ]
     },
     "execution_count": 1,
     "metadata": {},
     "output_type": "execute_result"
    }
   ],
   "source": [
    "str(abs)"
   ]
  },
  {
   "cell_type": "code",
   "execution_count": 2,
   "id": "4888df9b-3a94-49d9-a485-abc8010d2e16",
   "metadata": {},
   "outputs": [
    {
     "name": "stdout",
     "output_type": "stream",
     "text": [
      "my age is:  24\n"
     ]
    }
   ],
   "source": [
    "age=24\n",
    "print(\"my age is: \",age)"
   ]
  },
  {
   "cell_type": "code",
   "execution_count": 3,
   "id": "c3784e6b-434b-4c5f-ab79-fb890e7b3051",
   "metadata": {},
   "outputs": [
    {
     "name": "stdout",
     "output_type": "stream",
     "text": [
      "1234\n"
     ]
    }
   ],
   "source": [
    "print('1234')"
   ]
  },
  {
   "cell_type": "code",
   "execution_count": 4,
   "id": "a63e8dbc-695a-4162-a2c7-ec0dc7f684c7",
   "metadata": {},
   "outputs": [
    {
     "name": "stdout",
     "output_type": "stream",
     "text": [
      "my age is: 24\n"
     ]
    }
   ],
   "source": [
    "## fstring \n",
    "age=24\n",
    "print(f\"my age is: {age}\")"
   ]
  },
  {
   "cell_type": "markdown",
   "id": "bb01523c",
   "metadata": {},
   "source": [
    "## format()\n",
    "age=24\n",
    "name= \"susheel\"\n",
    "print('my name is {} and age is {}'.format(name,age))"
   ]
  },
  {
   "cell_type": "code",
   "execution_count": 14,
   "id": "7afeea6d-bba5-4322-8edd-a1b2b29c3858",
   "metadata": {},
   "outputs": [
    {
     "name": "stdout",
     "output_type": "stream",
     "text": [
      "My age is:24 and i have completed degree in: Btech-Chemical Engineering with name: Susheel Kumar Yadav\n"
     ]
    }
   ],
   "source": [
    "age=24\n",
    "name=\"susheel kumar yadav\"\n",
    "degree=\"btech-chemical engineering\"\n",
    "print(\"My age is:{} and i have completed degree in: {} with name: {}\".format(age,degree.title(),name.title()))"
   ]
  },
  {
   "cell_type": "markdown",
   "id": "ef3b2a52-f2a0-45b8-8d4c-9fa3b5db85d2",
   "metadata": {},
   "source": [
    "## control flow\n",
    "### decision making statements"
   ]
  },
  {
   "cell_type": "code",
   "execution_count": 15,
   "id": "d78cbd87-e828-4553-96bc-deeab63ff59d",
   "metadata": {},
   "outputs": [
    {
     "name": "stdout",
     "output_type": "stream",
     "text": [
      "u r eligible to vote\n"
     ]
    }
   ],
   "source": [
    "##if statements\n",
    "age=18\n",
    "if age>=18:\n",
    "    print(\"u r eligible to vote\")"
   ]
  },
  {
   "cell_type": "code",
   "execution_count": 16,
   "id": "2a9b1f6d-3757-410b-97a5-5058320cedb4",
   "metadata": {},
   "outputs": [
    {
     "name": "stdout",
     "output_type": "stream",
     "text": [
      "not eligible\n"
     ]
    }
   ],
   "source": [
    "##if statements\n",
    "age=16\n",
    "if age>=18:\n",
    "    print(\"u r eligible to vote\")\n",
    "else:\n",
    "    print(\"not eligible\")"
   ]
  },
  {
   "cell_type": "code",
   "execution_count": 2,
   "id": "c11fb627-4988-416c-aa8f-e13ef811246c",
   "metadata": {},
   "outputs": [],
   "source": [
    "## for taking input\n",
    "input(\"enter ur name\")"
   ]
  },
  {
   "cell_type": "code",
   "execution_count": 2,
   "id": "edcf833d-902d-4ef2-954e-739c330890b8",
   "metadata": {},
   "outputs": [],
   "source": [
    "## for taking input as integer value\n",
    "int(input(\"enter age\"))"
   ]
  },
  {
   "cell_type": "code",
   "execution_count": 32,
   "id": "4ed894af-82ab-4411-82b5-f7b435722e8b",
   "metadata": {},
   "outputs": [
    {
     "data": {
      "text/plain": [
       "int"
      ]
     },
     "execution_count": 32,
     "metadata": {},
     "output_type": "execute_result"
    }
   ],
   "source": [
    "type(age)"
   ]
  },
  {
   "cell_type": "code",
   "execution_count": 1,
   "id": "9bdd79e7-1ea4-4e9c-832b-cba2102cfc0d",
   "metadata": {},
   "outputs": [],
   "source": [
    "age=int(input(\"age\"))\n",
    "if age>=18 and age<=45:\n",
    "\n",
    "    print(\"u are young blood\")"
   ]
  },
  {
   "cell_type": "code",
   "execution_count": 42,
   "id": "d631cac9-c307-4d8d-8df8-d9f3d8d04f70",
   "metadata": {},
   "outputs": [
    {
     "name": "stdout",
     "output_type": "stream",
     "text": [
      "age 54\n"
     ]
    },
    {
     "name": "stdout",
     "output_type": "stream",
     "text": [
      "thanku\n"
     ]
    }
   ],
   "source": [
    "##if else \n",
    "age=int(input(\"age\"))\n",
    "if age>=18 and age<=45:\n",
    "\n",
    "    print(\"u are young blood\")\n",
    "else:\n",
    "    print(\"thanku\")"
   ]
  },
  {
   "cell_type": "code",
   "execution_count": 54,
   "id": "ce05e22b-7d96-4fe9-a506-aa9601f59959",
   "metadata": {},
   "outputs": [
    {
     "name": "stdout",
     "output_type": "stream",
     "text": [
      "enter product price 110000\n"
     ]
    },
    {
     "name": "stdout",
     "output_type": "stream",
     "text": [
      "product price is 88000.0\n"
     ]
    }
   ],
   "source": [
    "product_price=int(input(\"enter product price\"))\n",
    "if product_price>=10000:\n",
    "    print(\"product price is {}\".format(product_price*0.8))\n",
    "else:\n",
    "    print(\"product price is {} \".format(product_price*0.7))\n",
    "    "
   ]
  },
  {
   "cell_type": "code",
   "execution_count": 55,
   "id": "d774a981-7025-49d9-9cb5-51b6001cbd69",
   "metadata": {},
   "outputs": [
    {
     "name": "stdout",
     "output_type": "stream",
     "text": [
      "enter product price 1000\n"
     ]
    },
    {
     "name": "stdout",
     "output_type": "stream",
     "text": [
      "product price is 900.0\n"
     ]
    }
   ],
   "source": [
    "product_price=int(input(\"enter product price\"))\n",
    "if product_price>=30000:\n",
    "    print(\"product price is {}\".format(product_price*0.7))\n",
    "elif product_price>=20000 and product_price<=30000:\n",
    "    print(\"product price is {} \".format(product_price*0.8))\n",
    "else:\n",
    "    print(\"product price is {}\".format(product_price*0.9))\n",
    "    "
   ]
  },
  {
   "cell_type": "markdown",
   "id": "e6449b31-e075-493d-a1dc-f7690baefb5a",
   "metadata": {},
   "source": [
    "## loops\n",
    "### while loop"
   ]
  },
  {
   "cell_type": "code",
   "execution_count": 1,
   "id": "6cad7660-8fb0-435d-aa7d-8dd4a8a897b1",
   "metadata": {},
   "outputs": [
    {
     "name": "stdout",
     "output_type": "stream",
     "text": [
      "100000\n",
      "90000\n",
      "80000\n",
      "70000\n",
      "60000\n",
      "50000\n",
      "40000\n",
      "30000\n",
      "20000\n",
      "10000\n",
      "contact bank\n"
     ]
    }
   ],
   "source": [
    "total_amount=100000\n",
    "while total_amount!=0:\n",
    "    print(total_amount)\n",
    "    total_amount=total_amount-10000\n",
    "else:\n",
    "    print(\"contact bank\")\n"
   ]
  },
  {
   "cell_type": "markdown",
   "id": "eb0d3e5e-c9ea-4df9-96c8-f2089106e66f",
   "metadata": {},
   "source": [
    "\n",
    "### for loop"
   ]
  },
  {
   "cell_type": "code",
   "execution_count": 3,
   "id": "1d14e408-8798-4dd7-9231-7fe561c73df5",
   "metadata": {},
   "outputs": [
    {
     "name": "stdout",
     "output_type": "stream",
     "text": [
      "b\n",
      "a\n",
      "n\n",
      "a\n",
      "n\n",
      "a\n"
     ]
    }
   ],
   "source": [
    "fruit='banana'\n",
    "for a in fruit:\n",
    "    print(a)"
   ]
  },
  {
   "cell_type": "code",
   "execution_count": 4,
   "id": "55728d4a-a9fd-47c0-942f-482dff9c9cd5",
   "metadata": {},
   "outputs": [
    {
     "name": "stdout",
     "output_type": "stream",
     "text": [
      "banana"
     ]
    }
   ],
   "source": [
    "fruit='banana'\n",
    "for a in fruit:\n",
    "    print(a,end='')"
   ]
  },
  {
   "cell_type": "code",
   "execution_count": 5,
   "id": "614425bc-d334-4ff4-b238-902451f93da7",
   "metadata": {},
   "outputs": [
    {
     "name": "stdout",
     "output_type": "stream",
     "text": [
      "b\n",
      "a\n",
      "letter n in banana\n",
      "n\n",
      "a\n",
      "letter n in banana\n",
      "n\n",
      "a\n"
     ]
    }
   ],
   "source": [
    "fruit='banana'\n",
    "for i in fruit:\n",
    "    if i=='n':\n",
    "        print('letter n in banana')\n",
    "    print(i)"
   ]
  },
  {
   "cell_type": "code",
   "execution_count": 6,
   "id": "24d2703f-0883-4fa3-a4df-19e15d270adb",
   "metadata": {},
   "outputs": [
    {
     "name": "stdout",
     "output_type": "stream",
     "text": [
      "b\n",
      "a\n",
      "letter n in banana\n"
     ]
    }
   ],
   "source": [
    "fruit='banana'\n",
    "for a in fruit:\n",
    "    if a=='n':\n",
    "        print('letter n in banana')\n",
    "        break\n",
    "    print(a)"
   ]
  },
  {
   "cell_type": "code",
   "execution_count": 8,
   "id": "f7815876-7e92-40ca-aa41-9030665b3d40",
   "metadata": {},
   "outputs": [
    {
     "name": "stdout",
     "output_type": "stream",
     "text": [
      "b\n",
      "a\n",
      "letter n in banana\n",
      "a\n",
      "letter n in banana\n",
      "a\n"
     ]
    }
   ],
   "source": [
    "fruit='banana'\n",
    "for a in fruit:\n",
    "    if a=='n':\n",
    "        print('letter n in banana')\n",
    "        continue\n",
    "    print(a)"
   ]
  },
  {
   "cell_type": "code",
   "execution_count": 11,
   "id": "902845d4-5e59-4b24-aa71-2610adb87a0f",
   "metadata": {},
   "outputs": [
    {
     "data": {
      "text/plain": [
       "'b'"
      ]
     },
     "execution_count": 11,
     "metadata": {},
     "output_type": "execute_result"
    }
   ],
   "source": [
    "fruit[0]"
   ]
  },
  {
   "cell_type": "markdown",
   "id": "3f680767-eff4-455a-8a49-747ff0976eea",
   "metadata": {},
   "source": [
    "### nested loop"
   ]
  },
  {
   "cell_type": "code",
   "execution_count": 12,
   "id": "33e0258a-ca3d-4b49-8308-a5a63322ff7a",
   "metadata": {},
   "outputs": [
    {
     "name": "stdout",
     "output_type": "stream",
     "text": [
      "1\n",
      "2\n",
      "3\n",
      "4\n",
      "5\n",
      "6\n",
      "7\n",
      "8\n",
      "9\n"
     ]
    }
   ],
   "source": [
    "for i in range(1,10):\n",
    "    print(i)"
   ]
  },
  {
   "cell_type": "code",
   "execution_count": 13,
   "id": "439d12f2-a914-443f-8886-24b163b2c72d",
   "metadata": {},
   "outputs": [
    {
     "name": "stdout",
     "output_type": "stream",
     "text": [
      "1\n",
      "4\n",
      "7\n"
     ]
    }
   ],
   "source": [
    "for i in range(1,10,3):\n",
    "    print(i)"
   ]
  },
  {
   "cell_type": "code",
   "execution_count": 16,
   "id": "30d32314-9924-47aa-a440-a30903509e0d",
   "metadata": {},
   "outputs": [
    {
     "name": "stdout",
     "output_type": "stream",
     "text": [
      "*\n",
      "**\n",
      "***\n",
      "****\n",
      "*****\n",
      "******\n",
      "*******\n",
      "********\n",
      "*********\n",
      "**********\n"
     ]
    }
   ],
   "source": [
    "n=10\n",
    "for i in range(0,n):\n",
    "    for j in range(0,i+1):\n",
    "        print('*',end='')\n",
    "    print('\\r') ##carriage return"
   ]
  },
  {
   "cell_type": "code",
   "execution_count": 17,
   "id": "4b5a987d-95c4-4cd9-9a8f-bfdb6b6acdf4",
   "metadata": {},
   "outputs": [
    {
     "name": "stdout",
     "output_type": "stream",
     "text": [
      "         *\n",
      "        ***\n",
      "       *****\n",
      "      *******\n",
      "     *********\n",
      "    ***********\n",
      "   *************\n",
      "  ***************\n",
      " *****************\n",
      "*******************\n"
     ]
    }
   ],
   "source": [
    "n=10\n",
    "for i in range(0,n):\n",
    "    for j in range(0,n-i - 1):\n",
    "        print(' ',end='')\n",
    "    for j in range(0,2*i + 1):\n",
    "        print('*',end='')\n",
    "    print(\"\\r\")"
   ]
  },
  {
   "cell_type": "code",
   "execution_count": 18,
   "id": "65a54b68-10e1-4fa2-8a10-d0fa0e4a08cc",
   "metadata": {},
   "outputs": [
    {
     "name": "stdout",
     "output_type": "stream",
     "text": [
      "         *\n",
      "        **\n",
      "       ***\n",
      "      ****\n",
      "     *****\n",
      "    ******\n",
      "   *******\n",
      "  ********\n",
      " *********\n",
      "**********\n"
     ]
    }
   ],
   "source": [
    "n=10\n",
    "for i in range(0,n):\n",
    "    for j in range(0,n-i - 1):\n",
    "        print(' ',end='')\n",
    "    for j in range(0,i + 1):\n",
    "        print('*',end='')\n",
    "    print(\"\\r\")"
   ]
  },
  {
   "cell_type": "code",
   "execution_count": 19,
   "id": "c19d1154-2f00-4b1e-aec0-2811dd45c2d1",
   "metadata": {},
   "outputs": [
    {
     "name": "stdout",
     "output_type": "stream",
     "text": [
      "*\n",
      "**\n",
      " ***\n",
      "  ****\n",
      "   *****\n",
      "    ******\n",
      "     *******\n",
      "      ********\n",
      "       *********\n",
      "        **********\n"
     ]
    }
   ],
   "source": [
    "n=10\n",
    "for i in range(0,n):\n",
    "    for j in range(0,i - 1):\n",
    "        print(' ',end='')\n",
    "    for j in range(0,i + 1):\n",
    "        print('*',end='')\n",
    "    print(\"\\r\")"
   ]
  },
  {
   "cell_type": "code",
   "execution_count": 45,
   "id": "fdf264bc-444a-4298-80da-794aef408961",
   "metadata": {},
   "outputs": [
    {
     "name": "stdout",
     "output_type": "stream",
     "text": [
      "          "
     ]
    }
   ],
   "source": []
  },
  {
   "cell_type": "code",
   "execution_count": null,
   "id": "b930c63e-5645-4f87-83f8-b6bf698f6698",
   "metadata": {},
   "outputs": [],
   "source": []
  }
 ],
 "metadata": {
  "kernelspec": {
   "display_name": "Python 3.8.10 64-bit",
   "language": "python",
   "name": "python3"
  },
  "language_info": {
   "codemirror_mode": {
    "name": "ipython",
    "version": 3
   },
   "file_extension": ".py",
   "mimetype": "text/x-python",
   "name": "python",
   "nbconvert_exporter": "python",
   "pygments_lexer": "ipython3",
   "version": "3.8.10"
  },
  "vscode": {
   "interpreter": {
    "hash": "e7370f93d1d0cde622a1f8e1c04877d8463912d04d973331ad4851f04de6915a"
   }
  }
 },
 "nbformat": 4,
 "nbformat_minor": 5
}
